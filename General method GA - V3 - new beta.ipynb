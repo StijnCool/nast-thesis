{
 "cells": [
  {
   "cell_type": "markdown",
   "id": "df58e9c2-5157-4c3e-ac20-016f27a99387",
   "metadata": {},
   "source": [
    "## Conventions \n",
    "$ \\alpha_1 \\rightarrow \\texttt{alpha1},\\quad \n",
    "\\alpha_u \\rightarrow \\texttt{alpha_u},\\quad \n",
    "\\alpha_* \\rightarrow \\texttt{alpha_fp} $ <br>\n",
    "$ \\tilde{\\alpha}_1 \\rightarrow \\texttt{Alpha1},\\quad \n",
    "\\tilde{\\alpha}_u \\rightarrow \\texttt{Alpha_u},\\quad \n",
    "\\tilde{\\alpha}_* \\rightarrow \\texttt{Alpha_fp} $ <br>"
   ]
  },
  {
   "cell_type": "markdown",
   "id": "4731f7ad-f103-41cd-8362-ec6bde8429bc",
   "metadata": {},
   "source": [
    "## Indices \n",
    "$$ \\text{General index for coordinates in theory space:} \\quad n = 1, \\ldots, N; \\quad \\beta^n, g^n, \\partial_n F, \\partial_n \\psi .$$ \\\n",
    "$$ \\text{Index for coordinates on $S_{UV}$:} \\quad \\alpha = 1, \\ldots, M=\\text{dim}(S_{UV}); \\quad \\beta^{\\alpha}, u^{\\alpha} .$$ \\\n",
    "$$ \\text{Index for coordinates that specify the embedding of $S_{UV}$ in $\\mathbb{R}^N$:} \\quad \\mu = 1, \\ldots, N-M; \\quad \\beta^{\\mu}, v^{\\mu}, F_{\\mu}, M_{\\mu}, p_{\\mu} .$$ \\\n",
    "$$ \\text{Index for the basis functions for the generating function and primary index for colocation points:} \\quad i = 1, \\ldots, N_p = \\#\\text{colocation points}; \\quad \\psi^i, p_i, g^{in}_{col} .$$ \\\n",
    "$$ \\text{Secundary (Tertiary) index for colocation points:} \\quad j,k = 1, \\ldots, N_p = \\#\\text{colocation points}; \\quad g^{jn}_{col}, g^{kn}_{\\sim} .$$"
   ]
  },
  {
   "cell_type": "markdown",
   "id": "04219e1f-ca49-4f6b-86cb-7a4b63ce94a9",
   "metadata": {},
   "source": [
    "## Objects\n",
    "$$ \\text{Coordinates in theory space:} \\quad g^n \\mapsto \\{u^{\\alpha}, v^{\\mu} \\}; \\quad \\text{N-dim. (0,1)-tensor} .$$ \\\n",
    "$$ \\text{Beta functions:} \\quad \\beta^n: \\mathbb{R}^N \\mapsto \\mathbb{R}^N; \\quad \\text{N-dim. (0,1)-tensor} .$$ \\\n",
    "$$ \\text{Generating function:} \\quad F_{\\mu}: \\mathbb{R}^N \\mapsto \\mathbb{R}^{N-M}; F_{\\mu} = p_{i \\mu} \\psi^i \\equiv (p\\psi)_{\\mu}; \\quad \\text{(N-M)-dim. (1,0)-tensor} .$$ \\\n",
    "$$ \\text{Basis functions:} \\quad \\psi^i: \\mathbb{R}^N \\mapsto \\mathbb{R}^{N_p}; \\quad \\text{$N_p$-dim. (0,1)-tensor} .$$ \\\n",
    "$$ \\text{Free parameters:} \\quad p_{i \\mu}; \\quad \\text{($N_p \\times$(N-M))-dim. (2,0)-tensor} .$$ \\\n",
    "$$ \\text{Derivatives of generating function:} \\quad (\\partial F)_{n \\mu} \\equiv \\partial_n F_{\\mu}: \\mathbb{R}^N \\mapsto \\mathbb{R}^N \\times \\mathbb{R}^{N-M}; \\partial_n F_{\\mu} = p_{i \\mu}\\partial_n \\psi^i \\equiv (p\\partial \\psi)_{n \\mu}; \\quad \\text{(N$\\times$(N-M))-dim. (2,0)-tensor} .$$ \\\n",
    "$$ \\text{Derivatives of the basis functions:} \\quad (\\partial\\psi)_n^i \\equiv \\partial_n \\psi^i: \\mathbb{R}^N \\mapsto \\mathbb{R}^N \\times \\mathbb{R}^{N_p}; \\quad \\text{(N$\\times N_p$)-dim. (1,1)-tensor} .$$ \\\n",
    "$$ \\text{Master equation:} \\quad M_{\\mu}: \\mathbb{R}^N \\mapsto \\mathbb{R}^{N-M}; M_{\\mu} = (\\partial_n F_{\\mu}) \\beta^n = p_{i \\mu} (\\partial_n \\psi^i) \\beta^n; \\quad \\text{(N-M)-dim. (1,0)-tensor} .$$ \\\n",
    "$$ \\text{Colocation points:} \\quad g_{col}^{in}; \\quad \\text{($N_p\\times$N)-dim. (0,2)-tensor} .$$ \\\n",
    "$$ \\text{Most of these objects have a version specific at the fixed point, denoted by a * sub- or superscript} .$$ \\\n",
    "$$ \\text{Alternatively, they might have a version specific to points around the fixed point, denoted by a $\\sim$ sub- or superscript} .$$"
   ]
  },
  {
   "cell_type": "code",
   "execution_count": 1,
   "id": "e3f54f07-0f75-4189-bf1b-f034784e78c2",
   "metadata": {},
   "outputs": [],
   "source": [
    "## imports\n",
    "import time\n",
    "import math\n",
    "import numpy as np\n",
    "import matplotlib.pyplot as plt\n",
    "import seaborn as sns\n",
    "import pandas as pd\n",
    "import random as r\n",
    "from itertools import product\n",
    "from scipy.optimize import curve_fit\n",
    "\n",
    "## setup\n",
    "np.set_printoptions(linewidth=160)\n"
   ]
  },
  {
   "cell_type": "code",
   "execution_count": 2,
   "id": "8c7df936-2e94-4ce5-b3ef-f6308e2f7205",
   "metadata": {},
   "outputs": [
    {
     "name": "stdout",
     "output_type": "stream",
     "text": [
      "Complexity of order O(Np^1.6)\n"
     ]
    },
    {
     "data": {
      "image/png": "[encoded data removed]",
      "text/plain": [
       "<Figure size 432x288 with 1 Axes>"
      ]
     },
     "metadata": {
      "needs_background": "light"
     },
     "output_type": "display_data"
    }
   ],
   "source": [
    "## Graphs from tests\n",
    "\n",
    "# Runtime of master equation test data\n",
    "def poly(x, a, b, c):\n",
    "    return a*x**c+b\n",
    "td_M = np.zeros((2,20))\n",
    "td_M[0,:] = np.square(np.array([3,5,7,9,11,13,15,17,19,21,31,41,51,61,71,81,91,101,111,121]))\n",
    "td_M[1,:] = np.array([1e-5,1e-5,2e-5,2e-5,3e-5,4e-5,5e-5,7e-5,9e-5,1e-4,4e-4,2e-3,4e-3,9e-3,2e-2,3e-2,4e-2,6e-2,9e-2,1e-1])\n",
    "td_M_popt, td_M_pcov = curve_fit(poly, td_M[0,:], td_M[1,:])\n",
    "print(f'Complexity of order O(Np^{np.round(td_M_popt[2],1)})')\n",
    "td_M_x = np.linspace(td_M[0,0],td_M[0,-1],int(td_M[0,-1]-td_M[0,0]))\n",
    "plt.figure()\n",
    "plt.plot(td_M_x, poly(td_M_x, *td_M_popt), c='r', label=f'Complexity of order O(Np^{np.round(td_M_popt[2],1)})')\n",
    "plt.plot(td_M[0],td_M[1],'o',c='b', label='Datapoints')\n",
    "plt.xlabel(r'$N_P$')\n",
    "plt.ylabel('t (s)')\n",
    "plt.title('Time complexity of computing the master function')\n",
    "plt.legend()\n",
    "plt.show()"
   ]
  },
  {
   "cell_type": "markdown",
   "id": "9900b586-7a3e-4212-bcab-a501ed4a244f",
   "metadata": {},
   "source": [
    "## Beta functions\n",
    "$$ \\beta^n: \\mathbb{R}^N \\mapsto \\mathbb{R}^N, g^n = \\begin{pmatrix} u^1 \\\\ \\vdots \\\\ u^M \\\\ v^1 \\\\ \\vdots \\\\ v^{N-M} \\end{pmatrix} \\mapsto \\begin{pmatrix}  \\beta^1(g^n) \\\\ \\vdots \\\\ \\beta^N(g^n) \\end{pmatrix}  \n",
    "\\equiv \\beta^n: \\mathbb{R}^2 \\mapsto \\mathbb{R}^2, g^n= \\begin{pmatrix} u \\\\ v \\end{pmatrix} \\mapsto \\begin{pmatrix} u-\\frac{u^6}{\\pi^2 (u^2+v)^3} \\\\ -\\frac{u^5}{6\\pi^2 (u^2+v)^2} - \\frac{2vu^5}{\\pi^2(u^2+v)^3} \\end{pmatrix}  $$"
   ]
  },
  {
   "cell_type": "code",
   "execution_count": 3,
   "id": "1d036085-52e6-4b2c-b7cd-88031e9e5641",
   "metadata": {},
   "outputs": [],
   "source": [
    "## beta functions\n",
    "def beta(G): # G[j'th point, nth coord]\n",
    "    u = G[:,0]\n",
    "    v = G[:,1]\n",
    "    beta_u = u - u**6 / (math.pi**2 * (u**2+v)**3)\n",
    "    beta_v = -u**5 / (6*math.pi**2 * (u**2+v)**2) - 2*v*u**5 / (math.pi**2 * (u**2+v)**3)\n",
    "    return np.array([beta_u, beta_v]) # beta[n] [!] this line is specifically 2D"
   ]
  },
  {
   "cell_type": "markdown",
   "id": "9271db25-7407-450d-8c16-b8c3b7a5ff0a",
   "metadata": {
    "tags": []
   },
   "source": [
    "## NGFP\n",
    "$$ \\beta^n(g^n_*) = 0 \\implies \\begin{pmatrix} u_* \\\\ v_* \\end{pmatrix} = \\begin{pmatrix} \\frac{2197}{1728\\pi^2} \\\\ -\\frac{371293}{2985984\\pi^4} \\end{pmatrix} \\implies F_{\\mu}(g^n_*)=0 $$ "
   ]
  },
  {
   "cell_type": "code",
   "execution_count": 15,
   "id": "cd1f3be9-9a13-4ebb-a6ff-10429d3e3841",
   "metadata": {
    "tags": []
   },
   "outputs": [
    {
     "name": "stdout",
     "output_type": "stream",
     "text": [
      "[ 0.12882097 -0.00127653]\n"
     ]
    }
   ],
   "source": [
    "## NGFP (beta functions = 0)\n",
    "fp = np.array([2197/(1728*math.pi**2), -371293/(2985984*math.pi**4)]) # fp[n] [!] this line is specifically 2D\n",
    "N = fp.size\n",
    "M = 1 # [!] this line is specifically 2D\n",
    "print(fp)\n"
   ]
  },
  {
   "cell_type": "markdown",
   "id": "6562f3b2-3974-45e6-a709-fb165627bc2b",
   "metadata": {},
   "source": [
    "## Linear generating function and its derivatives\n",
    "$$ F^*_{\\mu}(g^n) = c_{n' \\mu}\\begin{pmatrix}g^n \\\\ 1\\end{pmatrix}^{n'} =\n",
    "\\begin{pmatrix}\n",
    "    c_{1,1} g^1 + c_{1,2} g^2 + \\cdots + c_{1,N} g^N + c_{1,N+1} \\\\\n",
    "    \\vdots \\\\\n",
    "    c_{N-M,1} g^1 + c_{N-M,2} g^2 + \\cdots + c_{N-M,N} g^N + c_{N-M,N+1}\n",
    "\\end{pmatrix}^T\n",
    "\\equiv F^*(u,v) = -u + \\frac{864(\\sqrt{82}-11)\\pi^2}{2197}v + \\frac{169(15+\\sqrt{82})}{3456\\pi^2} $$ \\\n",
    "$$ \\partial_n F^*_{\\mu}(g^n) = (\\partial F^*(g^n))_n = c_{n\\mu} =\n",
    "\\begin{pmatrix}\n",
    "    c_{1,1} & \\cdots & c_{1,N-M} \\\\\n",
    "    \\vdots & & \\vdots \\\\\n",
    "    c_{N,1} & \\cdots & c_{N,N-M}\n",
    "\\end{pmatrix}\n",
    "\\equiv (\\nabla F^*(u,v))_n = \\Bigg( -1 \\quad \\frac{864(\\sqrt{82}-11)\\pi^2}{2197} \\Bigg) $$"
   ]
  },
  {
   "cell_type": "code",
   "execution_count": 5,
   "id": "5438290e-a584-4c0d-a2f3-40e6c370dd6f",
   "metadata": {},
   "outputs": [],
   "source": [
    "## linear generating function and its derivative\n",
    "\n",
    "c_fp = np.array([\n",
    "    [-1], \n",
    "    [864*(82**0.5-11)*math.pi**2/2197], \n",
    "    [169*(15+82**0.5)/(3456*math.pi**2)]\n",
    "]) # N+1 x N-M coefficients c_fp[n',mu] [!] this line is specifically 2D\n",
    "\n",
    "def F_fp(g): # Calculate c_fp[n',mu]*g[n'] (n' means (gn, 1))\n",
    "    return np.matmul(np.append(g,[1]),c_fp) # F_fp [!] this line is specifically 2D\n",
    "\n",
    "def dF_fp(): # Return dF_fp\n",
    "    return np.array([c_fp[:-1,:]]) # dF_fp[nth derivative] [!] this line is specifically 2D\n"
   ]
  },
  {
   "cell_type": "markdown",
   "id": "007cedf1-7e30-4211-95aa-6902b2d56ca1",
   "metadata": {},
   "source": [
    "## Colocation points"
   ]
  },
  {
   "cell_type": "code",
   "execution_count": 6,
   "id": "9a047100-65ec-419d-bd73-b83cc0454aac",
   "metadata": {},
   "outputs": [
    {
     "name": "stdout",
     "output_type": "stream",
     "text": [
      "0.03333333333333333\n"
     ]
    }
   ],
   "source": [
    "## generate grid of colocation points\n",
    "\n",
    "N_cp_g = 15 # Number of colocation points in each direction g^n\n",
    "N_cp = N_cp_g**N # Number of colocation points\n",
    "cp_bound = 0.25 # Search space above and below fp\n",
    "sigma = cp_bound*2/N_cp_g # smoothness factor for basis functions\n",
    "\n",
    "print(sigma)\n",
    "\n",
    "cps = np.array([np.linspace(gn-cp_bound, gn+cp_bound, N_cp_g) for gn in fp]) # linspaces that span space of colocation points\n",
    "gg = np.array(np.meshgrid(*cps,indexing='ij')) # gg[n,n_cp_g1,...,n_cp_gn]\n",
    "\n",
    "def idToCoord(cp):\n",
    "    # maps a 1D array of collocation point ids [0, ..., N_cp_g-1] to the coordinates on the grid\n",
    "    coords = np.zeros((cp.size, N))\n",
    "    for d in (range(1,N+1)):\n",
    "        D = N-d\n",
    "        coords[:,D] = cp - np.mod(cp, np.ones(cp.size)*N_cp_g**D)\n",
    "        if D != N-1:\n",
    "            for dd in range(D+1,N):\n",
    "                coords[:,D] -= coords[:,dd]*N_cp_g**dd\n",
    "        coords[:,D] = np.divide(coords[:,D], np.ones(cp.size)*N_cp_g**D)\n",
    "        coords = coords.astype(int)\n",
    "    return np.array([gg[:,coords[:,0],coords[:,1]][:,i] for i in range(0, cp.size)]) # idToCoord[ith cp, nth coord] [!] this line is specifically 2D\n",
    "\n",
    "CP = idToCoord(np.array(list(range(0,N_cp)))) # CP[ith cp, nth coord]\n"
   ]
  },
  {
   "cell_type": "markdown",
   "id": "cd276a66-1f0a-46fc-a389-a46a7b01cb85",
   "metadata": {
    "tags": []
   },
   "source": [
    "## Basis functions (Multivariate Cauchy Distributions)\n",
    "$$ g^{ni}_{col} = (g^{in}_{col})^T $$ \\\n",
    "$$ \\psi^i(g^n) = \\Bigg( 1 + \\sum^N_n\\frac{(g^n-g^{ni}_{col})^2}{\\sigma^2} \\Bigg)^{-1} $$ \\\n",
    "$$ \\partial_n\\psi^i(g^n) = (\\partial\\psi(g^n))_n^i = -\\frac{2}{\\sigma^2}(g^n-g^{ni}_{col})\\psi^i(g^n)^2 $$"
   ]
  },
  {
   "cell_type": "code",
   "execution_count": 7,
   "id": "5bec665a-b772-4ae2-a7b9-ded9a7e4025c",
   "metadata": {
    "tags": []
   },
   "outputs": [],
   "source": [
    "## Basis functions and their derivatives\n",
    "\n",
    "CP_transpose = CP.transpose() # CP_transpose[nth coord,ith cp]\n",
    "\n",
    "def psi(G): # G[j'th point, nth coord]\n",
    "    # divide(1, (1 + 1/sigma**2 * matmul(1, square([g,...,g]^T - CP^T)))) for all g in G\n",
    "    return np.array([np.divide(np.ones(N_cp),(np.ones(N_cp) + (1/sigma**2)*np.matmul(np.ones(N),np.square(np.tile(g,(N_cp,1)).transpose() - CP_transpose)))) for g in G]) # psi[jth point,ith function]\n",
    "\n",
    "def dpsi(G): # G[j'th point, nth coord]\n",
    "    # multiply(-2/sigma**2 * ([g,...,g]^T - CP^T) for all g in G, (tile(square(psi(CP)),(N,1,1)), axes=[1,0,2])^T)\n",
    "    return np.multiply(np.array([((-2/sigma**2) * (np.tile(g,(N_cp,1)).transpose() - CP_transpose)) for g in G]), np.transpose(np.tile(np.square(psi(CP)),(N,1,1)), axes=[1,0,2])) # dpsi[jth point, nth derivative,ith function]\n"
   ]
  },
  {
   "cell_type": "markdown",
   "id": "03c581a3-c91d-426a-a82e-ebfcda254da1",
   "metadata": {},
   "source": [
    "## Pre-calculate"
   ]
  },
  {
   "cell_type": "code",
   "execution_count": 8,
   "id": "b7690b76-054c-4485-96db-566f77c02c79",
   "metadata": {
    "tags": []
   },
   "outputs": [
    {
     "name": "stdout",
     "output_type": "stream",
     "text": [
      "F:(225, 1)\n",
      "dF:(1, 2, 1)\n",
      "psi:(225, 225)\n",
      "dpsi:(225, 2, 225)\n",
      "p:(225, 1)\n",
      "beta:(2, 225)\n"
     ]
    }
   ],
   "source": [
    "## Precaluculate up until now\n",
    "pc_F_fp = np.array([F_fp(cp) for cp in CP]) # [jth point, function mu]\n",
    "print(f'F:{pc_F_fp.shape}')\n",
    "pc_dF_fp = dF_fp() # [function mu, nth derivative]\n",
    "print(f'dF:{pc_dF_fp.shape}')\n",
    "pc_psi = psi(CP) # [jth point,ith function]\n",
    "print(f'psi:{pc_psi.shape}')\n",
    "pc_dpsi = dpsi(CP) # [jth point, nth derivative,ith function]\n",
    "print(f'dpsi:{pc_dpsi.shape}')\n",
    "p = np.ones((N_cp,M)) # p[ith basis function, function mu]\n",
    "print(f'p:{p.shape}')\n",
    "pc_beta = beta(CP) #\n",
    "print(f'beta:{pc_beta.shape}')"
   ]
  },
  {
   "cell_type": "markdown",
   "id": "7234889b-6484-40d0-89fb-8bf524aa9ec6",
   "metadata": {
    "tags": []
   },
   "source": [
    "## Fixed parameters\n",
    "$$ \\partial_n F_{\\mu} \\big|_{g^n_*} = \\partial_n F^*_{\\mu} \\implies F_{\\mu} \\big|_{g_{\\sim}^n} \\approx F^*_{\\mu} \\big|_{g_{\\sim}^n} $$ \\\n",
    "$$ \\text{For one these $g_{\\sim}^n$ : } p_{i \\mu}\\psi^i(g_{\\sim}^n) \\approx F^*_{\\mu}(g_{\\sim}^n) \\implies p_{1\\mu} \\approx \\frac{1}{\\psi^1(g_{\\sim}^n)}\\bigg[ F^*_{\\mu}(g_{\\sim}^n) - \\sum_{i=2}^{N_p} p_{i \\mu}\\psi^i(g_{\\sim}^n) \\bigg] $$ \\\n",
    "$$ \\text{For $K$ of these $g^{kn}_{\\sim}$ : } $$ \\\n",
    "$$ g^{1n}_{\\sim}: \\quad p_{1\\mu} \\approx \\frac{1}{\\psi^1(g^{1n}_{\\sim})}\\bigg[ F^*_{\\mu}(g^{1n}_{\\sim}) - \\sum_{i=2}^{N_p} p_{i \\mu}\\psi^i(g^{1n}_{\\sim}) \\bigg] $$ \\\n",
    "$$ g^{2n}_{\\sim}: \\quad p_{2\\mu} \\approx \\frac{1}{\\psi^2(g^{2n}_{\\sim})}\\bigg[ F^*_{\\mu}(g^{2n}_{\\sim}) - p_{1\\mu}\\psi^1(g^{2n}_{\\sim}) - \\sum_{i=3}^{N_p} p_{i \\mu}\\psi^i(g^{2n}_{\\sim}) \\bigg] $$ \\\n",
    "$$ \\vdots $$ \\\n",
    "$$ g^{Kn}_{\\sim}: \\quad p_{K\\mu} \\approx \\frac{1}{\\psi^K(g^{Kn}_{\\sim})}\\bigg[ F^*_{\\mu}(g^{Kn}_{\\sim}) - \\sum_{k=1}^{K-1}p_{k\\mu}\\psi^k(g^{Kn}_{\\sim}) - \\sum_{i=K+1}^{N_p} p_{i \\mu}\\psi^i(g^{Kn}_{\\sim}) \\bigg] $$ \\\n",
    "$$ \\text{This fixes $K \\times (N-M)$ parameters $p_{i\\mu}$} .$$"
   ]
  },
  {
   "cell_type": "code",
   "execution_count": 9,
   "id": "45ba3069-0dfd-4cce-aaac-60c61bf98aae",
   "metadata": {
    "tags": []
   },
   "outputs": [
    {
     "data": {
      "image/png": "[encoded data removed]",
      "text/plain": [
       "<Figure size 432x288 with 1 Axes>"
      ]
     },
     "metadata": {
      "needs_background": "light"
     },
     "output_type": "display_data"
    }
   ],
   "source": [
    "## Find the values for the fixed p's\n",
    "p = np.ones((N_cp,M)) # reset\n",
    "\n",
    "# Find the id's of the 8 points directly around the fp\n",
    "def findCoreIds(): # Find the id's of the 3^N-1 points directly around the fp\n",
    "    perms = np.array([i for i in product([-1,0,1], repeat=N)])\n",
    "    perms = np.delete(perms, int((perms.shape[0]-1)/2), 0)\n",
    "    ids = np.zeros(3**N-1)\n",
    "    for i in range(0,perms.shape[0]):\n",
    "        for j in range(0, perms.shape[1]):\n",
    "            ids[i] += N_cp_g**j*((N_cp_g-1)/2 + perms[i,j])\n",
    "    return ids.astype('int') # findCoreIds[k'th core point]\n",
    "\n",
    "def findFpId():\n",
    "    ids = 0\n",
    "    for j in range(0, N):\n",
    "        ids += N_cp_g**j*(N_cp_g-1)/2\n",
    "    return int(ids)\n",
    "\n",
    "fp_id = findFpId()\n",
    "\n",
    "core_ids = findCoreIds()\n",
    "core_coords = idToCoord(core_ids)\n",
    "\n",
    "# plot colocation points and core\n",
    "if N == 2:\n",
    "    fig_grid = plt.figure()\n",
    "    ax_grid = fig_grid.add_subplot()\n",
    "    plt.plot(gg[0], gg[1], marker='o', color='k', linestyle='none')\n",
    "    plt.plot(fp[0], fp[1], marker='*', color='y')\n",
    "    plt.plot(core_coords[:,0], core_coords[:,1], marker='o', color='b', linestyle='none')\n",
    "    ax_grid.set_aspect('equal', adjustable='box')\n",
    "    plt.xlabel(r'$g^1 (= u)$')\n",
    "    plt.ylabel(r'$g^2 (= v)$')\n",
    "    plt.title('Colocation points, fixed point, and core')\n",
    "    plt.show()\n",
    "    \n",
    "def findFixedParameters(p): # current parameters p\n",
    "    pc = np.copy(p)\n",
    "    a = core_ids[0]\n",
    "    for k in range(0,core_ids.size):\n",
    "        kd = core_ids[k]\n",
    "        pc[k,:] = 1/pc_psi[kd,k] * np.subtract(pc_F_fp[kd], np.add(np.matmul(pc_psi[kd,0:k], pc[0:k,:]), np.matmul(pc_psi[kd,k+1:], pc[k+1:,:])))\n",
    "    return pc # p[ith basis function, function mu]\n",
    "    \n",
    "p = findFixedParameters(p)\n",
    "# print(p[0:3**N-1])\n",
    "# plt.figure()\n",
    "# plt.plot(p[:,0]/max(p[:,0]))\n",
    "# plt.show"
   ]
  },
  {
   "cell_type": "markdown",
   "id": "b4a86232-9d5d-44f1-94c9-87ec8fde5ad1",
   "metadata": {},
   "source": [
    "## Generating function\n",
    "$$ F_{\\mu}(g^n) = p_{i \\mu} \\psi^i(g^n) $$"
   ]
  },
  {
   "cell_type": "code",
   "execution_count": 10,
   "id": "a7a48094-1ea7-400c-947f-c71a26b6c58b",
   "metadata": {
    "tags": []
   },
   "outputs": [
    {
     "name": "stdout",
     "output_type": "stream",
     "text": [
      "(225, 1)\n"
     ]
    }
   ],
   "source": [
    "## Generating function\n",
    "\n",
    "def F(p): # p[ith function, function mu]\n",
    "    val = np.matmul(pc_psi, p) # (j,i)x(i,mu)=(j,mu)\n",
    "    return np.subtract(val, val[fp_id,0]) # F[j'th point, function mu] [!] this line is specifically 2D\n",
    "\n",
    "def F_general(G, p): # G[point, nth coord] p[ith function, function mu]\n",
    "    val = np.matmul(psi(G), p)\n",
    "    return np.subtract(val, np.matmul(pc_psi, p)[fp_id,0]) # F[j'th point, function mu] [!] this line is specifically 2D\n",
    "\n",
    "def findSolutionV2D(bound, number):\n",
    "    check_coords = np.zeros((number,2))\n",
    "    check_coords[:,1] = np.linspace(fp[1]-bound, fp[1]+bound, number)\n",
    "    check_F = np.square(F_general(check_coords,p))\n",
    "    return check_coords[np.argmin(check_F[:,0]),1]\n",
    "\n",
    "findSolutionV2D(cp_bound, 10000)\n",
    "\n",
    "print(F(p).shape)    \n",
    "# sns.heatmap(np.array([[F(p)[i+N_cp_g*j,0] for i in range(0,N_cp_g)] for j in range(0,N_cp_g)])) "
   ]
  },
  {
   "cell_type": "markdown",
   "id": "cf2fdf2d-be96-4e69-b074-710ecfdffb96",
   "metadata": {},
   "source": [
    "## Master equation\n",
    "$$ M_{\\mu}^j \\equiv M_{\\mu}(g_{col}^{jn}) = \\big(p_{i\\mu}\\partial_n\\psi^i(g_{col}^{jn})\\big)\\beta^n(g_{col}^{jn}) \\equiv (p\\partial\\psi)_{\\mu n}^j (\\beta)^{jn} \\equiv (p\\partial\\psi\\beta)^j_{\\mu} $$ "
   ]
  },
  {
   "cell_type": "code",
   "execution_count": 11,
   "id": "caec7ba7-fd33-456f-bf06-15a095a08d8f",
   "metadata": {
    "tags": []
   },
   "outputs": [
    {
     "name": "stdout",
     "output_type": "stream",
     "text": [
      "1885280119403100.2\n"
     ]
    }
   ],
   "source": [
    "## Master equation\n",
    "def ME(p):\n",
    "    return np.sum(np.square(np.trace(np.matmul(pc_beta, np.transpose(np.matmul(pc_dpsi, p), axes=[2,0,1])), axis1=1, axis2=2)))\n",
    "\n",
    "print(ME(p))\n",
    "\n",
    "# Time recording of master function\n",
    "if(False):\n",
    "    N_test = 1000\n",
    "    cum_time = 0\n",
    "    for i in range(0,N_test):\n",
    "        start = time.time()\n",
    "        v = ME(p)\n",
    "        end = time.time()\n",
    "        cum_time += end-start\n",
    "    print(\"{:e}\".format(cum_time/N_test))\n",
    "\n"
   ]
  },
  {
   "cell_type": "markdown",
   "id": "20baca0f-3786-4cb6-849f-54107f5bff1c",
   "metadata": {},
   "source": [
    "## Genetic algorithm"
   ]
  },
  {
   "cell_type": "code",
   "execution_count": 12,
   "id": "98497093-c5d9-4f0c-aa8f-607708acc119",
   "metadata": {},
   "outputs": [
    {
     "name": "stdout",
     "output_type": "stream",
     "text": [
      "[[1 2]\n",
      " [3 4]\n",
      " [5 6]]\n",
      "[1 2 3 4 5 6]\n",
      "[[1 2]\n",
      " [3 4]\n",
      " [5 6]]\n"
     ]
    }
   ],
   "source": [
    "a = np.array(range(1,7))\n",
    "a.shape = (3,2)\n",
    "print(a)\n",
    "a.shape = (6)\n",
    "print(a)\n",
    "a.shape = (3,2)\n",
    "print(a)"
   ]
  },
  {
   "cell_type": "code",
   "execution_count": 13,
   "id": "7f2e5641-04c1-456c-884d-7f281cd37f8e",
   "metadata": {},
   "outputs": [
    {
     "name": "stdout",
     "output_type": "stream",
     "text": [
      "= Starting Genetic Algorithm =\n",
      "Keep 2700 out of 9000 individuals.\n",
      "Fix 0 out of 9000 individuals every 50 generations.\n",
      "Crossover 80.0% of pairs.\n",
      "Initially mutate 0.5% of parameters by 1.0%.\n",
      "\n",
      "= Generation 10 =\n",
      "Failsaves: True, True.\n",
      "Current best and worst scores: [6.06e-01,...,2.79e+11].\n",
      "v=-4.52e-01\n",
      "Currently mutate 1.65e+00% of parameters by 1.e+00%.\n",
      "\n",
      "= Generation 20 =\n",
      "Failsaves: True, True.\n",
      "Current best and worst scores: [1.95e+03,...,2.19e+11].\n",
      "v=2.92e-01\n",
      "Currently mutate 2.e+00% of parameters by 1.e+00%.\n",
      "\n",
      "= Generation 30 =\n",
      "Failsaves: True, True.\n",
      "Current best and worst scores: [1.59e+02,...,1.74e+11].\n",
      "v=2.14e-01\n",
      "Currently mutate 2.20e+00% of parameters by 1.e+00%.\n",
      "\n",
      "= Generation 40 =\n",
      "Failsaves: True, True.\n",
      "Current best and worst scores: [2.72e+01,...,1.27e+11].\n",
      "v=-1.79e-02\n",
      "Currently mutate 2.34e+00% of parameters by 1.e+00%.\n",
      "\n",
      "= Generation 50 =\n",
      "Failsaves: True, True.\n",
      "Current best and worst scores: [1.56e+01,...,1.49e+11].\n",
      "v=3.04e-01\n",
      "Currently mutate 2.46e+00% of parameters by 1.e+00%.\n",
      "\n",
      "= Generation 60 =\n",
      "Failsaves: True, True.\n",
      "Current best and worst scores: [7.16e-01,...,1.89e+11].\n",
      "v=-4.59e-01\n",
      "Currently mutate 2.55e+00% of parameters by 1.e+00%.\n",
      "\n",
      "= Generation 70 =\n",
      "Failsaves: True, True.\n",
      "Current best and worst scores: [3.17e+01,...,1.56e+11].\n",
      "v=1.49e-04\n",
      "Currently mutate 2.62e+00% of parameters by 1.e+00%.\n",
      "\n",
      "= Generation 80 =\n",
      "Failsaves: True, True.\n",
      "Current best and worst scores: [2.58e+02,...,1.2e+11].\n",
      "v=-3.73e-01\n",
      "Currently mutate 2.69e+00% of parameters by 1.e+00%.\n",
      "\n",
      "= Generation 90 =\n",
      "Failsaves: True, True.\n",
      "Current best and worst scores: [2.17e+02,...,9.01e+10].\n",
      "v=-9.15e-03\n",
      "Currently mutate 2.75e+00% of parameters by 1.e+00%.\n",
      "\n",
      "= Generation 100 =\n",
      "Failsaves: True, True.\n",
      "Current best and worst scores: [4.32e+01,...,1.49e+11].\n",
      "v=3.32e-01\n",
      "Currently mutate 2.80e+00% of parameters by 1.e+00%.\n",
      "\n",
      "= Generation 110 =\n",
      "Failsaves: True, True.\n",
      "Current best and worst scores: [2.89e+01,...,9.62e+10].\n",
      "v=1.11e-01\n",
      "Currently mutate 2.85e+00% of parameters by 1.e+00%.\n",
      "\n",
      "= Generation 120 =\n",
      "Failsaves: True, True.\n",
      "Current best and worst scores: [5.51e+01,...,1.43e+11].\n",
      "v=-3.45e-01\n",
      "Currently mutate 2.89e+00% of parameters by 1.e+00%.\n",
      "\n",
      "= Generation 130 =\n",
      "Failsaves: True, True.\n",
      "Current best and worst scores: [5.32e+00,...,6.95e+10].\n",
      "v=-4.9e-01\n",
      "Currently mutate 2.93e+00% of parameters by 1.e+00%.\n",
      "\n",
      "= Generation 140 =\n",
      "Failsaves: True, True.\n",
      "Current best and worst scores: [4.46e+02,...,8.26e+10].\n",
      "v=4.21e-01\n",
      "Currently mutate 2.97e+00% of parameters by 1.e+00%.\n",
      "\n",
      "= Generation 150 =\n",
      "Failsaves: True, True.\n",
      "Current best and worst scores: [3.55e+01,...,8.67e+10].\n",
      "v=-8.70e-03\n",
      "Currently mutate 3.01e+00% of parameters by 1.e+00%.\n",
      "\n",
      "= Generation 160 =\n",
      "Failsaves: True, True.\n",
      "Current best and worst scores: [1.42e+00,...,4.72e+10].\n",
      "v=2.31e-01\n",
      "Currently mutate 3.04e+00% of parameters by 1.e+00%.\n",
      "\n",
      "= Generation 170 =\n",
      "Failsaves: True, True.\n",
      "Current best and worst scores: [2.01e+01,...,5.49e+10].\n",
      "v=-5.53e-01\n",
      "Currently mutate 3.07e+00% of parameters by 1.e+00%.\n",
      "\n",
      "= Generation 180 =\n",
      "Failsaves: True, True.\n",
      "Current best and worst scores: [5.21e+00,...,5.34e+10].\n",
      "v=7.25e-01\n",
      "Currently mutate 3.1e+00% of parameters by 1.e+00%.\n",
      "\n",
      "= Generation 190 =\n",
      "Failsaves: True, True.\n",
      "Current best and worst scores: [2.11e+02,...,4.58e+10].\n",
      "v=-4.38e-01\n",
      "Currently mutate 3.12e+00% of parameters by 1.e+00%.\n",
      "\n",
      "= Generation 200 =\n",
      "Failsaves: True, True.\n",
      "Current best and worst scores: [1.30e+01,...,5.96e+10].\n",
      "v=1.64e-01\n",
      "Currently mutate 3.15e+00% of parameters by 1.e+00%.\n",
      "\n",
      "= Generation 210 =\n",
      "Failsaves: True, True.\n",
      "Current best and worst scores: [3.94e+01,...,4.00e+10].\n",
      "v=1.53e-01\n",
      "Currently mutate 3.17e+00% of parameters by 1.e+00%.\n",
      "\n",
      "= Generation 220 =\n",
      "Failsaves: True, True.\n",
      "Current best and worst scores: [1.61e+02,...,4.02e+10].\n",
      "v=7.49e-01\n",
      "Currently mutate 3.2e+00% of parameters by 1.e+00%.\n",
      "\n",
      "= Generation 230 =\n",
      "Failsaves: True, True.\n",
      "Current best and worst scores: [9.11e+00,...,3.81e+10].\n",
      "v=9.93e-02\n",
      "Currently mutate 3.22e+00% of parameters by 1.e+00%.\n",
      "\n",
      "= Generation 240 =\n",
      "Failsaves: True, True.\n",
      "Current best and worst scores: [1.74e+00,...,9.15e+10].\n",
      "v=6.09e-02\n",
      "Currently mutate 3.24e+00% of parameters by 1.e+00%.\n",
      "\n",
      "= Generation 250 =\n",
      "Failsaves: True, True.\n",
      "Current best and worst scores: [3.48e+01,...,4.31e+10].\n",
      "v=-1.45e-01\n",
      "Currently mutate 3.26e+00% of parameters by 1.e+00%.\n",
      "\n",
      "= Generation 260 =\n",
      "Failsaves: True, True.\n",
      "Current best and worst scores: [1.82e+00,...,4.52e+10].\n",
      "v=1.80e-02\n",
      "Currently mutate 3.28e+00% of parameters by 1.e+00%.\n",
      "\n",
      "= Generation 270 =\n",
      "Failsaves: True, True.\n",
      "Current best and worst scores: [1.36e+02,...,4.6e+10].\n",
      "v=-1.03e-01\n",
      "Currently mutate 3.3e+00% of parameters by 1.e+00%.\n",
      "\n",
      "= Generation 280 =\n",
      "Failsaves: True, True.\n",
      "Current best and worst scores: [7.36e+01,...,4.26e+10].\n",
      "v=-4.92e-01\n",
      "Currently mutate 3.32e+00% of parameters by 1.e+00%.\n",
      "\n",
      "= Generation 290 =\n",
      "Failsaves: True, True.\n",
      "Current best and worst scores: [2.19e+01,...,4.67e+10].\n",
      "v=2.6e-01\n",
      "Currently mutate 3.33e+00% of parameters by 1.e+00%.\n",
      "\n",
      "= Generation 300 =\n",
      "Failsaves: True, True.\n",
      "Current best and worst scores: [3.67e+00,...,3.97e+10].\n",
      "v=-3.38e-01\n",
      "Currently mutate 3.35e+00% of parameters by 1.e+00%.\n",
      "\n",
      "= Generation 310 =\n",
      "Failsaves: True, True.\n",
      "Current best and worst scores: [1.95e+01,...,6.02e+10].\n",
      "v=-4.94e-01\n",
      "Currently mutate 3.37e+00% of parameters by 1.e+00%.\n",
      "\n",
      "= Generation 320 =\n",
      "Failsaves: True, True.\n",
      "Current best and worst scores: [6.72e+00,...,6.70e+10].\n",
      "v=2.81e-01\n",
      "Currently mutate 3.38e+00% of parameters by 1.e+00%.\n",
      "\n",
      "= Generation 330 =\n",
      "Failsaves: True, True.\n",
      "Current best and worst scores: [3.47e+01,...,3.53e+10].\n",
      "v=-5.73e-01\n",
      "Currently mutate 3.4e+00% of parameters by 1.e+00%.\n",
      "\n",
      "= Generation 340 =\n",
      "Failsaves: True, True.\n",
      "Current best and worst scores: [1.01e+01,...,3.29e+10].\n",
      "v=-5.48e-01\n",
      "Currently mutate 3.41e+00% of parameters by 1.e+00%.\n",
      "\n",
      "= Generation 350 =\n",
      "Failsaves: True, True.\n",
      "Current best and worst scores: [1.88e+02,...,4.10e+10].\n",
      "v=-1.67e-02\n",
      "Currently mutate 3.43e+00% of parameters by 1.e+00%.\n",
      "\n",
      "= Generation 360 =\n",
      "Failsaves: True, True.\n",
      "Current best and worst scores: [3.96e+01,...,3.59e+10].\n",
      "v=-6.35e-02\n",
      "Currently mutate 3.44e+00% of parameters by 1.e+00%.\n",
      "\n",
      "= Generation 370 =\n",
      "Failsaves: True, True.\n",
      "Current best and worst scores: [2.39e+00,...,4.95e+10].\n",
      "v=-5.99e-01\n",
      "Currently mutate 3.46e+00% of parameters by 1.e+00%.\n",
      "\n",
      "= Generation 380 =\n",
      "Failsaves: True, True.\n",
      "Current best and worst scores: [2.36e-01,...,3.93e+10].\n",
      "v=3.92e-02\n",
      "Currently mutate 3.47e+00% of parameters by 1.e+00%.\n",
      "\n",
      "= Generation 390 =\n",
      "Failsaves: True, True.\n",
      "Current best and worst scores: [2.54e+01,...,3.38e+10].\n",
      "v=1.23e-01\n",
      "Currently mutate 3.48e+00% of parameters by 1.e+00%.\n",
      "\n",
      "= Generation 400 =\n",
      "Failsaves: True, True.\n",
      "Current best and worst scores: [2.65e+01,...,2.72e+10].\n",
      "v=-4.93e-01\n",
      "Currently mutate 3.5e+00% of parameters by 1.e+00%.\n",
      "\n",
      "= Generation 410 =\n",
      "Failsaves: True, True.\n",
      "Current best and worst scores: [1.37e+00,...,4.93e+10].\n",
      "v=4.83e-02\n",
      "Currently mutate 3.51e+00% of parameters by 1.e+00%.\n",
      "\n",
      "= Generation 420 =\n",
      "Failsaves: True, True.\n",
      "Current best and worst scores: [4.34e+02,...,3.22e+10].\n",
      "v=-5.69e-01\n",
      "Currently mutate 3.52e+00% of parameters by 1.e+00%.\n",
      "\n",
      "= Generation 430 =\n",
      "Failsaves: True, True.\n",
      "Current best and worst scores: [1.42e+01,...,3.87e+10].\n",
      "v=-4.35e-01\n",
      "Currently mutate 3.53e+00% of parameters by 1.e+00%.\n",
      "\n",
      "= Generation 440 =\n",
      "Failsaves: True, True.\n",
      "Current best and worst scores: [2.63e+00,...,4.64e+10].\n",
      "v=1.38e-01\n",
      "Currently mutate 3.54e+00% of parameters by 1.e+00%.\n",
      "\n",
      "= Generation 450 =\n",
      "Failsaves: True, True.\n",
      "Current best and worst scores: [1.29e+02,...,4.32e+10].\n",
      "v=3.07e-01\n",
      "Currently mutate 3.55e+00% of parameters by 1.e+00%.\n",
      "\n",
      "= Generation 460 =\n",
      "Failsaves: True, True.\n",
      "Current best and worst scores: [3.90e-01,...,2.83e+10].\n",
      "v=2.40e-02\n",
      "Currently mutate 3.57e+00% of parameters by 1.e+00%.\n",
      "\n",
      "= Generation 470 =\n",
      "Failsaves: True, True.\n",
      "Current best and worst scores: [5.36e+00,...,3.48e+10].\n",
      "v=-5.58e-01\n",
      "Currently mutate 3.58e+00% of parameters by 1.e+00%.\n",
      "\n",
      "= Generation 480 =\n",
      "Failsaves: True, True.\n",
      "Current best and worst scores: [5.79e+01,...,3.23e+10].\n",
      "v=3.24e-02\n",
      "Currently mutate 3.59e+00% of parameters by 1.e+00%.\n",
      "\n",
      "= Generation 490 =\n",
      "Failsaves: True, True.\n",
      "Current best and worst scores: [7.25e-01,...,2.76e+10].\n",
      "v=1.77e-01\n",
      "Currently mutate 3.6e+00% of parameters by 1.e+00%.\n",
      "\n",
      "= Generation 500 =\n",
      "Failsaves: True, True.\n",
      "Current best and worst scores: [1.39e+01,...,3.55e+10].\n",
      "v=-4.88e-01\n",
      "Currently mutate 3.61e+00% of parameters by 1.e+00%.\n",
      "\n",
      "= Generation 510 =\n",
      "Failsaves: True, True.\n",
      "Current best and worst scores: [1.78e+01,...,3.65e+10].\n",
      "v=-4.07e-01\n",
      "Currently mutate 3.62e+00% of parameters by 1.e+00%.\n",
      "\n",
      "= Generation 520 =\n",
      "Failsaves: True, True.\n",
      "Current best and worst scores: [1.53e+00,...,4.12e+10].\n",
      "v=2.29e-01\n",
      "Currently mutate 3.63e+00% of parameters by 1.e+00%.\n",
      "\n",
      "= Generation 530 =\n",
      "Failsaves: True, True.\n",
      "Current best and worst scores: [2.35e+02,...,5.70e+10].\n",
      "v=2.58e-01\n",
      "Currently mutate 3.64e+00% of parameters by 1.e+00%.\n",
      "\n",
      "= Generation 540 =\n",
      "Failsaves: True, True.\n",
      "Current best and worst scores: [3.71e+00,...,3.34e+10].\n",
      "v=1.85e-02\n",
      "Currently mutate 3.65e+00% of parameters by 1.e+00%.\n",
      "\n",
      "= Generation 550 =\n",
      "Failsaves: True, True.\n",
      "Current best and worst scores: [7.6e+00,...,2.81e+10].\n",
      "v=2.5e-01\n",
      "Currently mutate 3.65e+00% of parameters by 1.e+00%.\n",
      "\n",
      "= Generation 560 =\n",
      "Failsaves: True, True.\n",
      "Current best and worst scores: [9.53e-01,...,2.98e+10].\n",
      "v=-3.59e-02\n",
      "Currently mutate 3.66e+00% of parameters by 1.e+00%.\n",
      "\n",
      "= Generation 570 =\n",
      "Failsaves: True, True.\n",
      "Current best and worst scores: [4.07e+00,...,4.44e+10].\n",
      "v=-6.32e-01\n",
      "Currently mutate 3.67e+00% of parameters by 1.e+00%.\n",
      "\n",
      "= Generation 580 =\n",
      "Failsaves: True, True.\n",
      "Current best and worst scores: [1.95e+01,...,2.98e+10].\n",
      "v=-3.98e-01\n",
      "Currently mutate 3.68e+00% of parameters by 1.e+00%.\n",
      "\n",
      "= Generation 590 =\n",
      "Failsaves: True, True.\n",
      "Current best and worst scores: [1.01e+02,...,2.26e+10].\n",
      "v=7.46e-02\n",
      "Currently mutate 3.69e+00% of parameters by 1.e+00%.\n",
      "\n",
      "= Generation 600 =\n",
      "Failsaves: True, True.\n",
      "Current best and worst scores: [2.8e+00,...,2.61e+10].\n",
      "v=-1.64e-01\n",
      "Currently mutate 3.7e+00% of parameters by 1.e+00%.\n",
      "\n",
      "= Generation 610 =\n",
      "Failsaves: True, True.\n",
      "Current best and worst scores: [4.50e+01,...,2.65e+10].\n",
      "v=-4.06e-01\n",
      "Currently mutate 3.71e+00% of parameters by 1.e+00%.\n",
      "\n",
      "= Generation 620 =\n",
      "Failsaves: True, True.\n",
      "Current best and worst scores: [1.34e+00,...,2.55e+10].\n",
      "v=-5.92e-01\n",
      "Currently mutate 3.71e+00% of parameters by 1.e+00%.\n",
      "\n",
      "= Generation 630 =\n",
      "Failsaves: True, True.\n",
      "Current best and worst scores: [4.65e+01,...,2.13e+10].\n",
      "v=-5.66e-01\n",
      "Currently mutate 3.72e+00% of parameters by 1.e+00%.\n",
      "\n",
      "= Generation 640 =\n",
      "Failsaves: True, True.\n",
      "Current best and worst scores: [1.23e+02,...,2.41e+10].\n",
      "v=-4.e-01\n",
      "Currently mutate 3.73e+00% of parameters by 1.e+00%.\n",
      "\n",
      "= Generation 650 =\n",
      "Failsaves: True, True.\n",
      "Current best and worst scores: [2.9e+01,...,3.59e+10].\n",
      "v=4.38e-01\n",
      "Currently mutate 3.74e+00% of parameters by 1.e+00%.\n"
     ]
    },
    {
     "ename": "KeyboardInterrupt",
     "evalue": "",
     "output_type": "error",
     "traceback": [
      "\u001b[1;31m---------------------------------------------------------------------------\u001b[0m",
      "\u001b[1;31mKeyboardInterrupt\u001b[0m                         Traceback (most recent call last)",
      "\u001b[1;32m<ipython-input-13-c660222f051c>\u001b[0m in \u001b[0;36m<module>\u001b[1;34m\u001b[0m\n\u001b[0;32m     84\u001b[0m             \u001b[0mq2\u001b[0m \u001b[1;33m+=\u001b[0m \u001b[1;33m(\u001b[0m\u001b[0mnp\u001b[0m\u001b[1;33m.\u001b[0m\u001b[0mrandom\u001b[0m\u001b[1;33m.\u001b[0m\u001b[0mrand\u001b[0m\u001b[1;33m(\u001b[0m\u001b[0mo_shape\u001b[0m\u001b[1;33m[\u001b[0m\u001b[1;36m0\u001b[0m\u001b[1;33m]\u001b[0m\u001b[1;33m*\u001b[0m\u001b[0mo_shape\u001b[0m\u001b[1;33m[\u001b[0m\u001b[1;36m1\u001b[0m\u001b[1;33m]\u001b[0m\u001b[1;33m)\u001b[0m\u001b[1;33m-\u001b[0m\u001b[1;36m0.5\u001b[0m\u001b[1;33m)\u001b[0m\u001b[1;33m*\u001b[0m\u001b[1;36m2\u001b[0m\u001b[1;33m*\u001b[0m\u001b[0mmax\u001b[0m\u001b[1;33m(\u001b[0m\u001b[0mq2\u001b[0m\u001b[1;33m)\u001b[0m\u001b[1;33m*\u001b[0m\u001b[0mm\u001b[0m\u001b[1;33m*\u001b[0m\u001b[1;36m10\u001b[0m\u001b[1;33m**\u001b[0m\u001b[0mmut_percent_from_score_offset\u001b[0m \u001b[1;33m*\u001b[0m \u001b[0mnp\u001b[0m\u001b[1;33m.\u001b[0m\u001b[0mrandom\u001b[0m\u001b[1;33m.\u001b[0m\u001b[0mchoice\u001b[0m\u001b[1;33m(\u001b[0m\u001b[1;33m[\u001b[0m\u001b[1;36m0\u001b[0m\u001b[1;33m,\u001b[0m \u001b[1;36m1\u001b[0m\u001b[1;33m]\u001b[0m\u001b[1;33m,\u001b[0m \u001b[0msize\u001b[0m\u001b[1;33m=\u001b[0m\u001b[0mo_shape\u001b[0m\u001b[1;33m[\u001b[0m\u001b[1;36m0\u001b[0m\u001b[1;33m]\u001b[0m\u001b[1;33m*\u001b[0m\u001b[0mo_shape\u001b[0m\u001b[1;33m[\u001b[0m\u001b[1;36m1\u001b[0m\u001b[1;33m]\u001b[0m\u001b[1;33m,\u001b[0m \u001b[0mp\u001b[0m\u001b[1;33m=\u001b[0m\u001b[1;33m[\u001b[0m\u001b[1;36m1\u001b[0m\u001b[1;33m-\u001b[0m\u001b[1;33m(\u001b[0m\u001b[0mmut_chance\u001b[0m \u001b[1;33m*\u001b[0m \u001b[1;33m-\u001b[0m\u001b[0mlm\u001b[0m\u001b[1;33m)\u001b[0m\u001b[1;33m,\u001b[0m \u001b[0mmut_chance\u001b[0m \u001b[1;33m*\u001b[0m \u001b[1;33m-\u001b[0m\u001b[0mlm\u001b[0m\u001b[1;33m]\u001b[0m\u001b[1;33m)\u001b[0m\u001b[1;33m\u001b[0m\u001b[1;33m\u001b[0m\u001b[0m\n\u001b[0;32m     85\u001b[0m         \u001b[1;32melse\u001b[0m\u001b[1;33m:\u001b[0m\u001b[1;33m\u001b[0m\u001b[1;33m\u001b[0m\u001b[0m\n\u001b[1;32m---> 86\u001b[1;33m             \u001b[0mq1\u001b[0m \u001b[1;33m+=\u001b[0m \u001b[1;33m(\u001b[0m\u001b[0mnp\u001b[0m\u001b[1;33m.\u001b[0m\u001b[0mrandom\u001b[0m\u001b[1;33m.\u001b[0m\u001b[0mrand\u001b[0m\u001b[1;33m(\u001b[0m\u001b[0mo_shape\u001b[0m\u001b[1;33m[\u001b[0m\u001b[1;36m0\u001b[0m\u001b[1;33m]\u001b[0m\u001b[1;33m*\u001b[0m\u001b[0mo_shape\u001b[0m\u001b[1;33m[\u001b[0m\u001b[1;36m1\u001b[0m\u001b[1;33m]\u001b[0m\u001b[1;33m)\u001b[0m\u001b[1;33m-\u001b[0m\u001b[1;36m0.5\u001b[0m\u001b[1;33m)\u001b[0m\u001b[1;33m*\u001b[0m\u001b[1;36m2\u001b[0m\u001b[1;33m*\u001b[0m\u001b[0mmax\u001b[0m\u001b[1;33m(\u001b[0m\u001b[0mq1\u001b[0m\u001b[1;33m)\u001b[0m\u001b[1;33m*\u001b[0m\u001b[0mmut_percent\u001b[0m \u001b[1;33m*\u001b[0m \u001b[0mnp\u001b[0m\u001b[1;33m.\u001b[0m\u001b[0mrandom\u001b[0m\u001b[1;33m.\u001b[0m\u001b[0mchoice\u001b[0m\u001b[1;33m(\u001b[0m\u001b[1;33m[\u001b[0m\u001b[1;36m0\u001b[0m\u001b[1;33m,\u001b[0m \u001b[1;36m1\u001b[0m\u001b[1;33m]\u001b[0m\u001b[1;33m,\u001b[0m \u001b[0msize\u001b[0m\u001b[1;33m=\u001b[0m\u001b[0mo_shape\u001b[0m\u001b[1;33m[\u001b[0m\u001b[1;36m0\u001b[0m\u001b[1;33m]\u001b[0m\u001b[1;33m*\u001b[0m\u001b[0mo_shape\u001b[0m\u001b[1;33m[\u001b[0m\u001b[1;36m1\u001b[0m\u001b[1;33m]\u001b[0m\u001b[1;33m,\u001b[0m \u001b[0mp\u001b[0m\u001b[1;33m=\u001b[0m\u001b[1;33m[\u001b[0m\u001b[1;36m1\u001b[0m\u001b[1;33m-\u001b[0m\u001b[1;33m(\u001b[0m\u001b[0mmut_chance\u001b[0m \u001b[1;33m*\u001b[0m \u001b[1;33m(\u001b[0m\u001b[0mmath\u001b[0m\u001b[1;33m.\u001b[0m\u001b[0mlog\u001b[0m\u001b[1;33m(\u001b[0m\u001b[0mcounter\u001b[0m\u001b[1;33m)\u001b[0m\u001b[1;33m+\u001b[0m\u001b[1;36m1\u001b[0m\u001b[1;33m)\u001b[0m\u001b[1;33m)\u001b[0m\u001b[1;33m,\u001b[0m \u001b[0mmut_chance\u001b[0m \u001b[1;33m*\u001b[0m \u001b[1;33m(\u001b[0m\u001b[0mmath\u001b[0m\u001b[1;33m.\u001b[0m\u001b[0mlog\u001b[0m\u001b[1;33m(\u001b[0m\u001b[0mcounter\u001b[0m\u001b[1;33m)\u001b[0m\u001b[1;33m+\u001b[0m\u001b[1;36m1\u001b[0m\u001b[1;33m)\u001b[0m\u001b[1;33m]\u001b[0m\u001b[1;33m)\u001b[0m\u001b[1;33m\u001b[0m\u001b[1;33m\u001b[0m\u001b[0m\n\u001b[0m\u001b[0;32m     87\u001b[0m             \u001b[0mq2\u001b[0m \u001b[1;33m+=\u001b[0m \u001b[1;33m(\u001b[0m\u001b[0mnp\u001b[0m\u001b[1;33m.\u001b[0m\u001b[0mrandom\u001b[0m\u001b[1;33m.\u001b[0m\u001b[0mrand\u001b[0m\u001b[1;33m(\u001b[0m\u001b[0mo_shape\u001b[0m\u001b[1;33m[\u001b[0m\u001b[1;36m0\u001b[0m\u001b[1;33m]\u001b[0m\u001b[1;33m*\u001b[0m\u001b[0mo_shape\u001b[0m\u001b[1;33m[\u001b[0m\u001b[1;36m1\u001b[0m\u001b[1;33m]\u001b[0m\u001b[1;33m)\u001b[0m\u001b[1;33m-\u001b[0m\u001b[1;36m0.5\u001b[0m\u001b[1;33m)\u001b[0m\u001b[1;33m*\u001b[0m\u001b[1;36m2\u001b[0m\u001b[1;33m*\u001b[0m\u001b[0mmax\u001b[0m\u001b[1;33m(\u001b[0m\u001b[0mq2\u001b[0m\u001b[1;33m)\u001b[0m\u001b[1;33m*\u001b[0m\u001b[0mmut_percent\u001b[0m \u001b[1;33m*\u001b[0m \u001b[0mnp\u001b[0m\u001b[1;33m.\u001b[0m\u001b[0mrandom\u001b[0m\u001b[1;33m.\u001b[0m\u001b[0mchoice\u001b[0m\u001b[1;33m(\u001b[0m\u001b[1;33m[\u001b[0m\u001b[1;36m0\u001b[0m\u001b[1;33m,\u001b[0m \u001b[1;36m1\u001b[0m\u001b[1;33m]\u001b[0m\u001b[1;33m,\u001b[0m \u001b[0msize\u001b[0m\u001b[1;33m=\u001b[0m\u001b[0mo_shape\u001b[0m\u001b[1;33m[\u001b[0m\u001b[1;36m0\u001b[0m\u001b[1;33m]\u001b[0m\u001b[1;33m*\u001b[0m\u001b[0mo_shape\u001b[0m\u001b[1;33m[\u001b[0m\u001b[1;36m1\u001b[0m\u001b[1;33m]\u001b[0m\u001b[1;33m,\u001b[0m \u001b[0mp\u001b[0m\u001b[1;33m=\u001b[0m\u001b[1;33m[\u001b[0m\u001b[1;36m1\u001b[0m\u001b[1;33m-\u001b[0m\u001b[1;33m(\u001b[0m\u001b[0mmut_chance\u001b[0m \u001b[1;33m*\u001b[0m \u001b[1;33m(\u001b[0m\u001b[0mmath\u001b[0m\u001b[1;33m.\u001b[0m\u001b[0mlog\u001b[0m\u001b[1;33m(\u001b[0m\u001b[0mcounter\u001b[0m\u001b[1;33m)\u001b[0m\u001b[1;33m+\u001b[0m\u001b[1;36m1\u001b[0m\u001b[1;33m)\u001b[0m\u001b[1;33m)\u001b[0m\u001b[1;33m,\u001b[0m \u001b[0mmut_chance\u001b[0m \u001b[1;33m*\u001b[0m \u001b[1;33m(\u001b[0m\u001b[0mmath\u001b[0m\u001b[1;33m.\u001b[0m\u001b[0mlog\u001b[0m\u001b[1;33m(\u001b[0m\u001b[0mcounter\u001b[0m\u001b[1;33m)\u001b[0m\u001b[1;33m+\u001b[0m\u001b[1;36m1\u001b[0m\u001b[1;33m)\u001b[0m\u001b[1;33m]\u001b[0m\u001b[1;33m)\u001b[0m\u001b[1;33m\u001b[0m\u001b[1;33m\u001b[0m\u001b[0m\n\u001b[0;32m     88\u001b[0m         \u001b[0mq1\u001b[0m\u001b[1;33m.\u001b[0m\u001b[0mshape\u001b[0m \u001b[1;33m=\u001b[0m \u001b[0mo_shape\u001b[0m\u001b[1;33m\u001b[0m\u001b[1;33m\u001b[0m\u001b[0m\n",
      "\u001b[1;31mKeyboardInterrupt\u001b[0m: "
     ]
    }
   ],
   "source": [
    "## tune p s.t. all master equations go to 0\n",
    "\n",
    "def fixParametersForPop(pop):\n",
    "    return np.array([findFixedParameters(p) for p in pop])\n",
    "\n",
    "def shuffle_along_axis(a, axis):\n",
    "    idx = np.random.rand(*a.shape).argsort(axis=axis)\n",
    "    return np.take_along_axis(a,idx,axis=axis)\n",
    "\n",
    "v_track = []\n",
    "\n",
    "# population size should always be even to have crossover work\n",
    "pop_size = 40*N_cp\n",
    "keep_percent = 0.3\n",
    "keep_number = int(pop_size*keep_percent)\n",
    "fix_percent = 0.00\n",
    "fix_number = int(pop_size*fix_percent)\n",
    "fix_interval = 50\n",
    "cross_chance = 0.8\n",
    "mut_chance = 0.005\n",
    "mut_percent = 0.01\n",
    "mut_percent_from_score_offset = 1.5 # We now mutate % wise based on the score*10^offset; ~perc=10^-3 works at score 10^-7, so offset should be 4\n",
    "\n",
    "# initilize population\n",
    "pop = np.random.rand(pop_size, N_cp, M)*2-1\n",
    "pop = fixParametersForPop(pop)\n",
    "pop = np.array([p/max(p) for p in pop])\n",
    "\n",
    "# fitness function\n",
    "def fitness(pop):\n",
    "    return np.array([ME(p) for p in pop])\n",
    "\n",
    "scores = fitness(pop)\n",
    "\n",
    "counter = 1\n",
    "max_iter = 100000\n",
    "\n",
    "# starting message\n",
    "print('= Starting Genetic Algorithm =')\n",
    "print(f'Keep {keep_number} out of {pop_size} individuals.')\n",
    "print(f'Fix {fix_number} out of {pop_size} individuals every {fix_interval} generations.')\n",
    "print(f'Crossover {cross_chance*100}% of pairs.')\n",
    "print(f'Initially mutate {mut_chance*100}% of parameters by {mut_percent*100}%.')\n",
    "\n",
    "while min(scores) > 10**-20 and counter < max_iter:\n",
    "    # precompute some values\n",
    "    m = min(scores)\n",
    "    lm = math.log10(m)\n",
    "    lm_reduce = 0\n",
    "    if int(lm)+mut_percent_from_score_offset < 0:\n",
    "        # lm_reduce = min(3**N-2, int(-lm)-mut_percent_from_score_offset)\n",
    "        lm_reduce = 0\n",
    "    \n",
    "    # selection\n",
    "    pop = pop[scores.argsort()[::-1]] # sorts in descending order of scores i.e. best is at bottom of pop\n",
    "    scores = scores[scores.argsort()[::-1]]\n",
    "    pop[:-keep_number] = np.array(r.choices(pop[keep_number:], weights=np.array(1 - scores/max(scores))[keep_number:], k=pop_size-keep_number))\n",
    "    \n",
    "    # fix parameters again\n",
    "    if counter % fix_interval == 0 and fix_number!=0:\n",
    "        pop[:fix_number] = fixParametersForPop(pop[:fix_number])\n",
    "        print('')\n",
    "        print(f'Fixed {pop[:fix_number].shape[0]} x {3**N-1} parameters')\n",
    "        \n",
    "    # shuffle\n",
    "    pop = shuffle_along_axis(pop, 0)\n",
    "    \n",
    "    \n",
    "    # crossover and mutation\n",
    "    for i in range(0,pop_size,2):\n",
    "        # q1 = pop[i,3**N-2-lm_reduce:].copy()\n",
    "        # q2 = pop[i+1,3**N-2-lm_reduce:].copy()\n",
    "        q1 = pop[i].copy()\n",
    "        q2 = pop[i+1].copy()\n",
    "        o_shape = q1.shape\n",
    "        q1.shape = o_shape[0]*o_shape[1] # turn [i,mu] into [i * mu] to make crossover easier\n",
    "        q2.shape = o_shape[0]*o_shape[1]\n",
    "        if r.random() < cross_chance: # crossover happens\n",
    "            x = np.random.randint(1, o_shape[0]*o_shape[1]) # find a point along the population\n",
    "            tmp = q2[:x].copy()\n",
    "            q2[:x], q1[:x]  = q1[:x], tmp # 1-point crossover\n",
    "        if lm < -2:\n",
    "            q1 += (np.random.rand(o_shape[0]*o_shape[1])-0.5)*2*max(q1)*m*10**mut_percent_from_score_offset * np.random.choice([0, 1], size=o_shape[0]*o_shape[1], p=[1-(mut_chance * -lm), mut_chance * -lm])\n",
    "            q2 += (np.random.rand(o_shape[0]*o_shape[1])-0.5)*2*max(q2)*m*10**mut_percent_from_score_offset * np.random.choice([0, 1], size=o_shape[0]*o_shape[1], p=[1-(mut_chance * -lm), mut_chance * -lm])\n",
    "        else:\n",
    "            q1 += (np.random.rand(o_shape[0]*o_shape[1])-0.5)*2*max(q1)*mut_percent * np.random.choice([0, 1], size=o_shape[0]*o_shape[1], p=[1-(mut_chance * (math.log(counter)+1)), mut_chance * (math.log(counter)+1)])\n",
    "            q2 += (np.random.rand(o_shape[0]*o_shape[1])-0.5)*2*max(q2)*mut_percent * np.random.choice([0, 1], size=o_shape[0]*o_shape[1], p=[1-(mut_chance * (math.log(counter)+1)), mut_chance * (math.log(counter)+1)])\n",
    "        q1.shape = o_shape\n",
    "        q2.shape = o_shape\n",
    "        pop[i] = q1\n",
    "        pop[i+1] = q2\n",
    "            \n",
    "\n",
    "    # score each individual in the generation\n",
    "    scores = fitness(pop)\n",
    "    if counter % 10 == 0:\n",
    "        print('')\n",
    "        print(f'= Generation {counter} =')\n",
    "        print(f'Failsaves: {m > 10**-20}, {counter < max_iter}.')\n",
    "        print(f'Current best and worst scores: [{np.format_float_scientific(m,2)},...,{np.format_float_scientific(max(scores),2)}].')\n",
    "        p = pop[np.argmin(scores)]\n",
    "        print(f'v={np.format_float_scientific(findSolutionV2D(3*cp_bound, 10000),2)}')\n",
    "        if lm < -2:\n",
    "            print(f'Currently mutate {np.format_float_scientific(mut_chance * (math.log(counter)+1)*100,2)}% of parameters by {np.format_float_scientific(m*10**mut_percent_from_score_offset*100,2)}%.')\n",
    "        else:\n",
    "            print(f'Currently mutate {np.format_float_scientific(mut_chance * (math.log(counter)+1)*100,2)}% of parameters by {np.format_float_scientific(mut_percent*100,2)}%.')\n",
    "\n",
    "    counter += 1\n",
    "    if(True):\n",
    "        p = pop[np.argmin(scores)]\n",
    "        v_track.append(findSolutionV2D(cp_bound, 10000))\n",
    "\n",
    "print('')\n",
    "print(f'= End at generation {counter} =')\n",
    "print(f'{min(scores) > 0.01}, {counter < max_iter}')\n",
    "scores = fitness(pop)\n",
    "print(min(scores))\n",
    "p = pop[np.argmin(scores)]\n",
    "print(f'v={np.format_float_scientific(findSolutionV2D(cp_bound, 10000),2)}')\n",
    "\n",
    "    "
   ]
  },
  {
   "cell_type": "code",
   "execution_count": 14,
   "id": "7a5a1d8e-f116-4475-94f5-57e38acfb329",
   "metadata": {},
   "outputs": [
    {
     "data": {
      "image/png": "[encoded data removed]",
      "text/plain": [
       "<Figure size 432x288 with 1 Axes>"
      ]
     },
     "metadata": {
      "needs_background": "light"
     },
     "output_type": "display_data"
    },
    {
     "name": "stdout",
     "output_type": "stream",
     "text": [
      "v=-0.113\n"
     ]
    },
    {
     "data": {
      "image/png": "[encoded data removed]",
      "text/plain": [
       "<Figure size 432x288 with 1 Axes>"
      ]
     },
     "metadata": {
      "needs_background": "light"
     },
     "output_type": "display_data"
    },
    {
     "data": {
      "image/png": "[encoded data removed]",
      "text/plain": [
       "<Figure size 432x288 with 1 Axes>"
      ]
     },
     "metadata": {
      "needs_background": "light"
     },
     "output_type": "display_data"
    },
    {
     "data": {
      "image/png": "[encoded data removed]",
      "text/plain": [
       "<Figure size 432x288 with 1 Axes>"
      ]
     },
     "metadata": {
      "needs_background": "light"
     },
     "output_type": "display_data"
    },
    {
     "data": {
      "image/png": "[encoded data removed]",
      "text/plain": [
       "<Figure size 432x288 with 1 Axes>"
      ]
     },
     "metadata": {
      "needs_background": "light"
     },
     "output_type": "display_data"
    },
    {
     "data": {
      "image/png": "[encoded data removed]",
      "text/plain": [
       "<Figure size 432x288 with 1 Axes>"
      ]
     },
     "metadata": {
      "needs_background": "light"
     },
     "output_type": "display_data"
    }
   ],
   "source": [
    "from matplotlib.ticker import PercentFormatter\n",
    "\n",
    "target = 4.8*10**-3\n",
    "\n",
    "v_track = np.array(v_track)\n",
    "plt.figure()\n",
    "plt.plot(v_track,'.',c='b',label='best v value of generation')\n",
    "plt.plot(v_track*0+target,c='r',label=(f'v={target}'))\n",
    "plt.plot(v_track*0+target+cp_bound,c='y',label=('bound'))\n",
    "plt.plot(v_track*0+target-cp_bound,c='y')\n",
    "plt.xlim(0,v_track.size)\n",
    "plt.xlabel('# generations')\n",
    "plt.ylabel('v')\n",
    "plt.legend()\n",
    "plt.show()\n",
    "print(f'v={np.round(findSolutionV2D(cp_bound, 10000),3)}')\n",
    "\n",
    "\n",
    "plt.figure()\n",
    "plt.hist(v_track, weights=np.ones(len(v_track)) / len(v_track), bins=16, range=(-0.4,0.4), rwidth=0.8)\n",
    "plt.xlabel('v')\n",
    "plt.ylabel('%')\n",
    "plt.xticks(np.arange(-0.4, 0.45, 0.05), rotation=90)\n",
    "plt.gca().yaxis.set_major_formatter(PercentFormatter(1))\n",
    "plt.ylim(0,1)\n",
    "plt.title(f'Last {v_track.size} generations (100%)')\n",
    "plt.show()\n",
    "\n",
    "plt.figure()\n",
    "plt.hist(v_track[int(0.25*v_track.size):], weights=np.ones(len(v_track[int(0.25*v_track.size):])) / len(v_track[int(0.25*v_track.size):]), bins=16, range=(-0.4,0.4), rwidth=0.8)\n",
    "plt.xlabel('v')\n",
    "plt.ylabel('%')\n",
    "plt.xticks(np.arange(-0.4, 0.45, 0.05), rotation=90)\n",
    "plt.gca().yaxis.set_major_formatter(PercentFormatter(1))\n",
    "plt.ylim(0,1)\n",
    "plt.title(f'Last {int(0.75*v_track.size):} generations (75%)')\n",
    "plt.show()\n",
    "\n",
    "plt.figure()\n",
    "plt.hist(v_track[int(0.5*v_track.size):], weights=np.ones(len(v_track[int(0.5*v_track.size):])) / len(v_track[int(0.5*v_track.size):]), bins=16, range=(-0.4,0.4), rwidth=0.8)\n",
    "plt.xlabel('v')\n",
    "plt.ylabel('%')\n",
    "plt.xticks(np.arange(-0.4, 0.45, 0.05), rotation=90)\n",
    "plt.gca().yaxis.set_major_formatter(PercentFormatter(1))\n",
    "plt.ylim(0,1)\n",
    "plt.title(f'Last {int(0.5*v_track.size):} generations (50%)')\n",
    "plt.show()\n",
    "\n",
    "plt.figure()\n",
    "plt.hist(v_track[int(0.75*v_track.size):], weights=np.ones(len(v_track[int(0.75*v_track.size):])) / len(v_track[int(0.75*v_track.size):]), bins=16, range=(-0.4,0.4), rwidth=0.8)\n",
    "plt.xlabel('v')\n",
    "plt.ylabel('%')\n",
    "plt.xticks(np.arange(-0.4, 0.45, 0.05), rotation=90)\n",
    "plt.gca().yaxis.set_major_formatter(PercentFormatter(1))\n",
    "plt.ylim(0,1)\n",
    "plt.title(f'Last {int(0.25*v_track.size):} generations (25%)')\n",
    "plt.show()\n",
    "\n",
    "plt.figure()\n",
    "plt.hist(v_track[int(0.95*v_track.size):], weights=np.ones(len(v_track[int(0.95*v_track.size):])) / len(v_track[int(0.95*v_track.size):]), bins=16, range=(-0.4,0.4), rwidth=0.8)\n",
    "plt.xlabel('v')\n",
    "plt.ylabel('%')\n",
    "plt.xticks(np.arange(-0.4, 0.45, 0.05), rotation=90)\n",
    "plt.gca().yaxis.set_major_formatter(PercentFormatter(1))\n",
    "plt.ylim(0,1)\n",
    "plt.title(f'Last {int(0.05*v_track.size):} generations (5%)')\n",
    "plt.show()"
   ]
  },
  {
   "cell_type": "code",
   "execution_count": null,
   "id": "d0c6c26f-4201-47a6-8873-5df01d73bc73",
   "metadata": {},
   "outputs": [],
   "source": [
    "# 15x15 cp, offset 4 no lm_reduce, done in 948 gen., vals [0, 0.2]\n",
    "# 15x15 cp, offset 4 with lm_reduce, done in 306 gen., vals [-0.1, 0.2]\n",
    "# 15x15 cp, offset 3 no lm_reduce, done in 198 gen., vals [-0.1, 0.2]\n",
    "\n",
    "# bounds to 3/4bound --> homes in on -0.064"
   ]
  }
 ],
 "metadata": {
  "kernelspec": {
   "display_name": "Python 3",
   "language": "python",
   "name": "python3"
  },
  "language_info": {
   "codemirror_mode": {
    "name": "ipython",
    "version": 3
   },
   "file_extension": ".py",
   "mimetype": "text/x-python",
   "name": "python",
   "nbconvert_exporter": "python",
   "pygments_lexer": "ipython3",
   "version": "3.8.8"
  }
 },
 "nbformat": 4,
 "nbformat_minor": 5
}
