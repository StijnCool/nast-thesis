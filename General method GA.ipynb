{
 "cells": [
  {
   "cell_type": "markdown",
   "id": "df58e9c2-5157-4c3e-ac20-016f27a99387",
   "metadata": {},
   "source": [
    "## Conventions \n",
    "$ \\alpha_1 \\rightarrow \\texttt{alpha1},\\quad \n",
    "\\alpha_u \\rightarrow \\texttt{alpha_u},\\quad \n",
    "\\alpha_* \\rightarrow \\texttt{alpha_fp} $ <br>\n",
    "$ \\tilde{\\alpha}_1 \\rightarrow \\texttt{Alpha1},\\quad \n",
    "\\tilde{\\alpha}_u \\rightarrow \\texttt{Alpha_u},\\quad \n",
    "\\tilde{\\alpha}_* \\rightarrow \\texttt{Alpha_fp} $ <br>"
   ]
  },
  {
   "cell_type": "markdown",
   "id": "4731f7ad-f103-41cd-8362-ec6bde8429bc",
   "metadata": {},
   "source": [
    "## Indices \n",
    "$$ \\text{General index for coordinates in theory space:} \\quad n = 1, \\ldots, N; \\quad \\beta^n, g^n, \\partial_n F, \\partial_n \\psi .$$ \\\n",
    "$$ \\text{Index for coordinates on $S_{UV}$:} \\quad \\alpha = 1, \\ldots, M=\\text{dim}(S_{UV}); \\quad \\beta^{\\alpha}, u^{\\alpha} .$$ \\\n",
    "$$ \\text{Index for coordinates that specify the embedding of $S_{UV}$ in $\\mathbb{R}^N$:} \\quad \\mu = 1, \\ldots, N-M; \\quad \\beta^{\\mu}, v^{\\mu}, F_{\\mu}, M_{\\mu}, p_{\\mu} .$$ \\\n",
    "$$ \\text{Index for the basis functions for the generating function:} \\quad i = 1, \\ldots, N_p = \\#\\text{colocation points}; \\quad \\psi^i, p_i .$$"
   ]
  },
  {
   "cell_type": "markdown",
   "id": "04219e1f-ca49-4f6b-86cb-7a4b63ce94a9",
   "metadata": {},
   "source": [
    "## Objects\n",
    "$$ \\text{Coordinates in theory space:} \\quad g^n \\mapsto \\{u^{\\alpha}, v^{\\mu} \\}; \\quad \\text{N-dim. (0,1)-tensor} .$$ \\\n",
    "$$ \\text{Beta functions:} \\quad \\beta^n: \\mathbb{R}^N \\mapsto \\mathbb{R}^N; \\quad \\text{N-dim. (0,1)-tensor} .$$ \\\n",
    "$$ \\text{Generating function:} \\quad F_{\\mu}: \\mathbb{R}^N \\mapsto \\mathbb{R}^{N-M}; F_{\\mu} = p_{\\mu i} \\psi^i \\equiv (p\\psi)_{\\mu}; \\quad \\text{(N-M)-dim. (1,0)-tensor} .$$ \\\n",
    "$$ \\text{Basis functions:} \\quad \\psi^i: \\mathbb{R}^N \\mapsto \\mathbb{R}^{N_p}; \\quad \\text{$N_p$-dim. (0,1)-tensor} .$$ \\\n",
    "$$ \\text{Free parameters:} \\quad p_{\\mu i}; \\quad \\text{((N-M)$\\times N_p$)-dim. (2,0)-tensor} .$$ \\\n",
    "$$ \\text{Derivatives of generating function:} \\quad (\\partial F)_{n \\mu} \\equiv \\partial_n F_{\\mu}: \\mathbb{R}^N \\mapsto \\mathbb{R}^N \\times \\mathbb{R}^{N-M}; \\partial_n F_{\\mu} = p_{\\mu i}\\partial_n \\psi^i \\equiv (p\\partial \\psi)_{n \\mu}; \\quad \\text{(N$\\times$(N-M))-dim. (2,0)-tensor} .$$ \\\n",
    "$$ \\text{Derivatives of the basis functions:} \\quad (\\partial\\psi)_n^i \\equiv \\partial_n \\psi^i: \\mathbb{R}^N \\mapsto \\mathbb{R}^N \\times \\mathbb{R}^{N_p}; \\quad \\text{(N$\\times N_p$)-dim. (1,1)-tensor} .$$ \\\n",
    "$$ \\text{Master equation:} \\quad M_{\\mu}: \\mathbb{R}^N \\mapsto \\mathbb{R}^{N-M}; M_{\\mu} = (\\partial_n F_{\\mu}) \\beta^n = p_{\\mu i} (\\partial_n \\psi^i) \\beta^n; \\quad \\text{(N-M)-dim. (1,0)-tensor} .$$ \\\n",
    "$$ \\text{Colocation points:} \\quad g_{col}^{in}; \\quad \\text{($N_p\\times$N)-dim. (0,2)-tensor} .$$ \\\n",
    "$$ \\text{Most of these objects have a version specific around the fixed point, denoted by a * sub- or superscript} .$$"
   ]
  },
  {
   "cell_type": "code",
   "execution_count": 1,
   "id": "e3f54f07-0f75-4189-bf1b-f034784e78c2",
   "metadata": {},
   "outputs": [],
   "source": [
    "## imports\n",
    "import math\n",
    "import numpy as np\n",
    "import matplotlib.pyplot as plt\n",
    "import seaborn as sns\n",
    "import pandas as pd\n",
    "import random as r\n",
    "\n",
    "## setup\n",
    "np.set_printoptions(linewidth=160)"
   ]
  },
  {
   "cell_type": "markdown",
   "id": "9900b586-7a3e-4212-bcab-a501ed4a244f",
   "metadata": {},
   "source": [
    "## Beta functions\n",
    "$$ \\beta^n: \\mathbb{R}^N \\mapsto \\mathbb{R}^N, g^n = \\begin{pmatrix} u^1 \\\\ \\vdots \\\\ u^M \\\\ v^1 \\\\ \\vdots \\\\ v^{N-M} \\end{pmatrix} \\mapsto \\begin{pmatrix}  \\beta_1(g^n) \\\\ \\vdots \\\\ \\beta_N(g^n) \\end{pmatrix}  \n",
    "\\equiv \\beta^n: \\mathbb{R}^2 \\mapsto \\mathbb{R}^2, g^n= \\begin{pmatrix} u \\\\ v \\end{pmatrix} \\mapsto \\begin{pmatrix} 2u-\\frac{3u^3}{2\\pi (v+u)^3} \\\\ -\\frac{u^2(7v+u)}{r\\pi (v+u)^3} \\end{pmatrix}  $$"
   ]
  },
  {
   "cell_type": "code",
   "execution_count": 2,
   "id": "1d036085-52e6-4b2c-b7cd-88031e9e5641",
   "metadata": {},
   "outputs": [],
   "source": [
    "## beta functions\n",
    "def beta(g):\n",
    "    return np.array([2*g[0] - 3*g[0]**3 / (2*math.pi*(g[1] + g[0])**3), -g[0]**2*(7*g[1] + g[0]) / (4*math.pi*(g[1] + g[0])**3)]) # beta[n] [!] this line is specifically 2D"
   ]
  },
  {
   "cell_type": "markdown",
   "id": "9271db25-7407-450d-8c16-b8c3b7a5ff0a",
   "metadata": {
    "tags": []
   },
   "source": [
    "## NGFP\n",
    "$$ \\beta^n(g^n_*) = 0 \\implies \\begin{pmatrix} u_* \\\\ v_* \\end{pmatrix} = \\begin{pmatrix} \\frac{343}{288\\pi} \\\\ -\\frac{49}{288\\pi} \\end{pmatrix} \\implies F_{\\mu}(g^n_*)=0 $$ "
   ]
  },
  {
   "cell_type": "code",
   "execution_count": 3,
   "id": "cd1f3be9-9a13-4ebb-a6ff-10429d3e3841",
   "metadata": {
    "tags": []
   },
   "outputs": [],
   "source": [
    "## NGFP (beta functions = 0)\n",
    "fp = np.array([343/(288*math.pi), -49/(288*math.pi)]) # fp[n] [!] this line is specifically 2D"
   ]
  },
  {
   "cell_type": "markdown",
   "id": "6562f3b2-3974-45e6-a709-fb165627bc2b",
   "metadata": {},
   "source": [
    "## Linear generating function and its derivatives\n",
    "$$ F^*_{\\mu}(g^n) = c_{n' \\mu}\\begin{pmatrix}g^n \\\\ 1\\end{pmatrix}^{n'} =\n",
    "\\begin{pmatrix}\n",
    "    c_{1,1} g^1 + c_{1,2} g^2 + \\cdots + c_{1,N} g^N + c_{1,N+1} \\\\\n",
    "    \\vdots \\\\\n",
    "    c_{N-M,1} g^1 + c_{N-M,2} g^2 + \\cdots + c_{N-M,N} g^N + c_{N-M,N+1}\n",
    "\\end{pmatrix}^T\n",
    "\\equiv F^*(u,v) = (172-137\\sqrt{43})u + (215+44\\sqrt{43})v + \\frac{49(1003\\sqrt{43}-989)}{288\\pi} $$ \\\n",
    "$$ \\partial_n F^*_{\\mu}(g^n) = (\\partial F^*(g^n))_n = c_{n\\mu} =\n",
    "\\begin{pmatrix}\n",
    "    c_{1,1} & \\cdots & c_{1,N-M} \\\\\n",
    "    \\vdots & & \\vdots \\\\\n",
    "    c_{N,1} & \\cdots & c_{N,N-M}\n",
    "\\end{pmatrix}\n",
    "\\equiv (\\nabla F^*(u,v))_n = \\Bigg( 172-137\\sqrt{43} \\quad 215+44\\sqrt{43} \\Bigg) $$"
   ]
  },
  {
   "cell_type": "code",
   "execution_count": 4,
   "id": "5438290e-a584-4c0d-a2f3-40e6c370dd6f",
   "metadata": {},
   "outputs": [],
   "source": [
    "## linear generating function and its derivative\n",
    "\n",
    "c_fp = np.array([\n",
    "    [172 - 137*43**0.5], \n",
    "    [215 + 44*43**0.5], \n",
    "    [49*(1003*43**0.5 - 989)/(288*math.pi)]\n",
    "]) # N+1 x N-M coefficients c_fp[n',mu] [!] this line is specifically 2D\n",
    "\n",
    "def F_fp(g, c_fp): # Calculate c_fp[n',mu]*g[n'] (n' means (gn, 1))\n",
    "    return np.matmul(np.append(g,[1]),c_fp) # F_fp [!] this line is specifically 2D\n",
    "\n",
    "def dF_fp(c_fp): # Return dF_fp\n",
    "    return c_fp[:-1,:] # dF_fp[nth derivative] [!] this line is specifically 2D"
   ]
  },
  {
   "cell_type": "code",
   "execution_count": 5,
   "id": "9a047100-65ec-419d-bd73-b83cc0454aac",
   "metadata": {},
   "outputs": [
    {
     "data": {
      "image/png": "[encoded data removed]",
      "text/plain": [
       "<Figure size 432x288 with 1 Axes>"
      ]
     },
     "metadata": {
      "needs_background": "light"
     },
     "output_type": "display_data"
    }
   ],
   "source": [
    "## generate grid of colocation points\n",
    "\n",
    "N_cp_g = 13 # Number of colocation points in each direction g^n\n",
    "N_cp = N_cp_g**fp.size # Number of colocation points\n",
    "cp_bound = 0.5 # Search space above and below fp\n",
    "\n",
    "cps = np.array([np.linspace(gn-cp_bound, gn+cp_bound, N_cp_g) for gn in fp]) # linspaces that span space of colocation points\n",
    "gg = np.array(np.meshgrid(*cps,indexing='ij')) # gg[n,n_cp_g1,...,n_cp_gn]\n",
    "\n",
    "sigma = N_cp_g*0.5/cp_bound # smoothness factor for basis functions\n",
    "\n",
    "def idToCoord(cp):\n",
    "    # maps a 1D array of collocation point ids [0, ..., N_cp_g-1] to the coordinates on the grid\n",
    "    coords = np.zeros((cp.size, fp.size))\n",
    "    for d in (range(1,fp.size+1)):\n",
    "        D = fp.size-d\n",
    "        coords[:,D] = cp - np.mod(cp, np.ones(cp.size)*N_cp_g**D)\n",
    "        if D != fp.size-1:\n",
    "            for dd in range(D+1,fp.size):\n",
    "                coords[:,D] -= coords[:,dd]*N_cp_g**dd\n",
    "        coords[:,D] = np.divide(coords[:,D], np.ones(cp.size)*N_cp_g**D)\n",
    "        coords = coords.astype(int)\n",
    "    return np.array([gg[:,coords[:,0],coords[:,1]][:,i] for i in range(0, cp.size)]) # idToCoord[ith cp, nth coord] [!] this line is specifically 2D\n",
    "\n",
    "CP = idToCoord(np.array(list(range(0,N_cp)))) # CP[ith cp, nth coord]\n",
    "\n",
    "# plot colocation points\n",
    "if gg.shape[0] == 2:\n",
    "    fig_grid = plt.figure()\n",
    "    ax_grid = fig_grid.add_subplot()\n",
    "    plt.plot(gg[0], gg[1], marker='o', color='k', linestyle='none')\n",
    "    plt.plot(fp[0], fp[1], marker='x', color='y')\n",
    "    plt.plot(gg[0,1,2], gg[1,1,2], marker='o', color='b')\n",
    "    ax_grid.set_aspect('equal', adjustable='box')\n",
    "    plt.show()"
   ]
  },
  {
   "cell_type": "markdown",
   "id": "cd276a66-1f0a-46fc-a389-a46a7b01cb85",
   "metadata": {},
   "source": [
    "## Basis functions (Multivariate Cauchy Distributions)\n",
    "$$ \\psi^i(g^n) = \\Bigg( 1 + \\sum^N_n\\frac{(g^n-g^{in}_{col})^2}{\\sigma^2} \\Bigg)^{-1} $$ \\\n",
    "$$ \\partial_n\\psi^i(g^n) = (\\partial\\psi(g^n))_n^i = -\\frac{2}{\\sigma^2}(g^n-g^{in}_{col})\\psi^i(g^n)^2 $$"
   ]
  },
  {
   "cell_type": "code",
   "execution_count": 6,
   "id": "5bec665a-b772-4ae2-a7b9-ded9a7e4025c",
   "metadata": {},
   "outputs": [
    {
     "data": {
      "text/plain": [
       "<AxesSubplot:>"
      ]
     },
     "execution_count": 6,
     "metadata": {},
     "output_type": "execute_result"
    },
    {
     "data": {
      "image/png": "[encoded data removed]",
      "text/plain": [
       "<Figure size 432x288 with 2 Axes>"
      ]
     },
     "metadata": {
      "needs_background": "light"
     },
     "output_type": "display_data"
    }
   ],
   "source": [
    "## Basis functions and their derivatives\n",
    "\n",
    "CP_tiled = CP.transpose() # CP_tiled[nth coord,ith cp]\n",
    "\n",
    "def psi(G): # G[point, nth coord]\n",
    "    # divide(1, (1 + 1/sigma**2 * matmul(1, square([g,...,g]^T - CP^T)))) for all g in G\n",
    "    return np.array([np.divide(np.ones(N_cp),(np.ones(N_cp) + (1/sigma**2)*np.matmul(np.ones(fp.size),np.square(np.tile(g,(N_cp,1)).transpose() - CP_tiled)))) for g in G]) # psi[point,ith cp]\n",
    "\n",
    "def dpsi(G): # G[point, nth coord]\n",
    "    # multiply(-2/sigma**2 * ([g,...,g]^T - CP^T) for all g in G, (tile(np.square(psi(CP)),(fp.size,1,1)), axes=[1,0,2])^T)\n",
    "    return np.multiply(np.array([((-2/sigma**2) * (np.tile(g,(N_cp,1)).transpose() - CP_tiled)) for g in G]), np.transpose(np.tile(np.square(psi(CP)),(fp.size,1,1)), axes=[1,0,2])) # dpsi[point, nth derivative,ith cp]\n",
    "\n",
    "test = psi(CP)\n",
    "test2 = np.array([np.sum(t) for t in test])\n",
    "plt.figure()\n",
    "sns.heatmap(np.array([[test2[i+N_cp_g*j] for i in range(0,N_cp_g)] for j in range(0,N_cp_g)]))"
   ]
  },
  {
   "cell_type": "code",
   "execution_count": null,
   "id": "1c9064fd-3b4f-44bc-8bda-c349207ed87f",
   "metadata": {},
   "outputs": [],
   "source": []
  },
  {
   "cell_type": "code",
   "execution_count": null,
   "id": "a7a48094-1ea7-400c-947f-c71a26b6c58b",
   "metadata": {},
   "outputs": [],
   "source": []
  }
 ],
 "metadata": {
  "kernelspec": {
   "display_name": "Python 3",
   "language": "python",
   "name": "python3"
  },
  "language_info": {
   "codemirror_mode": {
    "name": "ipython",
    "version": 3
   },
   "file_extension": ".py",
   "mimetype": "text/x-python",
   "name": "python",
   "nbconvert_exporter": "python",
   "pygments_lexer": "ipython3",
   "version": "3.8.8"
  }
 },
 "nbformat": 4,
 "nbformat_minor": 5
}
