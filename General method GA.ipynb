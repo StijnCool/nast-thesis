{
 "cells": [
  {
   "cell_type": "markdown",
   "id": "df58e9c2-5157-4c3e-ac20-016f27a99387",
   "metadata": {},
   "source": [
    "Conventions <br>\n",
    "$ \\alpha_1 \\rightarrow \\texttt{alpha1},\\quad \n",
    "\\alpha_u \\rightarrow \\texttt{alpha\\_u},\\quad \n",
    "\\alpha_* \\rightarrow \\texttt{alpha\\_fp} $ <br>\n",
    "$ \\tilde{\\alpha}_1 \\rightarrow \\texttt{Alpha1},\\quad \n",
    "\\tilde{\\alpha}_u \\rightarrow \\texttt{Alpha\\_u},\\quad \n",
    "\\tilde{\\alpha}_* \\rightarrow \\texttt{Alpha\\_fp} $ <br>"
   ]
  },
  {
   "cell_type": "code",
   "execution_count": 1,
   "id": "e3f54f07-0f75-4189-bf1b-f034784e78c2",
   "metadata": {},
   "outputs": [
    {
     "name": "stderr",
     "output_type": "stream",
     "text": [
      "C:\\Users\\Stijn Hennissen\\AppData\\Local\\Programs\\Python\\Python39\\lib\\site-packages\\scipy\\__init__.py:138: UserWarning: A NumPy version >=1.16.5 and <1.23.0 is required for this version of SciPy (detected version 1.26.4)\n",
      "  warnings.warn(f\"A NumPy version >={np_minversion} and <{np_maxversion} is required for this version of \"\n"
     ]
    }
   ],
   "source": [
    "## imports\n",
    "import math\n",
    "import numpy as np\n",
    "import matplotlib.pyplot as plt\n",
    "import seaborn as sns\n",
    "import pandas as pd\n",
    "import random as r"
   ]
  },
  {
   "cell_type": "markdown",
   "id": "9900b586-7a3e-4212-bcab-a501ed4a244f",
   "metadata": {},
   "source": [
    "Beta functions (SUV is M-dim embedded in N-dim)\n",
    "$$ \\beta_n: \\mathbb{R}^N \\mapsto \\mathbb{R}^N, g^n = \n",
    "\\begin{pmatrix} \n",
    "    u^1 \\\\ \n",
    "    \\vdots \\\\ \n",
    "    u^M \\\\\n",
    "    v^1 \\\\\n",
    "    \\vdots \\\\\n",
    "    v^{N-M}\n",
    "\\end{pmatrix} \n",
    "\\mapsto \\Bigg( \\beta_1(g^n) \\cdots \\beta_N(g^n) \\Bigg) \\equiv \\beta_n: \\mathbb{R}^2 \\mapsto \\mathbb{R}^2, g^n=\n",
    "\\begin{pmatrix} \n",
    "    u \\\\ \n",
    "    v \n",
    "\\end{pmatrix} \n",
    "\\mapsto \\Bigg( 2u-\\frac{3u^3}{2\\pi (v+u)^3} \\quad -\\frac{u^2(7v+u)}{r\\pi (v+u)^3} \\Bigg) $$"
   ]
  },
  {
   "cell_type": "code",
   "execution_count": 2,
   "id": "1d036085-52e6-4b2c-b7cd-88031e9e5641",
   "metadata": {},
   "outputs": [],
   "source": [
    "## beta functions\n",
    "def beta(g):\n",
    "    return np.array([2*g[0] - 3*g[0]**3 / (2*math.pi*(g[1] + g[0])**3), -g[0]**2*(7*g[1] + g[0]) / (4*math.pi*(g[1] + g[0])**3)]) # beta[n]"
   ]
  },
  {
   "cell_type": "markdown",
   "id": "9271db25-7407-450d-8c16-b8c3b7a5ff0a",
   "metadata": {},
   "source": [
    "NGFP\n",
    "$$ \\beta_n(g^n_*) = 0 \\implies \\begin{pmatrix} u_* \\\\ v_* \\end{pmatrix} = \\begin{pmatrix} \\frac{343}{288\\pi} \\\\ -\\frac{49}{288\\pi} \\end{pmatrix} \\implies F_{\\mu}(g^n_*)=0 $$"
   ]
  },
  {
   "cell_type": "code",
   "execution_count": 3,
   "id": "cd1f3be9-9a13-4ebb-a6ff-10429d3e3841",
   "metadata": {},
   "outputs": [],
   "source": [
    "## NGFP (beta functions = 0)\n",
    "fp = np.array([343/(288*math.pi), -49/(288*math.pi)]) # fp[n]"
   ]
  },
  {
   "cell_type": "markdown",
   "id": "6562f3b2-3974-45e6-a709-fb165627bc2b",
   "metadata": {},
   "source": [
    "Linear generating function and its derivatives\n",
    "$$ F^*_{\\mu}(g^n) = c_{n' \\mu}\\begin{pmatrix}g^n \\\\ 1\\end{pmatrix}^{n'} =\n",
    "\\begin{pmatrix}\n",
    "    c_{1,1} g^1 + c_{1,2} g^2 + \\cdots + c_{1,N} g^N + c_{1,N+1} \\\\\n",
    "    \\vdots \\\\\n",
    "    c_{N-M,1} g^1 + c_{N-M,2} g^2 + \\cdots + c_{N-M,N} g^N + c_{N-M,N+1}\n",
    "\\end{pmatrix}^T\n",
    "\\equiv F^*(u,v) = (172-137\\sqrt{43})u + (215+44\\sqrt{43})v + \\frac{49(1003\\sqrt{43}-989)}{288\\pi} $$ \\\n",
    "$$ \\partial_n F^*_{\\mu}(g^n) = (\\partial F^*(g^n))_n = c_{n\\mu} =\n",
    "\\begin{pmatrix}\n",
    "    c_{1,1} & \\cdots & c_{1,N-M} \\\\\n",
    "    \\vdots & & \\vdots \\\\\n",
    "    c_{N,1} & \\cdots & c_{N,N-M}\n",
    "\\end{pmatrix}\n",
    "\\equiv (\\nabla F^*(u,v))_n = \\Bigg( 172-137\\sqrt{43} \\quad 215+44\\sqrt{43} \\Bigg) $$"
   ]
  },
  {
   "cell_type": "code",
   "execution_count": 4,
   "id": "5438290e-a584-4c0d-a2f3-40e6c370dd6f",
   "metadata": {},
   "outputs": [],
   "source": [
    "## linear generating function and its derivative\n",
    "\n",
    "c_fp = np.array([\n",
    "    [172 - 137*43**0.5], \n",
    "    [215 + 44*43**0.5], \n",
    "    [49*(1003*43**0.5 - 989)/(288*math.pi)]\n",
    "]) # N+1 x N-M coefficients c_fp[n',mu]\n",
    "\n",
    "def F_fp(g, c_fp): # Calculate c_fp[n',mu]*g[n'] (n' means (gn, 1))\n",
    "    return np.matmul(np.append(g,[1]),c_fp) #F_fp\n",
    "\n",
    "def dF_fp(c_fp): # Return dF_fp\n",
    "    return c_fp[:-1,:] # dF_fp[n]"
   ]
  },
  {
   "cell_type": "code",
   "execution_count": 5,
   "id": "9a047100-65ec-419d-bd73-b83cc0454aac",
   "metadata": {},
   "outputs": [
    {
     "data": {
      "image/png": "[encoded data removed]",
      "text/plain": [
       "<Figure size 640x480 with 1 Axes>"
      ]
     },
     "metadata": {},
     "output_type": "display_data"
    }
   ],
   "source": [
    "## generate grid of colocation points\n",
    "\n",
    "N_cp_g = 13 # Number of colocation points in each direction g^n\n",
    "N_cp = N_cp_g**fp.size # Number of colocation points\n",
    "cp_bound = 0.5 # Search space above and below fp\n",
    "\n",
    "cps = np.array([np.linspace(gn-cp_bound, gn+cp_bound, N_cp_g) for gn in fp]) # linspaces that span space of colocation points\n",
    "gg = np.array(np.meshgrid(*cps,indexing='ij')) # gg[n,n_cp_g1,...,n_cp_gn]\n",
    "\n",
    "sigma = N_cp_g*0.5/cp_bound # smoothness factor for basis functions\n",
    "\n",
    "def idToCoord(cp):\n",
    "    # maps a 1D array of collocation point ids [0, ..., N_cp_g-1] to the coordinates on the grid\n",
    "    coords = np.zeros((cp.size, fp.size))\n",
    "    for d in (range(1,fp.size+1)):\n",
    "        D = fp.size-d\n",
    "        coords[:,D] = cp - np.mod(cp, np.ones(cp.size)*N_cp_g**D)\n",
    "        if D != fp.size-1:\n",
    "            for dd in range(D+1,fp.size):\n",
    "                coords[:,D] -= coords[:,dd]*N_cp_g**dd\n",
    "        coords[:,D] = np.divide(coords[:,D], np.ones(cp.size)*N_cp_g**D)\n",
    "        coords = coords.astype(int)\n",
    "    return np.array([gg[:,coords[:,0],coords[:,1]][:,i] for i in range(0, cp.size)]) # idToCoord[cp,gn] [!] this line is specifically 2D\n",
    "\n",
    "CP = idToCoord(np.array(list(range(0,N_cp))))\n",
    "\n",
    "# plot colocation points\n",
    "if gg.shape[0] == 2:\n",
    "    fig_grid = plt.figure()\n",
    "    ax_grid = fig_grid.add_subplot()\n",
    "    plt.plot(gg[0], gg[1], marker='o', color='k', linestyle='none')\n",
    "    plt.plot(fp[0], fp[1], marker='x', color='y')\n",
    "    plt.plot(gg[0,1,2], gg[1,1,2], marker='o', color='b')\n",
    "    ax_grid.set_aspect('equal', adjustable='box')\n",
    "    plt.show()"
   ]
  },
  {
   "cell_type": "markdown",
   "id": "cd276a66-1f0a-46fc-a389-a46a7b01cb85",
   "metadata": {},
   "source": [
    "Basis functions (Multivariate Cauchy Distributions)\n",
    "$$ \\psi^i(g^n) = \\Bigg( 1 + \\sum^N_n\\frac{(g^n-g^{in}_{col})^2}{\\sigma^2} \\Bigg)^{-1} $$ \\\n",
    "$$ \\partial_n\\psi^i(g^n) = (\\partial\\psi(g^n))_n^i = -\\frac{2}{\\sigma^2}(g^n-g^{in}_{col})\\psi^i(g^n)^2 $$"
   ]
  },
  {
   "cell_type": "code",
   "execution_count": 6,
   "id": "5bec665a-b772-4ae2-a7b9-ded9a7e4025c",
   "metadata": {},
   "outputs": [
    {
     "data": {
      "text/plain": [
       "<AxesSubplot:>"
      ]
     },
     "execution_count": 6,
     "metadata": {},
     "output_type": "execute_result"
    },
    {
     "data": {
      "image/png": "[encoded data removed]",
      "text/plain": [
       "<Figure size 640x480 with 2 Axes>"
      ]
     },
     "metadata": {},
     "output_type": "display_data"
    }
   ],
   "source": [
    "## Basis functions and their derivatives\n",
    "\n",
    "def psi(G):\n",
    "    # returns \n",
    "    CP_tiled = CP.transpose()\n",
    "    return np.array([np.divide(np.ones(N_cp),(np.ones(N_cp) + np.divide(np.matmul(np.ones(fp.size),np.square(np.tile(g,(N_cp,1)).transpose() - CP_tiled)),np.ones(N_cp)*sigma**2))) for g in G]) # psi[n,i]\n",
    "\n",
    "test = psi(CP)\n",
    "test2 = np.array([np.sum(t) for t in test])\n",
    "\n",
    "plt.figure()\n",
    "sns.heatmap(np.array([[test2[i+N_cp_g*j] for i in range(0,N_cp_g)] for j in range(0,N_cp_g)]))"
   ]
  },
  {
   "cell_type": "code",
   "execution_count": null,
   "id": "1c9064fd-3b4f-44bc-8bda-c349207ed87f",
   "metadata": {},
   "outputs": [],
   "source": []
  },
  {
   "cell_type": "code",
   "execution_count": null,
   "id": "703fe8b2-1d9f-4e62-b3e2-f56b5fee044d",
   "metadata": {},
   "outputs": [],
   "source": []
  },
  {
   "cell_type": "code",
   "execution_count": null,
   "id": "a7a48094-1ea7-400c-947f-c71a26b6c58b",
   "metadata": {},
   "outputs": [],
   "source": []
  }
 ],
 "metadata": {
  "kernelspec": {
   "display_name": "Python 3 (ipykernel)",
   "language": "python",
   "name": "python3"
  },
  "language_info": {
   "codemirror_mode": {
    "name": "ipython",
    "version": 3
   },
   "file_extension": ".py",
   "mimetype": "text/x-python",
   "name": "python",
   "nbconvert_exporter": "python",
   "pygments_lexer": "ipython3",
   "version": "3.9.5"
  }
 },
 "nbformat": 4,
 "nbformat_minor": 5
}
