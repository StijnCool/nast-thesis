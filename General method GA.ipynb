{
 "cells": [
  {
   "cell_type": "markdown",
   "id": "df58e9c2-5157-4c3e-ac20-016f27a99387",
   "metadata": {},
   "source": [
    "## Conventions \n",
    "$ \\alpha_1 \\rightarrow \\texttt{alpha1},\\quad \n",
    "\\alpha_u \\rightarrow \\texttt{alpha_u},\\quad \n",
    "\\alpha_* \\rightarrow \\texttt{alpha_fp} $ <br>\n",
    "$ \\tilde{\\alpha}_1 \\rightarrow \\texttt{Alpha1},\\quad \n",
    "\\tilde{\\alpha}_u \\rightarrow \\texttt{Alpha_u},\\quad \n",
    "\\tilde{\\alpha}_* \\rightarrow \\texttt{Alpha_fp} $ <br>"
   ]
  },
  {
   "cell_type": "markdown",
   "id": "4731f7ad-f103-41cd-8362-ec6bde8429bc",
   "metadata": {},
   "source": [
    "## Indices \n",
    "$$ \\text{General index for coordinates in theory space:} \\quad n = 1, \\ldots, N; \\quad \\beta^n, g^n, \\partial_n F, \\partial_n \\psi .$$ \\\n",
    "$$ \\text{Index for coordinates on $S_{UV}$:} \\quad \\alpha = 1, \\ldots, M=\\text{dim}(S_{UV}); \\quad \\beta^{\\alpha}, u^{\\alpha} .$$ \\\n",
    "$$ \\text{Index for coordinates that specify the embedding of $S_{UV}$ in $\\mathbb{R}^N$:} \\quad \\mu = 1, \\ldots, N-M; \\quad \\beta^{\\mu}, v^{\\mu}, F_{\\mu}, M_{\\mu}, p_{\\mu} .$$ \\\n",
    "$$ \\text{Index for the basis functions for the generating function and primary index for colocation points:} \\quad i = 1, \\ldots, N_p = \\#\\text{colocation points}; \\quad \\psi^i, p_i, g^{in}_{col} .$$ \\\n",
    "$$ \\text{Secundary (Tertiary) index for colocation points:} \\quad j,k = 1, \\ldots, N_p = \\#\\text{colocation points}; \\quad g^{jn}_{col}, g^{kn}_{\\sim} .$$"
   ]
  },
  {
   "cell_type": "markdown",
   "id": "04219e1f-ca49-4f6b-86cb-7a4b63ce94a9",
   "metadata": {},
   "source": [
    "## Objects\n",
    "$$ \\text{Coordinates in theory space:} \\quad g^n \\mapsto \\{u^{\\alpha}, v^{\\mu} \\}; \\quad \\text{N-dim. (0,1)-tensor} .$$ \\\n",
    "$$ \\text{Beta functions:} \\quad \\beta^n: \\mathbb{R}^N \\mapsto \\mathbb{R}^N; \\quad \\text{N-dim. (0,1)-tensor} .$$ \\\n",
    "$$ \\text{Generating function:} \\quad F_{\\mu}: \\mathbb{R}^N \\mapsto \\mathbb{R}^{N-M}; F_{\\mu} = p_{i \\mu} \\psi^i \\equiv (p\\psi)_{\\mu}; \\quad \\text{(N-M)-dim. (1,0)-tensor} .$$ \\\n",
    "$$ \\text{Basis functions:} \\quad \\psi^i: \\mathbb{R}^N \\mapsto \\mathbb{R}^{N_p}; \\quad \\text{$N_p$-dim. (0,1)-tensor} .$$ \\\n",
    "$$ \\text{Free parameters:} \\quad p_{i \\mu}; \\quad \\text{($N_p \\times$(N-M))-dim. (2,0)-tensor} .$$ \\\n",
    "$$ \\text{Derivatives of generating function:} \\quad (\\partial F)_{n \\mu} \\equiv \\partial_n F_{\\mu}: \\mathbb{R}^N \\mapsto \\mathbb{R}^N \\times \\mathbb{R}^{N-M}; \\partial_n F_{\\mu} = p_{i \\mu}\\partial_n \\psi^i \\equiv (p\\partial \\psi)_{n \\mu}; \\quad \\text{(N$\\times$(N-M))-dim. (2,0)-tensor} .$$ \\\n",
    "$$ \\text{Derivatives of the basis functions:} \\quad (\\partial\\psi)_n^i \\equiv \\partial_n \\psi^i: \\mathbb{R}^N \\mapsto \\mathbb{R}^N \\times \\mathbb{R}^{N_p}; \\quad \\text{(N$\\times N_p$)-dim. (1,1)-tensor} .$$ \\\n",
    "$$ \\text{Master equation:} \\quad M_{\\mu}: \\mathbb{R}^N \\mapsto \\mathbb{R}^{N-M}; M_{\\mu} = (\\partial_n F_{\\mu}) \\beta^n = p_{i \\mu} (\\partial_n \\psi^i) \\beta^n; \\quad \\text{(N-M)-dim. (1,0)-tensor} .$$ \\\n",
    "$$ \\text{Colocation points:} \\quad g_{col}^{in}; \\quad \\text{($N_p\\times$N)-dim. (0,2)-tensor} .$$ \\\n",
    "$$ \\text{Most of these objects have a version specific at the fixed point, denoted by a * sub- or superscript} .$$ \\\n",
    "$$ \\text{Alternatively, they might have a version specific to points around the fixed point, denoted by a $\\sim$ sub- or superscript} .$$"
   ]
  },
  {
   "cell_type": "code",
   "execution_count": 1,
   "id": "e3f54f07-0f75-4189-bf1b-f034784e78c2",
   "metadata": {},
   "outputs": [],
   "source": [
    "## imports\n",
    "import math\n",
    "import numpy as np\n",
    "import matplotlib.pyplot as plt\n",
    "import seaborn as sns\n",
    "import pandas as pd\n",
    "import random as r\n",
    "from itertools import product\n",
    "\n",
    "## setup\n",
    "np.set_printoptions(linewidth=160)\n"
   ]
  },
  {
   "cell_type": "markdown",
   "id": "9900b586-7a3e-4212-bcab-a501ed4a244f",
   "metadata": {},
   "source": [
    "## Beta functions\n",
    "$$ \\beta^n: \\mathbb{R}^N \\mapsto \\mathbb{R}^N, g^n = \\begin{pmatrix} u^1 \\\\ \\vdots \\\\ u^M \\\\ v^1 \\\\ \\vdots \\\\ v^{N-M} \\end{pmatrix} \\mapsto \\begin{pmatrix}  \\beta^1(g^n) \\\\ \\vdots \\\\ \\beta^N(g^n) \\end{pmatrix}  \n",
    "\\equiv \\beta^n: \\mathbb{R}^2 \\mapsto \\mathbb{R}^2, g^n= \\begin{pmatrix} u \\\\ v \\end{pmatrix} \\mapsto \\begin{pmatrix} 2u-\\frac{3u^3}{2\\pi (v+u)^3} \\\\ -\\frac{u^2(7v+u)}{r\\pi (v+u)^3} \\end{pmatrix}  $$"
   ]
  },
  {
   "cell_type": "code",
   "execution_count": 2,
   "id": "1d036085-52e6-4b2c-b7cd-88031e9e5641",
   "metadata": {},
   "outputs": [],
   "source": [
    "## beta functions\n",
    "def beta(g):\n",
    "    return np.array([2*g[0] - 3*g[0]**3 / (2*math.pi*(g[1] + g[0])**3), -g[0]**2*(7*g[1] + g[0]) / (4*math.pi*(g[1] + g[0])**3)]) # beta[n] [!] this line is specifically 2D\n"
   ]
  },
  {
   "cell_type": "markdown",
   "id": "9271db25-7407-450d-8c16-b8c3b7a5ff0a",
   "metadata": {
    "tags": []
   },
   "source": [
    "## NGFP\n",
    "$$ \\beta^n(g^n_*) = 0 \\implies \\begin{pmatrix} u_* \\\\ v_* \\end{pmatrix} = \\begin{pmatrix} \\frac{343}{288\\pi} \\\\ -\\frac{49}{288\\pi} \\end{pmatrix} \\implies F_{\\mu}(g^n_*)=0 $$ "
   ]
  },
  {
   "cell_type": "code",
   "execution_count": 3,
   "id": "cd1f3be9-9a13-4ebb-a6ff-10429d3e3841",
   "metadata": {
    "tags": []
   },
   "outputs": [],
   "source": [
    "## NGFP (beta functions = 0)\n",
    "fp = np.array([343/(288*math.pi), -49/(288*math.pi)]) # fp[n] [!] this line is specifically 2D\n",
    "N = fp.size\n",
    "M = 1 # [!] this line is specifically 2D\n"
   ]
  },
  {
   "cell_type": "markdown",
   "id": "6562f3b2-3974-45e6-a709-fb165627bc2b",
   "metadata": {},
   "source": [
    "## Linear generating function and its derivatives\n",
    "$$ F^*_{\\mu}(g^n) = c_{n' \\mu}\\begin{pmatrix}g^n \\\\ 1\\end{pmatrix}^{n'} =\n",
    "\\begin{pmatrix}\n",
    "    c_{1,1} g^1 + c_{1,2} g^2 + \\cdots + c_{1,N} g^N + c_{1,N+1} \\\\\n",
    "    \\vdots \\\\\n",
    "    c_{N-M,1} g^1 + c_{N-M,2} g^2 + \\cdots + c_{N-M,N} g^N + c_{N-M,N+1}\n",
    "\\end{pmatrix}^T\n",
    "\\equiv F^*(u,v) = (172-137\\sqrt{43})u + (215+44\\sqrt{43})v + \\frac{49(1003\\sqrt{43}-989)}{288\\pi} $$ \\\n",
    "$$ \\partial_n F^*_{\\mu}(g^n) = (\\partial F^*(g^n))_n = c_{n\\mu} =\n",
    "\\begin{pmatrix}\n",
    "    c_{1,1} & \\cdots & c_{1,N-M} \\\\\n",
    "    \\vdots & & \\vdots \\\\\n",
    "    c_{N,1} & \\cdots & c_{N,N-M}\n",
    "\\end{pmatrix}\n",
    "\\equiv (\\nabla F^*(u,v))_n = \\Bigg( 172-137\\sqrt{43} \\quad 215+44\\sqrt{43} \\Bigg) $$"
   ]
  },
  {
   "cell_type": "code",
   "execution_count": 4,
   "id": "5438290e-a584-4c0d-a2f3-40e6c370dd6f",
   "metadata": {},
   "outputs": [],
   "source": [
    "## linear generating function and its derivative\n",
    "\n",
    "c_fp = np.array([\n",
    "    [172 - 137*43**0.5], \n",
    "    [215 + 44*43**0.5], \n",
    "    [49*(1003*43**0.5 - 989)/(288*math.pi)]\n",
    "]) # N+1 x N-M coefficients c_fp[n',mu] [!] this line is specifically 2D\n",
    "\n",
    "def F_fp(g): # Calculate c_fp[n',mu]*g[n'] (n' means (gn, 1))\n",
    "    return np.matmul(np.append(g,[1]),c_fp) # F_fp [!] this line is specifically 2D\n",
    "\n",
    "def dF_fp(): # Return dF_fp\n",
    "    return np.array([c_fp[:-1,:]]) # dF_fp[nth derivative] [!] this line is specifically 2D\n"
   ]
  },
  {
   "cell_type": "code",
   "execution_count": 5,
   "id": "9a047100-65ec-419d-bd73-b83cc0454aac",
   "metadata": {},
   "outputs": [],
   "source": [
    "## generate grid of colocation points\n",
    "\n",
    "N_cp_g = 21 # Number of colocation points in each direction g^n\n",
    "N_cp = N_cp_g**N # Number of colocation points\n",
    "cp_bound = 0.5 # Search space above and below fp\n",
    "\n",
    "cps = np.array([np.linspace(gn-cp_bound, gn+cp_bound, N_cp_g) for gn in fp]) # linspaces that span space of colocation points\n",
    "gg = np.array(np.meshgrid(*cps,indexing='ij')) # gg[n,n_cp_g1,...,n_cp_gn]\n",
    "\n",
    "sigma = N_cp_g*0.5/cp_bound # smoothness factor for basis functions\n",
    "\n",
    "def idToCoord(cp):\n",
    "    # maps a 1D array of collocation point ids [0, ..., N_cp_g-1] to the coordinates on the grid\n",
    "    coords = np.zeros((cp.size, N))\n",
    "    for d in (range(1,N+1)):\n",
    "        D = N-d\n",
    "        coords[:,D] = cp - np.mod(cp, np.ones(cp.size)*N_cp_g**D)\n",
    "        if D != N-1:\n",
    "            for dd in range(D+1,N):\n",
    "                coords[:,D] -= coords[:,dd]*N_cp_g**dd\n",
    "        coords[:,D] = np.divide(coords[:,D], np.ones(cp.size)*N_cp_g**D)\n",
    "        coords = coords.astype(int)\n",
    "    return np.array([gg[:,coords[:,0],coords[:,1]][:,i] for i in range(0, cp.size)]) # idToCoord[ith cp, nth coord] [!] this line is specifically 2D\n",
    "\n",
    "CP = idToCoord(np.array(list(range(0,N_cp)))) # CP[ith cp, nth coord]\n"
   ]
  },
  {
   "cell_type": "markdown",
   "id": "cd276a66-1f0a-46fc-a389-a46a7b01cb85",
   "metadata": {},
   "source": [
    "## Basis functions (Multivariate Cauchy Distributions)\n",
    "$$ g^{ni}_{col} = (g^{in}_{col})^T $$ \\\n",
    "$$ \\psi^i(g^n) = \\Bigg( 1 + \\sum^N_n\\frac{(g^n-g^{ni}_{col})^2}{\\sigma^2} \\Bigg)^{-1} $$ \\\n",
    "$$ \\partial_n\\psi^i(g^n) = (\\partial\\psi(g^n))_n^i = -\\frac{2}{\\sigma^2}(g^n-g^{ni}_{col})\\psi^i(g^n)^2 $$"
   ]
  },
  {
   "cell_type": "code",
   "execution_count": 6,
   "id": "5bec665a-b772-4ae2-a7b9-ded9a7e4025c",
   "metadata": {},
   "outputs": [],
   "source": [
    "## Basis functions and their derivatives\n",
    "\n",
    "CP_transpose = CP.transpose() # CP_transpose[nth coord,ith cp]\n",
    "\n",
    "def psi(G): # G[point, nth coord]\n",
    "    # divide(1, (1 + 1/sigma**2 * matmul(1, square([g,...,g]^T - CP^T)))) for all g in G\n",
    "    return np.array([np.divide(np.ones(N_cp),(np.ones(N_cp) + (1/sigma**2)*np.matmul(np.ones(N),np.square(np.tile(g,(N_cp,1)).transpose() - CP_transpose)))) for g in G]) # psi[jth point,ith function]\n",
    "\n",
    "def dpsi(G): # G[point, nth coord]\n",
    "    # multiply(-2/sigma**2 * ([g,...,g]^T - CP^T) for all g in G, (tile(square(psi(CP)),(N,1,1)), axes=[1,0,2])^T)\n",
    "    return np.multiply(np.array([((-2/sigma**2) * (np.tile(g,(N_cp,1)).transpose() - CP_transpose)) for g in G]), np.transpose(np.tile(np.square(psi(CP)),(N,1,1)), axes=[1,0,2])) # dpsi[jth point, nth derivative,ith function]\n"
   ]
  },
  {
   "cell_type": "code",
   "execution_count": 7,
   "id": "b7690b76-054c-4485-96db-566f77c02c79",
   "metadata": {},
   "outputs": [
    {
     "name": "stdout",
     "output_type": "stream",
     "text": [
      "F:(441, 1)\n",
      "dF:(1, 2, 1)\n",
      "psi:(441, 441)\n",
      "dpsi:(441, 2, 441)\n",
      "p:(441, 1)\n"
     ]
    }
   ],
   "source": [
    "## Precaluculate up until now\n",
    "pc_F_fp = np.array([F_fp(cp) for cp in CP]) # [jth point, function mu]\n",
    "print(f'F:{pc_F_fp.shape}')\n",
    "pc_dF_fp = dF_fp() # [function mu, nth derivative]\n",
    "print(f'dF:{pc_dF_fp.shape}')\n",
    "pc_psi = psi(CP) # [jth point,ith function]\n",
    "print(f'psi:{pc_psi.shape}')\n",
    "pc_dpsi = dpsi(CP) # [jth point, nth derivative,ith function]\n",
    "print(f'dpsi:{pc_dpsi.shape}')\n",
    "p = np.ones((N_cp,M)) # p[ith basis function, function mu]\n",
    "print(f'p:{p.shape}')"
   ]
  },
  {
   "cell_type": "markdown",
   "id": "7234889b-6484-40d0-89fb-8bf524aa9ec6",
   "metadata": {},
   "source": [
    "## Fixed parameters\n",
    "$$ \\partial_n F_{\\mu} \\big|_{g^n_*} = \\partial_n F^*_{\\mu} \\implies F_{\\mu} \\big|_{g_{\\sim}^n} \\approx F^*_{\\mu} \\big|_{g_{\\sim}^n} $$ \\\n",
    "$$ \\text{For one these $g_{\\sim}^n$ : } p_{i \\mu}\\psi^i(g_{\\sim}^n) \\approx F^*_{\\mu}(g_{\\sim}^n) \\implies p_{1\\mu} \\approx \\frac{1}{\\psi^1(g_{\\sim}^n)}\\bigg[ F^*_{\\mu}(g_{\\sim}^n) - \\sum_{i=2}^{N_p} p_{i \\mu}\\psi^i(g_{\\sim}^n) \\bigg] $$ \\\n",
    "$$ \\text{For $K$ of these $g^{kn}_{\\sim}$ : } $$ \\\n",
    "$$ g^{1n}_{\\sim}: \\quad p_{1\\mu} \\approx \\frac{1}{\\psi^1(g^{1n}_{\\sim})}\\bigg[ F^*_{\\mu}(g^{1n}_{\\sim}) - \\sum_{i=2}^{N_p} p_{i \\mu}\\psi^i(g^{1n}_{\\sim}) \\bigg] $$ \\\n",
    "$$ g^{2n}_{\\sim}: \\quad p_{2\\mu} \\approx \\frac{1}{\\psi^2(g^{2n}_{\\sim})}\\bigg[ F^*_{\\mu}(g^{2n}_{\\sim}) - p_{1\\mu}\\psi^1(g^{2n}_{\\sim}) - \\sum_{i=3}^{N_p} p_{i \\mu}\\psi^i(g^{2n}_{\\sim}) \\bigg] $$ \\\n",
    "$$ \\vdots $$ \\\n",
    "$$ g^{Kn}_{\\sim}: \\quad p_{K\\mu} \\approx \\frac{1}{\\psi^K(g^{Kn}_{\\sim})}\\bigg[ F^*_{\\mu}(g^{Kn}_{\\sim}) - \\sum_{k=1}^{K-1}p_{k\\mu}\\psi^k(g^{Kn}_{\\sim}) - \\sum_{i=K+1}^{N_p} p_{i \\mu}\\psi^i(g^{Kn}_{\\sim}) \\bigg] $$ \\\n",
    "$$ \\text{This fixes $K \\times (N-M)$ parameters $p_{i\\mu}$} .$$"
   ]
  },
  {
   "cell_type": "code",
   "execution_count": 8,
   "id": "45ba3069-0dfd-4cce-aaac-60c61bf98aae",
   "metadata": {},
   "outputs": [
    {
     "data": {
      "image/png": "[encoded data removed]",
      "text/plain": [
       "<Figure size 432x288 with 1 Axes>"
      ]
     },
     "metadata": {
      "needs_background": "light"
     },
     "output_type": "display_data"
    }
   ],
   "source": [
    "## Find the values for the fixed p's\n",
    "\n",
    "# Find the id's of the 8 points directly around the fp\n",
    "def findCoreIds(): # Find the id's of the 3^N-1 points directly around the fp\n",
    "    perms = np.array([i for i in product([-1,0,1], repeat=N)])\n",
    "    perms = np.delete(perms, int((perms.shape[0]-1)/2), 0)\n",
    "    ids = np.zeros(3**N-1)\n",
    "    for i in range(0,perms.shape[0]):\n",
    "        for j in range(0, perms.shape[1]):\n",
    "            ids[i] += N_cp_g**j*((N_cp_g-1)/2 + perms[i,j])\n",
    "    return ids.astype('int')\n",
    "\n",
    "core_ids = findCoreIds()\n",
    "core_coords = idToCoord(core_ids)\n",
    "\n",
    "# plot colocation points and core\n",
    "if N == 2:\n",
    "    fig_grid = plt.figure()\n",
    "    ax_grid = fig_grid.add_subplot()\n",
    "    plt.plot(gg[0], gg[1], marker='o', color='k', linestyle='none')\n",
    "    plt.plot(fp[0], fp[1], marker='*', color='y')\n",
    "    plt.plot(core_coords[:,0], core_coords[:,1], marker='o', color='b', linestyle='none')\n",
    "    ax_grid.set_aspect('equal', adjustable='box')\n",
    "    plt.xlabel(r'$g^1 (= u)$')\n",
    "    plt.ylabel(r'$g^2 (= v)$')\n",
    "    plt.title('Colocation points, fixed point, and core')\n",
    "    plt.show()\n",
    "    \n",
    "def findFixedParameters(p): # current parameters p\n",
    "    pc = np.copy(p)\n",
    "    a = core_ids[0]\n",
    "    for k in range(0,core_ids.size):\n",
    "        kd = core_ids[k]\n",
    "        pc[k,:] = 1/pc_psi[kd,k] * np.subtract(pc_F_fp[kd], np.add(np.matmul(pc_psi[kd,0:k], pc[0:k,:]), np.matmul(pc_psi[kd,k+1:], pc[k+1:,:])))\n",
    "    return pc\n",
    "    \n",
    "p = findFixedParameters(p)\n",
    "    "
   ]
  },
  {
   "cell_type": "markdown",
   "id": "b4a86232-9d5d-44f1-94c9-87ec8fde5ad1",
   "metadata": {},
   "source": [
    "## Generating function\n",
    "$$ F_{\\mu}(g^n) = p_{i \\mu} \\psi^i(g^n) $$"
   ]
  },
  {
   "cell_type": "code",
   "execution_count": 9,
   "id": "a7a48094-1ea7-400c-947f-c71a26b6c58b",
   "metadata": {},
   "outputs": [
    {
     "name": "stdout",
     "output_type": "stream",
     "text": [
      "(441, 1)\n"
     ]
    },
    {
     "data": {
      "text/plain": [
       "<AxesSubplot:>"
      ]
     },
     "execution_count": 9,
     "metadata": {},
     "output_type": "execute_result"
    },
    {
     "data": {
      "image/png": "[encoded data removed]",
      "text/plain": [
       "<Figure size 432x288 with 2 Axes>"
      ]
     },
     "metadata": {
      "needs_background": "light"
     },
     "output_type": "display_data"
    }
   ],
   "source": [
    "## Generating function\n",
    "\n",
    "def F(G, p): # G[jth point, nth coord] p[ith function, function mu]\n",
    "    return np.matmul(pc_psi, p)\n",
    "\n",
    "print(F(CP, p).shape)    \n",
    "sns.heatmap(np.array([[F(CP, p)[i+N_cp_g*j,0] for i in range(0,N_cp_g)] for j in range(0,N_cp_g)])) "
   ]
  },
  {
   "cell_type": "code",
   "execution_count": null,
   "id": "caec7ba7-fd33-456f-bf06-15a095a08d8f",
   "metadata": {},
   "outputs": [],
   "source": []
  }
 ],
 "metadata": {
  "kernelspec": {
   "display_name": "Python 3",
   "language": "python",
   "name": "python3"
  },
  "language_info": {
   "codemirror_mode": {
    "name": "ipython",
    "version": 3
   },
   "file_extension": ".py",
   "mimetype": "text/x-python",
   "name": "python",
   "nbconvert_exporter": "python",
   "pygments_lexer": "ipython3",
   "version": "3.8.8"
  }
 },
 "nbformat": 4,
 "nbformat_minor": 5
}
