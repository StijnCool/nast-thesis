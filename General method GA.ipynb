{
 "cells": [
  {
   "cell_type": "markdown",
   "id": "df58e9c2-5157-4c3e-ac20-016f27a99387",
   "metadata": {},
   "source": [
    "## Conventions \n",
    "$ \\alpha_1 \\rightarrow \\texttt{alpha1},\\quad \n",
    "\\alpha_u \\rightarrow \\texttt{alpha_u},\\quad \n",
    "\\alpha_* \\rightarrow \\texttt{alpha_fp} $ <br>\n",
    "$ \\tilde{\\alpha}_1 \\rightarrow \\texttt{Alpha1},\\quad \n",
    "\\tilde{\\alpha}_u \\rightarrow \\texttt{Alpha_u},\\quad \n",
    "\\tilde{\\alpha}_* \\rightarrow \\texttt{Alpha_fp} $ <br>"
   ]
  },
  {
   "cell_type": "markdown",
   "id": "4731f7ad-f103-41cd-8362-ec6bde8429bc",
   "metadata": {},
   "source": [
    "## Indices \n",
    "$$ \\text{General index for coordinates in theory space:} \\quad n = 1, \\ldots, N; \\quad \\beta^n, g^n, \\partial_n F, \\partial_n \\psi .$$ \\\n",
    "$$ \\text{Index for coordinates on $S_{UV}$:} \\quad \\alpha = 1, \\ldots, M=\\text{dim}(S_{UV}); \\quad \\beta^{\\alpha}, u^{\\alpha} .$$ \\\n",
    "$$ \\text{Index for coordinates that specify the embedding of $S_{UV}$ in $\\mathbb{R}^N$:} \\quad \\mu = 1, \\ldots, N-M; \\quad \\beta^{\\mu}, v^{\\mu}, F_{\\mu}, M_{\\mu}, p_{\\mu} .$$ \\\n",
    "$$ \\text{Index for the basis functions for the generating function and primary index for colocation points:} \\quad i = 1, \\ldots, N_p = \\#\\text{colocation points}; \\quad \\psi^i, p_i, g^{in}_{col} .$$ \\\n",
    "$$ \\text{Secundary (Tertiary) index for colocation points:} \\quad j,k = 1, \\ldots, N_p = \\#\\text{colocation points}; \\quad g^{jn}_{col}, g^{kn}_{\\sim} .$$"
   ]
  },
  {
   "cell_type": "markdown",
   "id": "04219e1f-ca49-4f6b-86cb-7a4b63ce94a9",
   "metadata": {},
   "source": [
    "## Objects\n",
    "$$ \\text{Coordinates in theory space:} \\quad g^n \\mapsto \\{u^{\\alpha}, v^{\\mu} \\}; \\quad \\text{N-dim. (0,1)-tensor} .$$ \\\n",
    "$$ \\text{Beta functions:} \\quad \\beta^n: \\mathbb{R}^N \\mapsto \\mathbb{R}^N; \\quad \\text{N-dim. (0,1)-tensor} .$$ \\\n",
    "$$ \\text{Generating function:} \\quad F_{\\mu}: \\mathbb{R}^N \\mapsto \\mathbb{R}^{N-M}; F_{\\mu} = p_{i \\mu} \\psi^i \\equiv (p\\psi)_{\\mu}; \\quad \\text{(N-M)-dim. (1,0)-tensor} .$$ \\\n",
    "$$ \\text{Basis functions:} \\quad \\psi^i: \\mathbb{R}^N \\mapsto \\mathbb{R}^{N_p}; \\quad \\text{$N_p$-dim. (0,1)-tensor} .$$ \\\n",
    "$$ \\text{Free parameters:} \\quad p_{i \\mu}; \\quad \\text{($N_p \\times$(N-M))-dim. (2,0)-tensor} .$$ \\\n",
    "$$ \\text{Derivatives of generating function:} \\quad (\\partial F)_{n \\mu} \\equiv \\partial_n F_{\\mu}: \\mathbb{R}^N \\mapsto \\mathbb{R}^N \\times \\mathbb{R}^{N-M}; \\partial_n F_{\\mu} = p_{i \\mu}\\partial_n \\psi^i \\equiv (p\\partial \\psi)_{n \\mu}; \\quad \\text{(N$\\times$(N-M))-dim. (2,0)-tensor} .$$ \\\n",
    "$$ \\text{Derivatives of the basis functions:} \\quad (\\partial\\psi)_n^i \\equiv \\partial_n \\psi^i: \\mathbb{R}^N \\mapsto \\mathbb{R}^N \\times \\mathbb{R}^{N_p}; \\quad \\text{(N$\\times N_p$)-dim. (1,1)-tensor} .$$ \\\n",
    "$$ \\text{Master equation:} \\quad M_{\\mu}: \\mathbb{R}^N \\mapsto \\mathbb{R}^{N-M}; M_{\\mu} = (\\partial_n F_{\\mu}) \\beta^n = p_{i \\mu} (\\partial_n \\psi^i) \\beta^n; \\quad \\text{(N-M)-dim. (1,0)-tensor} .$$ \\\n",
    "$$ \\text{Colocation points:} \\quad g_{col}^{in}; \\quad \\text{($N_p\\times$N)-dim. (0,2)-tensor} .$$ \\\n",
    "$$ \\text{Most of these objects have a version specific at the fixed point, denoted by a * sub- or superscript} .$$ \\\n",
    "$$ \\text{Alternatively, they might have a version specific to points around the fixed point, denoted by a $\\sim$ sub- or superscript} .$$"
   ]
  },
  {
   "cell_type": "code",
   "execution_count": 1,
   "id": "e3f54f07-0f75-4189-bf1b-f034784e78c2",
   "metadata": {},
   "outputs": [],
   "source": [
    "## imports\n",
    "import time\n",
    "import math\n",
    "import numpy as np\n",
    "import matplotlib.pyplot as plt\n",
    "import seaborn as sns\n",
    "import pandas as pd\n",
    "import random as r\n",
    "from itertools import product\n",
    "from scipy.optimize import curve_fit\n",
    "\n",
    "## setup\n",
    "np.set_printoptions(linewidth=160)\n"
   ]
  },
  {
   "cell_type": "code",
   "execution_count": 2,
   "id": "8c7df936-2e94-4ce5-b3ef-f6308e2f7205",
   "metadata": {},
   "outputs": [
    {
     "name": "stdout",
     "output_type": "stream",
     "text": [
      "Complexity of order O(Np^1.6)\n"
     ]
    },
    {
     "data": {
      "image/png": "[encoded data removed]",
      "text/plain": [
       "<Figure size 432x288 with 1 Axes>"
      ]
     },
     "metadata": {
      "needs_background": "light"
     },
     "output_type": "display_data"
    }
   ],
   "source": [
    "## Graphs from tests\n",
    "\n",
    "# Runtime of master equation test data\n",
    "def poly(x, a, b, c):\n",
    "    return a*x**c+b\n",
    "td_M = np.zeros((2,20))\n",
    "td_M[0,:] = np.square(np.array([3,5,7,9,11,13,15,17,19,21,31,41,51,61,71,81,91,101,111,121]))\n",
    "td_M[1,:] = np.array([1e-5,1e-5,2e-5,2e-5,3e-5,4e-5,5e-5,7e-5,9e-5,1e-4,4e-4,2e-3,4e-3,9e-3,2e-2,3e-2,4e-2,6e-2,9e-2,1e-1])\n",
    "td_M_popt, td_M_pcov = curve_fit(poly, td_M[0,:], td_M[1,:])\n",
    "print(f'Complexity of order O(Np^{np.round(td_M_popt[2],1)})')\n",
    "td_M_x = np.linspace(td_M[0,0],td_M[0,-1],int(td_M[0,-1]-td_M[0,0]))\n",
    "plt.figure()\n",
    "plt.plot(td_M_x, poly(td_M_x, *td_M_popt), c='r', label=f'Complexity of order O(Np^{np.round(td_M_popt[2],1)})')\n",
    "plt.plot(td_M[0],td_M[1],'o',c='b', label='Datapoints')\n",
    "plt.xlabel(r'$N_P$')\n",
    "plt.ylabel('t (s)')\n",
    "plt.title('Time complexity of computing the master function')\n",
    "plt.legend()\n",
    "plt.show()"
   ]
  },
  {
   "cell_type": "markdown",
   "id": "9900b586-7a3e-4212-bcab-a501ed4a244f",
   "metadata": {},
   "source": [
    "## Beta functions\n",
    "$$ \\beta^n: \\mathbb{R}^N \\mapsto \\mathbb{R}^N, g^n = \\begin{pmatrix} u^1 \\\\ \\vdots \\\\ u^M \\\\ v^1 \\\\ \\vdots \\\\ v^{N-M} \\end{pmatrix} \\mapsto \\begin{pmatrix}  \\beta^1(g^n) \\\\ \\vdots \\\\ \\beta^N(g^n) \\end{pmatrix}  \n",
    "\\equiv \\beta^n: \\mathbb{R}^2 \\mapsto \\mathbb{R}^2, g^n= \\begin{pmatrix} u \\\\ v \\end{pmatrix} \\mapsto \\begin{pmatrix} 2u-\\frac{3u^3}{2\\pi (v+u)^3} \\\\ -\\frac{u^2(7v+u)}{r\\pi (v+u)^3} \\end{pmatrix}  $$"
   ]
  },
  {
   "cell_type": "code",
   "execution_count": 3,
   "id": "1d036085-52e6-4b2c-b7cd-88031e9e5641",
   "metadata": {},
   "outputs": [],
   "source": [
    "## beta functions\n",
    "def beta(G): # G[j'th point, nth coord]\n",
    "    return np.array([2*G[:,0] - 3*G[:,0]**3 / (2*math.pi*(G[:,1] + G[:,0])**3), -G[:,0]**2*(7*G[:,1] + G[:,0]) / (4*math.pi*(G[:,1] + G[:,0])**3)]) # beta[n] [!] this line is specifically 2D"
   ]
  },
  {
   "cell_type": "markdown",
   "id": "9271db25-7407-450d-8c16-b8c3b7a5ff0a",
   "metadata": {
    "tags": []
   },
   "source": [
    "## NGFP\n",
    "$$ \\beta^n(g^n_*) = 0 \\implies \\begin{pmatrix} u_* \\\\ v_* \\end{pmatrix} = \\begin{pmatrix} \\frac{343}{288\\pi} \\\\ -\\frac{49}{288\\pi} \\end{pmatrix} \\implies F_{\\mu}(g^n_*)=0 $$ "
   ]
  },
  {
   "cell_type": "code",
   "execution_count": 4,
   "id": "cd1f3be9-9a13-4ebb-a6ff-10429d3e3841",
   "metadata": {
    "tags": []
   },
   "outputs": [],
   "source": [
    "## NGFP (beta functions = 0)\n",
    "fp = np.array([343/(288*math.pi), -49/(288*math.pi)]) # fp[n] [!] this line is specifically 2D\n",
    "N = fp.size\n",
    "M = 1 # [!] this line is specifically 2D\n"
   ]
  },
  {
   "cell_type": "markdown",
   "id": "6562f3b2-3974-45e6-a709-fb165627bc2b",
   "metadata": {},
   "source": [
    "## Linear generating function and its derivatives\n",
    "$$ F^*_{\\mu}(g^n) = c_{n' \\mu}\\begin{pmatrix}g^n \\\\ 1\\end{pmatrix}^{n'} =\n",
    "\\begin{pmatrix}\n",
    "    c_{1,1} g^1 + c_{1,2} g^2 + \\cdots + c_{1,N} g^N + c_{1,N+1} \\\\\n",
    "    \\vdots \\\\\n",
    "    c_{N-M,1} g^1 + c_{N-M,2} g^2 + \\cdots + c_{N-M,N} g^N + c_{N-M,N+1}\n",
    "\\end{pmatrix}^T\n",
    "\\equiv F^*(u,v) = (172-137\\sqrt{43})u + (215+44\\sqrt{43})v + \\frac{49(1003\\sqrt{43}-989)}{288\\pi} $$ \\\n",
    "$$ \\partial_n F^*_{\\mu}(g^n) = (\\partial F^*(g^n))_n = c_{n\\mu} =\n",
    "\\begin{pmatrix}\n",
    "    c_{1,1} & \\cdots & c_{1,N-M} \\\\\n",
    "    \\vdots & & \\vdots \\\\\n",
    "    c_{N,1} & \\cdots & c_{N,N-M}\n",
    "\\end{pmatrix}\n",
    "\\equiv (\\nabla F^*(u,v))_n = \\Bigg( 172-137\\sqrt{43} \\quad 215+44\\sqrt{43} \\Bigg) $$"
   ]
  },
  {
   "cell_type": "code",
   "execution_count": 5,
   "id": "5438290e-a584-4c0d-a2f3-40e6c370dd6f",
   "metadata": {},
   "outputs": [],
   "source": [
    "## linear generating function and its derivative\n",
    "\n",
    "c_fp = np.array([\n",
    "    [172 - 137*43**0.5], \n",
    "    [215 + 44*43**0.5], \n",
    "    [49*(1003*43**0.5 - 989)/(288*math.pi)]\n",
    "]) # N+1 x N-M coefficients c_fp[n',mu] [!] this line is specifically 2D\n",
    "\n",
    "def F_fp(g): # Calculate c_fp[n',mu]*g[n'] (n' means (gn, 1))\n",
    "    return np.matmul(np.append(g,[1]),c_fp) # F_fp [!] this line is specifically 2D\n",
    "\n",
    "def dF_fp(): # Return dF_fp\n",
    "    return np.array([c_fp[:-1,:]]) # dF_fp[nth derivative] [!] this line is specifically 2D\n"
   ]
  },
  {
   "cell_type": "markdown",
   "id": "007cedf1-7e30-4211-95aa-6902b2d56ca1",
   "metadata": {},
   "source": [
    "## Colocation points"
   ]
  },
  {
   "cell_type": "code",
   "execution_count": 6,
   "id": "9a047100-65ec-419d-bd73-b83cc0454aac",
   "metadata": {},
   "outputs": [
    {
     "name": "stdout",
     "output_type": "stream",
     "text": [
      "0.11764705882352941\n"
     ]
    }
   ],
   "source": [
    "## generate grid of colocation points\n",
    "\n",
    "N_cp_g = 17 # Number of colocation points in each direction g^n\n",
    "N_cp = N_cp_g**N # Number of colocation points\n",
    "cp_bound = 0.5 # Search space above and below fp\n",
    "sigma = cp_bound*4/N_cp_g # smoothness factor for basis functions\n",
    "\n",
    "print(sigma)\n",
    "\n",
    "fp_shift = fp\n",
    "# fp_shift[:-1] = fp_shift[:-1] - 2*sigma*(N_cp_g-2) # specific for fp of form (u1,u2,...,ua,v)\n",
    "\n",
    "cps = np.array([np.linspace(gn-cp_bound, gn+cp_bound, N_cp_g) for gn in fp_shift]) # linspaces that span space of colocation points\n",
    "gg = np.array(np.meshgrid(*cps,indexing='ij')) # gg[n,n_cp_g1,...,n_cp_gn]\n",
    "\n",
    "def idToCoord(cp):\n",
    "    # maps a 1D array of collocation point ids [0, ..., N_cp_g-1] to the coordinates on the grid\n",
    "    coords = np.zeros((cp.size, N))\n",
    "    for d in (range(1,N+1)):\n",
    "        D = N-d\n",
    "        coords[:,D] = cp - np.mod(cp, np.ones(cp.size)*N_cp_g**D)\n",
    "        if D != N-1:\n",
    "            for dd in range(D+1,N):\n",
    "                coords[:,D] -= coords[:,dd]*N_cp_g**dd\n",
    "        coords[:,D] = np.divide(coords[:,D], np.ones(cp.size)*N_cp_g**D)\n",
    "        coords = coords.astype(int)\n",
    "    return np.array([gg[:,coords[:,0],coords[:,1]][:,i] for i in range(0, cp.size)]) # idToCoord[ith cp, nth coord] [!] this line is specifically 2D\n",
    "\n",
    "CP = idToCoord(np.array(list(range(0,N_cp)))) # CP[ith cp, nth coord]\n"
   ]
  },
  {
   "cell_type": "markdown",
   "id": "cd276a66-1f0a-46fc-a389-a46a7b01cb85",
   "metadata": {
    "tags": []
   },
   "source": [
    "## Basis functions (Multivariate Cauchy Distributions)\n",
    "$$ g^{ni}_{col} = (g^{in}_{col})^T $$ \\\n",
    "$$ \\psi^i(g^n) = \\Bigg( 1 + \\sum^N_n\\frac{(g^n-g^{ni}_{col})^2}{\\sigma^2} \\Bigg)^{-1} $$ \\\n",
    "$$ \\partial_n\\psi^i(g^n) = (\\partial\\psi(g^n))_n^i = -\\frac{2}{\\sigma^2}(g^n-g^{ni}_{col})\\psi^i(g^n)^2 $$"
   ]
  },
  {
   "cell_type": "code",
   "execution_count": 7,
   "id": "5bec665a-b772-4ae2-a7b9-ded9a7e4025c",
   "metadata": {
    "tags": []
   },
   "outputs": [],
   "source": [
    "## Basis functions and their derivatives\n",
    "\n",
    "CP_transpose = CP.transpose() # CP_transpose[nth coord,ith cp]\n",
    "\n",
    "def psi(G): # G[j'th point, nth coord]\n",
    "    # divide(1, (1 + 1/sigma**2 * matmul(1, square([g,...,g]^T - CP^T)))) for all g in G\n",
    "    return np.array([np.divide(np.ones(N_cp),(np.ones(N_cp) + (1/sigma**2)*np.matmul(np.ones(N),np.square(np.tile(g,(N_cp,1)).transpose() - CP_transpose)))) for g in G]) # psi[jth point,ith function]\n",
    "\n",
    "def dpsi(G): # G[j'th point, nth coord]\n",
    "    # multiply(-2/sigma**2 * ([g,...,g]^T - CP^T) for all g in G, (tile(square(psi(CP)),(N,1,1)), axes=[1,0,2])^T)\n",
    "    return np.multiply(np.array([((-2/sigma**2) * (np.tile(g,(N_cp,1)).transpose() - CP_transpose)) for g in G]), np.transpose(np.tile(np.square(psi(CP)),(N,1,1)), axes=[1,0,2])) # dpsi[jth point, nth derivative,ith function]\n"
   ]
  },
  {
   "cell_type": "markdown",
   "id": "03c581a3-c91d-426a-a82e-ebfcda254da1",
   "metadata": {},
   "source": [
    "## Pre-calculate"
   ]
  },
  {
   "cell_type": "code",
   "execution_count": 8,
   "id": "b7690b76-054c-4485-96db-566f77c02c79",
   "metadata": {
    "tags": []
   },
   "outputs": [
    {
     "name": "stdout",
     "output_type": "stream",
     "text": [
      "F:(289, 1)\n",
      "dF:(1, 2, 1)\n",
      "psi:(289, 289)\n",
      "dpsi:(289, 2, 289)\n",
      "p:(289, 1)\n",
      "beta:(2, 289)\n"
     ]
    }
   ],
   "source": [
    "## Precaluculate up until now\n",
    "pc_F_fp = np.array([F_fp(cp) for cp in CP]) # [jth point, function mu]\n",
    "print(f'F:{pc_F_fp.shape}')\n",
    "pc_dF_fp = dF_fp() # [function mu, nth derivative]\n",
    "print(f'dF:{pc_dF_fp.shape}')\n",
    "pc_psi = psi(CP) # [jth point,ith function]\n",
    "print(f'psi:{pc_psi.shape}')\n",
    "pc_dpsi = dpsi(CP) # [jth point, nth derivative,ith function]\n",
    "print(f'dpsi:{pc_dpsi.shape}')\n",
    "p = np.ones((N_cp,M)) # p[ith basis function, function mu]\n",
    "print(f'p:{p.shape}')\n",
    "pc_beta = beta(CP) #\n",
    "print(f'beta:{pc_beta.shape}')"
   ]
  },
  {
   "cell_type": "markdown",
   "id": "7234889b-6484-40d0-89fb-8bf524aa9ec6",
   "metadata": {
    "tags": []
   },
   "source": [
    "## Fixed parameters\n",
    "$$ \\partial_n F_{\\mu} \\big|_{g^n_*} = \\partial_n F^*_{\\mu} \\implies F_{\\mu} \\big|_{g_{\\sim}^n} \\approx F^*_{\\mu} \\big|_{g_{\\sim}^n} $$ \\\n",
    "$$ \\text{For one these $g_{\\sim}^n$ : } p_{i \\mu}\\psi^i(g_{\\sim}^n) \\approx F^*_{\\mu}(g_{\\sim}^n) \\implies p_{1\\mu} \\approx \\frac{1}{\\psi^1(g_{\\sim}^n)}\\bigg[ F^*_{\\mu}(g_{\\sim}^n) - \\sum_{i=2}^{N_p} p_{i \\mu}\\psi^i(g_{\\sim}^n) \\bigg] $$ \\\n",
    "$$ \\text{For $K$ of these $g^{kn}_{\\sim}$ : } $$ \\\n",
    "$$ g^{1n}_{\\sim}: \\quad p_{1\\mu} \\approx \\frac{1}{\\psi^1(g^{1n}_{\\sim})}\\bigg[ F^*_{\\mu}(g^{1n}_{\\sim}) - \\sum_{i=2}^{N_p} p_{i \\mu}\\psi^i(g^{1n}_{\\sim}) \\bigg] $$ \\\n",
    "$$ g^{2n}_{\\sim}: \\quad p_{2\\mu} \\approx \\frac{1}{\\psi^2(g^{2n}_{\\sim})}\\bigg[ F^*_{\\mu}(g^{2n}_{\\sim}) - p_{1\\mu}\\psi^1(g^{2n}_{\\sim}) - \\sum_{i=3}^{N_p} p_{i \\mu}\\psi^i(g^{2n}_{\\sim}) \\bigg] $$ \\\n",
    "$$ \\vdots $$ \\\n",
    "$$ g^{Kn}_{\\sim}: \\quad p_{K\\mu} \\approx \\frac{1}{\\psi^K(g^{Kn}_{\\sim})}\\bigg[ F^*_{\\mu}(g^{Kn}_{\\sim}) - \\sum_{k=1}^{K-1}p_{k\\mu}\\psi^k(g^{Kn}_{\\sim}) - \\sum_{i=K+1}^{N_p} p_{i \\mu}\\psi^i(g^{Kn}_{\\sim}) \\bigg] $$ \\\n",
    "$$ \\text{This fixes $K \\times (N-M)$ parameters $p_{i\\mu}$} .$$"
   ]
  },
  {
   "cell_type": "code",
   "execution_count": 9,
   "id": "45ba3069-0dfd-4cce-aaac-60c61bf98aae",
   "metadata": {
    "tags": []
   },
   "outputs": [
    {
     "data": {
      "image/png": "[encoded data removed]",
      "text/plain": [
       "<Figure size 432x288 with 1 Axes>"
      ]
     },
     "metadata": {
      "needs_background": "light"
     },
     "output_type": "display_data"
    }
   ],
   "source": [
    "## Find the values for the fixed p's\n",
    "p = np.ones((N_cp,M)) # reset\n",
    "\n",
    "# Find the id's of the 8 points directly around the fp\n",
    "def findCoreIds(): # Find the id's of the 3^N-1 points directly around the fp\n",
    "    perms = np.array([i for i in product([-1,0,1], repeat=N)])\n",
    "    perms = np.delete(perms, int((perms.shape[0]-1)/2), 0)\n",
    "    ids = np.zeros(3**N-1)\n",
    "    for i in range(0,perms.shape[0]):\n",
    "        for j in range(0, perms.shape[1]):\n",
    "            ids[i] += N_cp_g**j*((N_cp_g-1)/2 + perms[i,j])\n",
    "    return ids.astype('int') # findCoreIds[k'th core point]\n",
    "\n",
    "def findFpId():\n",
    "    ids = 0\n",
    "    for j in range(0, N):\n",
    "        ids += N_cp_g**j*(N_cp_g-1)/2\n",
    "    return int(ids)\n",
    "\n",
    "fp_id = findFpId()\n",
    "\n",
    "core_ids = findCoreIds()\n",
    "core_coords = idToCoord(core_ids)\n",
    "\n",
    "# plot colocation points and core\n",
    "if N == 2:\n",
    "    fig_grid = plt.figure()\n",
    "    ax_grid = fig_grid.add_subplot()\n",
    "    plt.plot(gg[0], gg[1], marker='o', color='k', linestyle='none')\n",
    "    plt.plot(fp[0], fp[1], marker='*', color='y')\n",
    "    plt.plot(core_coords[:,0], core_coords[:,1], marker='o', color='b', linestyle='none')\n",
    "    ax_grid.set_aspect('equal', adjustable='box')\n",
    "    plt.xlabel(r'$g^1 (= u)$')\n",
    "    plt.ylabel(r'$g^2 (= v)$')\n",
    "    plt.title('Colocation points, fixed point, and core')\n",
    "    plt.show()\n",
    "    \n",
    "def findFixedParameters(p): # current parameters p\n",
    "    pc = np.copy(p)\n",
    "    a = core_ids[0]\n",
    "    for k in range(0,core_ids.size):\n",
    "        kd = core_ids[k]\n",
    "        pc[k,:] = 1/pc_psi[kd,k] * np.subtract(pc_F_fp[kd], np.add(np.matmul(pc_psi[kd,0:k], pc[0:k,:]), np.matmul(pc_psi[kd,k+1:], pc[k+1:,:])))\n",
    "    return pc # p[ith basis function, function mu]\n",
    "    \n",
    "p = findFixedParameters(p)\n",
    "# print(p[0:3**N-1])\n",
    "# plt.figure()\n",
    "# plt.plot(p[:,0]/max(p[:,0]))\n",
    "# plt.show"
   ]
  },
  {
   "cell_type": "markdown",
   "id": "b4a86232-9d5d-44f1-94c9-87ec8fde5ad1",
   "metadata": {},
   "source": [
    "## Generating function\n",
    "$$ F_{\\mu}(g^n) = p_{i \\mu} \\psi^i(g^n) $$"
   ]
  },
  {
   "cell_type": "code",
   "execution_count": 10,
   "id": "a7a48094-1ea7-400c-947f-c71a26b6c58b",
   "metadata": {
    "tags": []
   },
   "outputs": [
    {
     "name": "stdout",
     "output_type": "stream",
     "text": [
      "(289, 1)\n"
     ]
    }
   ],
   "source": [
    "## Generating function\n",
    "\n",
    "def F(p): # p[ith function, function mu]\n",
    "    val = np.matmul(pc_psi, p) # (j,i)x(i,mu)=(j,mu)\n",
    "    return np.subtract(val, val[fp_id,0]) # F[j'th point, function mu] [!] this line is specifically 2D\n",
    "\n",
    "def F_general(G, p): # G[point, nth coord] p[ith function, function mu]\n",
    "    val = np.matmul(psi(G), p)\n",
    "    return np.subtract(val, np.matmul(pc_psi, p)[fp_id,0]) # F[j'th point, function mu] [!] this line is specifically 2D\n",
    "\n",
    "def findSolutionV2D(bound, number):\n",
    "    check_coords = np.zeros((number,2))\n",
    "    check_coords[:,1] = np.linspace(fp[1]-bound, fp[1]+bound, number)\n",
    "    check_F = np.square(F_general(check_coords,p))\n",
    "    return check_coords[np.argmin(check_F[:,0]),1]\n",
    "\n",
    "findSolutionV2D(cp_bound, 10000)\n",
    "\n",
    "print(F(p).shape)    \n",
    "# sns.heatmap(np.array([[F(p)[i+N_cp_g*j,0] for i in range(0,N_cp_g)] for j in range(0,N_cp_g)])) "
   ]
  },
  {
   "cell_type": "markdown",
   "id": "cf2fdf2d-be96-4e69-b074-710ecfdffb96",
   "metadata": {},
   "source": [
    "## Master equation\n",
    "$$ M_{\\mu}^j \\equiv M_{\\mu}(g_{col}^{jn}) = \\big(p_{i\\mu}\\partial_n\\psi^i(g_{col}^{jn})\\big)\\beta^n(g_{col}^{jn}) \\equiv (p\\partial\\psi)_{\\mu n}^j (\\beta)^{jn} \\equiv (p\\partial\\psi\\beta)^j_{\\mu} $$ "
   ]
  },
  {
   "cell_type": "code",
   "execution_count": 11,
   "id": "caec7ba7-fd33-456f-bf06-15a095a08d8f",
   "metadata": {
    "tags": []
   },
   "outputs": [
    {
     "name": "stdout",
     "output_type": "stream",
     "text": [
      "1155217526104914.2\n"
     ]
    }
   ],
   "source": [
    "## Master equation\n",
    "def ME(p):\n",
    "    return np.sum(np.square(np.trace(np.matmul(pc_beta, np.transpose(np.matmul(pc_dpsi, p), axes=[2,0,1])), axis1=1, axis2=2)))\n",
    "\n",
    "print(ME(p))\n",
    "\n",
    "# Time recording of master function\n",
    "if(False):\n",
    "    N_test = 1000\n",
    "    cum_time = 0\n",
    "    for i in range(0,N_test):\n",
    "        start = time.time()\n",
    "        v = ME(p)\n",
    "        end = time.time()\n",
    "        cum_time += end-start\n",
    "    print(\"{:e}\".format(cum_time/N_test))\n",
    "\n"
   ]
  },
  {
   "cell_type": "markdown",
   "id": "20baca0f-3786-4cb6-849f-54107f5bff1c",
   "metadata": {},
   "source": [
    "## Genetic algorithm"
   ]
  },
  {
   "cell_type": "code",
   "execution_count": 12,
   "id": "98497093-c5d9-4f0c-aa8f-607708acc119",
   "metadata": {},
   "outputs": [
    {
     "name": "stdout",
     "output_type": "stream",
     "text": [
      "[[1 2]\n",
      " [3 4]\n",
      " [5 6]]\n",
      "[1 2 3 4 5 6]\n",
      "[[1 2]\n",
      " [3 4]\n",
      " [5 6]]\n"
     ]
    }
   ],
   "source": [
    "a = np.array(range(1,7))\n",
    "a.shape = (3,2)\n",
    "print(a)\n",
    "a.shape = (6)\n",
    "print(a)\n",
    "a.shape = (3,2)\n",
    "print(a)"
   ]
  },
  {
   "cell_type": "code",
   "execution_count": 15,
   "id": "7f2e5641-04c1-456c-884d-7f281cd37f8e",
   "metadata": {},
   "outputs": [
    {
     "name": "stdout",
     "output_type": "stream",
     "text": [
      "keep_number = 578 out of 11560\n",
      "True, True\n",
      "True, True\n",
      "[2712667.738781654,...,410429100.9484058]\n",
      "v=-1.3357850531739404\n",
      "True, True\n",
      "[12.510924887583911,...,246900386.1486979]\n",
      "v=-1.929844459114534\n",
      "True, True\n",
      "[0.026622340063503593,...,185662665.9918851]\n",
      "v=-1.263777852453868\n",
      "True, True\n",
      "[0.044972722670136994,...,141454617.0774558]\n",
      "v=-2.193870861754798\n",
      "True, True\n",
      "[1.1495047164878407,...,186960916.31917533]\n",
      "v=-0.002651739842606915\n",
      "True, True\n",
      "[0.023734386133997653,...,199258413.80217534]\n",
      "v=-1.8868401586844912\n",
      "True, True\n",
      "[0.43694120763468036,...,118415649.21199793]\n",
      "v=-1.4077922538940122\n",
      "True, True\n",
      "[0.16392202945277706,...,157250039.13203257]\n",
      "v=-1.420793554024025\n",
      "True, True\n",
      "[9.244440491983701e-05,...,143971764.61480045]\n",
      "v=-1.1247639510637293\n",
      "True, True\n",
      "[0.7092773459217502,...,112379657.87735987]\n",
      "v=0.685417067038081\n",
      "True, True\n",
      "[0.14116267263830112,...,129130703.2557369]\n",
      "v=-1.6018116558342061\n",
      "True, True\n",
      "[0.47403353317499203,...,143680184.85357758]\n",
      "v=-1.179769451613784\n",
      "True, True\n",
      "[0.1810068992798688,...,119020613.96915762]\n",
      "v=-1.7788293576043834\n",
      "True, True\n",
      "[0.5723117619787552,...,157222700.3645244]\n",
      "v=-1.5598074554141643\n",
      "True, True\n",
      "[7.79097388029884e-06,...,179852187.60137534]\n",
      "v=-1.1447659512637491\n",
      "True, True\n",
      "[0.11142861998313401,...,136485132.93902114]\n",
      "v=-1.3247839530639292\n",
      "True, True\n",
      "[0.054995918506516785,...,137249542.78995582]\n",
      "v=-1.487800254694092\n",
      "True, True\n",
      "[0.04259849099040101,...,140994130.82647684]\n",
      "v=-1.4898004547140942\n",
      "True, True\n",
      "[0.3312585162392468,...,172481392.57062712]\n",
      "v=4.945843109642341\n",
      "True, True\n",
      "[0.0003399055093332096,...,129288966.54489356]\n",
      "v=-1.4858000546740904\n",
      "True, True\n",
      "[0.015531408858808143,...,129120762.49158289]\n",
      "v=0.04535306063744127\n",
      "True, True\n",
      "[0.03352027408636692,...,165175952.50950095]\n",
      "v=4.0037489002213995\n",
      "True, True\n",
      "[0.06373162842348788,...,118843049.82925914]\n",
      "v=-1.0797594506136843\n",
      "True, True\n",
      "[0.10847826481756945,...,144335521.75276127]\n",
      "v=-1.8648379584644692\n",
      "True, True\n",
      "[0.37084095662594907,...,123165273.09868465]\n",
      "v=0.5574042657579534\n",
      "True, True\n",
      "[0.14054783368103976,...,119954956.79853845]\n",
      "v=-1.6488163563042533\n",
      "True, True\n",
      "[0.000260072333026572,...,106330659.91760698]\n",
      "v=-1.6468161562842512\n",
      "True, True\n",
      "[0.0029999815878565487,...,125343600.72834016]\n",
      "v=-0.04165564023264601\n",
      "True, True\n",
      "[0.03795087302547022,...,132166572.39462222]\n",
      "v=0.5814066659979771\n",
      "True, True\n",
      "[0.09775402158717666,...,119976606.64964785]\n",
      "v=-1.1527667513437572\n",
      "True, True\n",
      "[0.02007767440432485,...,131117851.88350794]\n",
      "v=-1.270778552523875\n",
      "True, True\n",
      "[2.645630796017334,...,140046632.40028659]\n",
      "v=-2.0398554602146444\n",
      "True, True\n",
      "[0.013437302147080736,...,161548881.64940417]\n",
      "v=-1.4707985545240754\n",
      "True, True\n",
      "[0.005383494804321174,...,136950504.93491882]\n",
      "v=0.15536406173755068\n",
      "True, True\n",
      "[0.047822816736126955,...,121410881.00740677]\n",
      "v=-2.259877462414864\n",
      "True, True\n",
      "[0.06716291464219164,...,115718168.1562687]\n",
      "v=-0.2206735420228254\n",
      "True, True\n",
      "[0.0002296817700927167,...,127409569.44369774]\n",
      "v=0.3563841637477516\n",
      "True, True\n",
      "[0.008688668483430917,...,134628024.37124375]\n",
      "v=4.945843109642341\n",
      "True, True\n",
      "[0.0011228939828789085,...,116876013.90239151]\n",
      "v=-1.0697584505136741\n",
      "True, True\n",
      "[0.05716475801780427,...,117551802.27128449]\n",
      "v=0.10535906123750127\n",
      "True, True\n",
      "[0.30035053204837875,...,103870166.18400466]\n",
      "v=-1.231774652133836\n",
      "True, True\n",
      "[0.012830801449510305,...,126363862.54621321]\n",
      "v=0.43939246457783465\n"
     ]
    },
    {
     "ename": "KeyboardInterrupt",
     "evalue": "",
     "output_type": "error",
     "traceback": [
      "\u001b[1;31m---------------------------------------------------------------------------\u001b[0m",
      "\u001b[1;31mKeyboardInterrupt\u001b[0m                         Traceback (most recent call last)",
      "\u001b[1;32m<ipython-input-15-240b1db3e2bd>\u001b[0m in \u001b[0;36m<module>\u001b[1;34m\u001b[0m\n\u001b[0;32m     62\u001b[0m \u001b[1;33m\u001b[0m\u001b[0m\n\u001b[0;32m     63\u001b[0m     \u001b[1;31m# score each individual in the generation\u001b[0m\u001b[1;33m\u001b[0m\u001b[1;33m\u001b[0m\u001b[1;33m\u001b[0m\u001b[0m\n\u001b[1;32m---> 64\u001b[1;33m     \u001b[0mscores\u001b[0m \u001b[1;33m=\u001b[0m \u001b[0mfitness\u001b[0m\u001b[1;33m(\u001b[0m\u001b[0mpop\u001b[0m\u001b[1;33m)\u001b[0m\u001b[1;33m\u001b[0m\u001b[1;33m\u001b[0m\u001b[0m\n\u001b[0m\u001b[0;32m     65\u001b[0m     \u001b[1;32mif\u001b[0m \u001b[0mcounter\u001b[0m \u001b[1;33m%\u001b[0m \u001b[1;36m10\u001b[0m \u001b[1;33m==\u001b[0m \u001b[1;36m0\u001b[0m\u001b[1;33m:\u001b[0m\u001b[1;33m\u001b[0m\u001b[1;33m\u001b[0m\u001b[0m\n\u001b[0;32m     66\u001b[0m         \u001b[0mprint\u001b[0m\u001b[1;33m(\u001b[0m\u001b[1;34mf'{min(scores) > 10**-15}, {counter < max_iter}'\u001b[0m\u001b[1;33m)\u001b[0m\u001b[1;33m\u001b[0m\u001b[1;33m\u001b[0m\u001b[0m\n",
      "\u001b[1;32m<ipython-input-15-240b1db3e2bd>\u001b[0m in \u001b[0;36mfitness\u001b[1;34m(pop)\u001b[0m\n\u001b[0;32m     27\u001b[0m \u001b[1;31m# fitness function\u001b[0m\u001b[1;33m\u001b[0m\u001b[1;33m\u001b[0m\u001b[1;33m\u001b[0m\u001b[0m\n\u001b[0;32m     28\u001b[0m \u001b[1;32mdef\u001b[0m \u001b[0mfitness\u001b[0m\u001b[1;33m(\u001b[0m\u001b[0mpop\u001b[0m\u001b[1;33m)\u001b[0m\u001b[1;33m:\u001b[0m\u001b[1;33m\u001b[0m\u001b[1;33m\u001b[0m\u001b[0m\n\u001b[1;32m---> 29\u001b[1;33m     \u001b[1;32mreturn\u001b[0m \u001b[0mnp\u001b[0m\u001b[1;33m.\u001b[0m\u001b[0marray\u001b[0m\u001b[1;33m(\u001b[0m\u001b[1;33m[\u001b[0m\u001b[0mME\u001b[0m\u001b[1;33m(\u001b[0m\u001b[0mp\u001b[0m\u001b[1;33m)\u001b[0m \u001b[1;32mfor\u001b[0m \u001b[0mp\u001b[0m \u001b[1;32min\u001b[0m \u001b[0mpop\u001b[0m\u001b[1;33m]\u001b[0m\u001b[1;33m)\u001b[0m\u001b[1;33m\u001b[0m\u001b[1;33m\u001b[0m\u001b[0m\n\u001b[0m\u001b[0;32m     30\u001b[0m \u001b[1;33m\u001b[0m\u001b[0m\n\u001b[0;32m     31\u001b[0m \u001b[0mscores\u001b[0m \u001b[1;33m=\u001b[0m \u001b[0mfitness\u001b[0m\u001b[1;33m(\u001b[0m\u001b[0mpop\u001b[0m\u001b[1;33m)\u001b[0m\u001b[1;33m\u001b[0m\u001b[1;33m\u001b[0m\u001b[0m\n",
      "\u001b[1;32m<ipython-input-15-240b1db3e2bd>\u001b[0m in \u001b[0;36m<listcomp>\u001b[1;34m(.0)\u001b[0m\n\u001b[0;32m     27\u001b[0m \u001b[1;31m# fitness function\u001b[0m\u001b[1;33m\u001b[0m\u001b[1;33m\u001b[0m\u001b[1;33m\u001b[0m\u001b[0m\n\u001b[0;32m     28\u001b[0m \u001b[1;32mdef\u001b[0m \u001b[0mfitness\u001b[0m\u001b[1;33m(\u001b[0m\u001b[0mpop\u001b[0m\u001b[1;33m)\u001b[0m\u001b[1;33m:\u001b[0m\u001b[1;33m\u001b[0m\u001b[1;33m\u001b[0m\u001b[0m\n\u001b[1;32m---> 29\u001b[1;33m     \u001b[1;32mreturn\u001b[0m \u001b[0mnp\u001b[0m\u001b[1;33m.\u001b[0m\u001b[0marray\u001b[0m\u001b[1;33m(\u001b[0m\u001b[1;33m[\u001b[0m\u001b[0mME\u001b[0m\u001b[1;33m(\u001b[0m\u001b[0mp\u001b[0m\u001b[1;33m)\u001b[0m \u001b[1;32mfor\u001b[0m \u001b[0mp\u001b[0m \u001b[1;32min\u001b[0m \u001b[0mpop\u001b[0m\u001b[1;33m]\u001b[0m\u001b[1;33m)\u001b[0m\u001b[1;33m\u001b[0m\u001b[1;33m\u001b[0m\u001b[0m\n\u001b[0m\u001b[0;32m     30\u001b[0m \u001b[1;33m\u001b[0m\u001b[0m\n\u001b[0;32m     31\u001b[0m \u001b[0mscores\u001b[0m \u001b[1;33m=\u001b[0m \u001b[0mfitness\u001b[0m\u001b[1;33m(\u001b[0m\u001b[0mpop\u001b[0m\u001b[1;33m)\u001b[0m\u001b[1;33m\u001b[0m\u001b[1;33m\u001b[0m\u001b[0m\n",
      "\u001b[1;32m<ipython-input-11-c042287a351c>\u001b[0m in \u001b[0;36mME\u001b[1;34m(p)\u001b[0m\n\u001b[0;32m      1\u001b[0m \u001b[1;31m## Master equation\u001b[0m\u001b[1;33m\u001b[0m\u001b[1;33m\u001b[0m\u001b[1;33m\u001b[0m\u001b[0m\n\u001b[0;32m      2\u001b[0m \u001b[1;32mdef\u001b[0m \u001b[0mME\u001b[0m\u001b[1;33m(\u001b[0m\u001b[0mp\u001b[0m\u001b[1;33m)\u001b[0m\u001b[1;33m:\u001b[0m\u001b[1;33m\u001b[0m\u001b[1;33m\u001b[0m\u001b[0m\n\u001b[1;32m----> 3\u001b[1;33m     \u001b[1;32mreturn\u001b[0m \u001b[0mnp\u001b[0m\u001b[1;33m.\u001b[0m\u001b[0msum\u001b[0m\u001b[1;33m(\u001b[0m\u001b[0mnp\u001b[0m\u001b[1;33m.\u001b[0m\u001b[0msquare\u001b[0m\u001b[1;33m(\u001b[0m\u001b[0mnp\u001b[0m\u001b[1;33m.\u001b[0m\u001b[0mtrace\u001b[0m\u001b[1;33m(\u001b[0m\u001b[0mnp\u001b[0m\u001b[1;33m.\u001b[0m\u001b[0mmatmul\u001b[0m\u001b[1;33m(\u001b[0m\u001b[0mpc_beta\u001b[0m\u001b[1;33m,\u001b[0m \u001b[0mnp\u001b[0m\u001b[1;33m.\u001b[0m\u001b[0mtranspose\u001b[0m\u001b[1;33m(\u001b[0m\u001b[0mnp\u001b[0m\u001b[1;33m.\u001b[0m\u001b[0mmatmul\u001b[0m\u001b[1;33m(\u001b[0m\u001b[0mpc_dpsi\u001b[0m\u001b[1;33m,\u001b[0m \u001b[0mp\u001b[0m\u001b[1;33m)\u001b[0m\u001b[1;33m,\u001b[0m \u001b[0maxes\u001b[0m\u001b[1;33m=\u001b[0m\u001b[1;33m[\u001b[0m\u001b[1;36m2\u001b[0m\u001b[1;33m,\u001b[0m\u001b[1;36m0\u001b[0m\u001b[1;33m,\u001b[0m\u001b[1;36m1\u001b[0m\u001b[1;33m]\u001b[0m\u001b[1;33m)\u001b[0m\u001b[1;33m)\u001b[0m\u001b[1;33m,\u001b[0m \u001b[0maxis1\u001b[0m\u001b[1;33m=\u001b[0m\u001b[1;36m1\u001b[0m\u001b[1;33m,\u001b[0m \u001b[0maxis2\u001b[0m\u001b[1;33m=\u001b[0m\u001b[1;36m2\u001b[0m\u001b[1;33m)\u001b[0m\u001b[1;33m)\u001b[0m\u001b[1;33m)\u001b[0m\u001b[1;33m\u001b[0m\u001b[1;33m\u001b[0m\u001b[0m\n\u001b[0m\u001b[0;32m      4\u001b[0m \u001b[1;33m\u001b[0m\u001b[0m\n\u001b[0;32m      5\u001b[0m \u001b[0mprint\u001b[0m\u001b[1;33m(\u001b[0m\u001b[0mME\u001b[0m\u001b[1;33m(\u001b[0m\u001b[0mp\u001b[0m\u001b[1;33m)\u001b[0m\u001b[1;33m)\u001b[0m\u001b[1;33m\u001b[0m\u001b[1;33m\u001b[0m\u001b[0m\n",
      "\u001b[1;31mKeyboardInterrupt\u001b[0m: "
     ]
    }
   ],
   "source": [
    "## tune p s.t. all master equations go to 0\n",
    "\n",
    "def fixParametersForPop(pop):\n",
    "    return np.array([findFixedParameters(p) for p in pop])\n",
    "\n",
    "def shuffle_along_axis(a, axis):\n",
    "    idx = np.random.rand(*a.shape).argsort(axis=axis)\n",
    "    return np.take_along_axis(a,idx,axis=axis)\n",
    "\n",
    "v_track = []\n",
    "\n",
    "# population size should always be even to have crossover work\n",
    "pop_size = 40*N_cp\n",
    "keep_percent = 0.05\n",
    "keep_number = int(pop_size*keep_percent)\n",
    "fix_chance = 0.00\n",
    "print(f'keep_number = {keep_number} out of {pop_size}')\n",
    "cross_chance = 0.6\n",
    "mut_chance = 0.01\n",
    "mut_percent = 0.03\n",
    "\n",
    "# initilize population\n",
    "pop = np.random.rand(pop_size, N_cp, M)\n",
    "pop = fixParametersForPop(pop)\n",
    "pop = np.array([p/max(p) for p in pop])\n",
    "\n",
    "# fitness function\n",
    "def fitness(pop):\n",
    "    return np.array([ME(p) for p in pop])\n",
    "\n",
    "scores = fitness(pop)\n",
    "\n",
    "counter = 1\n",
    "max_iter = 100000\n",
    "print(f'{min(scores) > 10**-15}, {counter < max_iter}')\n",
    "while min(scores) > 10**-15 and counter < max_iter:\n",
    "    # selection\n",
    "    pop = pop[scores.argsort()[::-1]] # sorts in descending order of scores i.e. best is at bottom of pop\n",
    "    scores = scores[scores.argsort()[::-1]]\n",
    "    pop[:-keep_number] = np.array(r.choices(pop[keep_number:], weights=np.array(1 - scores/max(scores))[keep_number:], k=pop_size-keep_number))\n",
    "    pop = shuffle_along_axis(pop, 0)\n",
    "    \n",
    "    # crossover and mutation\n",
    "    for i in range(0,pop_size,2):\n",
    "        q1 = pop[i,3**N-2:].copy()\n",
    "        q2 = pop[i+1,3**N-2:].copy()\n",
    "        o_shape = q1.shape\n",
    "        q1.shape = o_shape[0]*o_shape[1] # turn [i,mu] into [i * mu] to make crossover easier\n",
    "        q2.shape = o_shape[0]*o_shape[1]\n",
    "        if r.random() < cross_chance: # crossover happens\n",
    "            x = np.random.randint(1, o_shape[0]*o_shape[1]) # find a point along the population\n",
    "            tmp = q2[:x].copy()\n",
    "            q2[:x], q1[:x]  = q1[:x], tmp # 1-point crossover\n",
    "        q1 += (np.random.rand(o_shape[0]*o_shape[1])-0.5)*2*max(q1)*mut_percent / (math.sqrt(counter)+1) * np.random.choice([0, 1], size=o_shape[0]*o_shape[1], p=[1-(mut_chance * (math.sqrt(counter)+1)), mut_chance * (math.sqrt(counter)+1)])\n",
    "        q2 += (np.random.rand(o_shape[0]*o_shape[1])-0.5)*2*max(q2)*mut_percent / (math.sqrt(counter)+1) * np.random.choice([0, 1], size=o_shape[0]*o_shape[1], p=[1-(mut_chance * (math.sqrt(counter)+1)), mut_chance * (math.sqrt(counter)+1)])\n",
    "        q1.shape = o_shape\n",
    "        q2.shape = o_shape\n",
    "        pop[i,3**N-2:] = q1\n",
    "        pop[i+1,3**N-2:] = q2\n",
    "                \n",
    "    # fix parameters again\n",
    "\n",
    "    # score each individual in the generation\n",
    "    scores = fitness(pop)\n",
    "    if counter % 10 == 0:\n",
    "        print(f'{min(scores) > 10**-15}, {counter < max_iter}')\n",
    "        print(f'[{min(scores)},...,{max(scores)}]')\n",
    "        p = pop[np.argmin(scores)]\n",
    "        print(f'v={findSolutionV2D(10*cp_bound, 10000)}')\n",
    "    \n",
    "    counter += 1\n",
    "    if(True):\n",
    "        p = pop[np.argmin(scores)]\n",
    "        v_track.append(findSolutionV2D(10*cp_bound, 10000))\n",
    "\n",
    "print(f'{min(scores) > 0.01}, {counter < max_iter}')\n",
    "scores = fitness(pop)\n",
    "print(min(scores))\n",
    "p = pop[np.argmin(scores)]\n",
    "print(f'v={findSolutionV2D(10*cp_bound, 10000)}')\n",
    "\n",
    "    "
   ]
  },
  {
   "cell_type": "code",
   "execution_count": 16,
   "id": "7a5a1d8e-f116-4475-94f5-57e38acfb329",
   "metadata": {},
   "outputs": [
    {
     "data": {
      "image/png": "[encoded data removed]",
      "text/plain": [
       "<Figure size 432x288 with 1 Axes>"
      ]
     },
     "metadata": {
      "needs_background": "light"
     },
     "output_type": "display_data"
    }
   ],
   "source": [
    "v_track = np.array(v_track)\n",
    "plt.figure()\n",
    "plt.plot(v_track,'.',c='b',label='best v value of generation')\n",
    "plt.plot(v_track*0+0.15,c='r',label=('v=0.15'))\n",
    "plt.xlim(0,v_track.size)\n",
    "plt.xlabel('# generations')\n",
    "plt.ylabel('v')\n",
    "plt.legend()\n",
    "plt.show()"
   ]
  },
  {
   "cell_type": "code",
   "execution_count": null,
   "id": "d0c6c26f-4201-47a6-8873-5df01d73bc73",
   "metadata": {},
   "outputs": [],
   "source": []
  }
 ],
 "metadata": {
  "kernelspec": {
   "display_name": "Python 3",
   "language": "python",
   "name": "python3"
  },
  "language_info": {
   "codemirror_mode": {
    "name": "ipython",
    "version": 3
   },
   "file_extension": ".py",
   "mimetype": "text/x-python",
   "name": "python",
   "nbconvert_exporter": "python",
   "pygments_lexer": "ipython3",
   "version": "3.8.8"
  }
 },
 "nbformat": 4,
 "nbformat_minor": 5
}
