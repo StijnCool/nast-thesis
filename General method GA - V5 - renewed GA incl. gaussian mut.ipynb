{
 "cells": [
  {
   "cell_type": "markdown",
   "id": "df58e9c2-5157-4c3e-ac20-016f27a99387",
   "metadata": {},
   "source": [
    "## Conventions \n",
    "$ \\alpha_1 \\rightarrow \\texttt{alpha1},\\quad \n",
    "\\alpha_u \\rightarrow \\texttt{alpha_u},\\quad \n",
    "\\alpha_* \\rightarrow \\texttt{alpha_fp} $ <br>\n",
    "$ \\tilde{\\alpha}_1 \\rightarrow \\texttt{Alpha1},\\quad \n",
    "\\tilde{\\alpha}_u \\rightarrow \\texttt{Alpha_u},\\quad \n",
    "\\tilde{\\alpha}_* \\rightarrow \\texttt{Alpha_fp} $ <br>"
   ]
  },
  {
   "cell_type": "markdown",
   "id": "4731f7ad-f103-41cd-8362-ec6bde8429bc",
   "metadata": {},
   "source": [
    "## Indices \n",
    "$$ \\text{General index for coordinates in theory space:} \\quad n = 1, \\ldots, N; \\quad \\beta^n, g^n, \\partial_n F, \\partial_n \\psi .$$ \\\n",
    "$$ \\text{Index for coordinates on $S_{UV}$:} \\quad \\alpha = 1, \\ldots, M=\\text{dim}(S_{UV}); \\quad \\beta^{\\alpha}, u^{\\alpha} .$$ \\\n",
    "$$ \\text{Index for coordinates that specify the embedding of $S_{UV}$ in $\\mathbb{R}^N$:} \\quad \\mu = 1, \\ldots, N-M; \\quad \\beta^{\\mu}, v^{\\mu}, F_{\\mu}, M_{\\mu}, p_{\\mu} .$$ \\\n",
    "$$ \\text{Index for the basis functions for the generating function and primary index for colocation points:} \\quad i = 1, \\ldots, N_p = \\#\\text{colocation points}; \\quad \\psi^i, p_i, g^{in}_{col} .$$ \\\n",
    "$$ \\text{Secundary (Tertiary) index for colocation points:} \\quad j,k = 1, \\ldots, N_p = \\#\\text{colocation points}; \\quad g^{jn}_{col}, g^{kn}_{\\sim} .$$"
   ]
  },
  {
   "cell_type": "markdown",
   "id": "04219e1f-ca49-4f6b-86cb-7a4b63ce94a9",
   "metadata": {},
   "source": [
    "## Objects\n",
    "$$ \\text{Coordinates in theory space:} \\quad g^n \\mapsto \\{u^{\\alpha}, v^{\\mu} \\}; \\quad \\text{N-dim. (0,1)-tensor} .$$ \\\n",
    "$$ \\text{Beta functions:} \\quad \\beta^n: \\mathbb{R}^N \\mapsto \\mathbb{R}^N; \\quad \\text{N-dim. (0,1)-tensor} .$$ \\\n",
    "$$ \\text{Generating function:} \\quad F_{\\mu}: \\mathbb{R}^N \\mapsto \\mathbb{R}^{N-M}; F_{\\mu} = p_{i \\mu} \\psi^i \\equiv (p\\psi)_{\\mu}; \\quad \\text{(N-M)-dim. (1,0)-tensor} .$$ \\\n",
    "$$ \\text{Basis functions:} \\quad \\psi^i: \\mathbb{R}^N \\mapsto \\mathbb{R}^{N_p}; \\quad \\text{$N_p$-dim. (0,1)-tensor} .$$ \\\n",
    "$$ \\text{Free parameters:} \\quad p_{i \\mu}; \\quad \\text{($N_p \\times$(N-M))-dim. (2,0)-tensor} .$$ \\\n",
    "$$ \\text{Derivatives of generating function:} \\quad (\\partial F)_{n \\mu} \\equiv \\partial_n F_{\\mu}: \\mathbb{R}^N \\mapsto \\mathbb{R}^N \\times \\mathbb{R}^{N-M}; \\partial_n F_{\\mu} = p_{i \\mu}\\partial_n \\psi^i \\equiv (p\\partial \\psi)_{n \\mu}; \\quad \\text{(N$\\times$(N-M))-dim. (2,0)-tensor} .$$ \\\n",
    "$$ \\text{Derivatives of the basis functions:} \\quad (\\partial\\psi)_n^i \\equiv \\partial_n \\psi^i: \\mathbb{R}^N \\mapsto \\mathbb{R}^N \\times \\mathbb{R}^{N_p}; \\quad \\text{(N$\\times N_p$)-dim. (1,1)-tensor} .$$ \\\n",
    "$$ \\text{Master equation:} \\quad M_{\\mu}: \\mathbb{R}^N \\mapsto \\mathbb{R}^{N-M}; M_{\\mu} = (\\partial_n F_{\\mu}) \\beta^n = p_{i \\mu} (\\partial_n \\psi^i) \\beta^n; \\quad \\text{(N-M)-dim. (1,0)-tensor} .$$ \\\n",
    "$$ \\text{Colocation points:} \\quad g_{col}^{in}; \\quad \\text{($N_p\\times$N)-dim. (0,2)-tensor} .$$ \\\n",
    "$$ \\text{Most of these objects have a version specific at the fixed point, denoted by a * sub- or superscript} .$$ \\\n",
    "$$ \\text{Alternatively, they might have a version specific to points around the fixed point, denoted by a $\\sim$ sub- or superscript} .$$"
   ]
  },
  {
   "cell_type": "code",
   "execution_count": 1,
   "id": "e3f54f07-0f75-4189-bf1b-f034784e78c2",
   "metadata": {},
   "outputs": [],
   "source": [
    "## imports\n",
    "import time\n",
    "import math\n",
    "import numpy as np\n",
    "import matplotlib.pyplot as plt\n",
    "import seaborn as sns\n",
    "import pandas as pd\n",
    "import random as rand\n",
    "from itertools import product\n",
    "from scipy.optimize import curve_fit\n",
    "\n",
    "## setup\n",
    "np.set_printoptions(linewidth=160)\n",
    "\n",
    "ver = 0\n"
   ]
  },
  {
   "cell_type": "code",
   "execution_count": 2,
   "id": "8c7df936-2e94-4ce5-b3ef-f6308e2f7205",
   "metadata": {},
   "outputs": [
    {
     "name": "stdout",
     "output_type": "stream",
     "text": [
      "Complexity of order O(Np^1.6)\n"
     ]
    },
    {
     "data": {
      "image/png": "[encoded data removed]",
      "text/plain": [
       "<Figure size 432x288 with 1 Axes>"
      ]
     },
     "metadata": {
      "needs_background": "light"
     },
     "output_type": "display_data"
    }
   ],
   "source": [
    "## Graphs from tests\n",
    "\n",
    "# Runtime of master equation test data\n",
    "def poly(x, a, b, c):\n",
    "    return a*x**c+b\n",
    "td_M = np.zeros((2,20))\n",
    "td_M[0,:] = np.square(np.array([3,5,7,9,11,13,15,17,19,21,31,41,51,61,71,81,91,101,111,121]))\n",
    "td_M[1,:] = np.array([1e-5,1e-5,2e-5,2e-5,3e-5,4e-5,5e-5,7e-5,9e-5,1e-4,4e-4,2e-3,4e-3,9e-3,2e-2,3e-2,4e-2,6e-2,9e-2,1e-1])\n",
    "td_M_popt, td_M_pcov = curve_fit(poly, td_M[0,:], td_M[1,:])\n",
    "print(f'Complexity of order O(Np^{np.round(td_M_popt[2],1)})')\n",
    "td_M_x = np.linspace(td_M[0,0],td_M[0,-1],int(td_M[0,-1]-td_M[0,0]))\n",
    "plt.figure()\n",
    "plt.plot(td_M_x, poly(td_M_x, *td_M_popt), c='r', label=f'Complexity of order O(Np^{np.round(td_M_popt[2],1)})')\n",
    "plt.plot(td_M[0],td_M[1],'o',c='b', label='Datapoints')\n",
    "plt.xlabel(r'$N_P$')\n",
    "plt.ylabel('t (s)')\n",
    "plt.title('Time complexity of computing the master function')\n",
    "plt.legend()\n",
    "plt.show()"
   ]
  },
  {
   "cell_type": "markdown",
   "id": "9900b586-7a3e-4212-bcab-a501ed4a244f",
   "metadata": {},
   "source": [
    "## Beta functions\n",
    "$$ \\beta^n: \\mathbb{R}^N \\mapsto \\mathbb{R}^N, g^n = \\begin{pmatrix} u^1 \\\\ \\vdots \\\\ u^M \\\\ v^1 \\\\ \\vdots \\\\ v^{N-M} \\end{pmatrix} \\mapsto \\begin{pmatrix}  \\beta^1(g^n) \\\\ \\vdots \\\\ \\beta^N(g^n) \\end{pmatrix}  \n",
    "\\equiv \\beta^n: \\mathbb{R}^2 \\mapsto \\mathbb{R}^2, g^n= \\begin{pmatrix} u \\\\ v \\end{pmatrix} \\mapsto \\begin{pmatrix} u-\\frac{u^6}{\\pi^2 (u^2+v)^3} \\\\ -\\frac{u^5}{6\\pi^2 (u^2+v)^2} - \\frac{2vu^5}{\\pi^2(u^2+v)^3} \\end{pmatrix}  $$"
   ]
  },
  {
   "cell_type": "code",
   "execution_count": 3,
   "id": "1d036085-52e6-4b2c-b7cd-88031e9e5641",
   "metadata": {},
   "outputs": [],
   "source": [
    "## beta functions\n",
    "def beta(G): # G[j'th point, nth coord]\n",
    "    u = G[:,0]\n",
    "    v = G[:,1]\n",
    "    if ver==1:\n",
    "        beta_u = u - u**6 / (math.pi**2 * (u**2+v)**3)\n",
    "        beta_v = -u**5 / (6*math.pi**2 * (u**2+v)**2) - 2*v*u**5 / (math.pi**2 * (u**2+v)**3)\n",
    "        return np.array([beta_u, beta_v]) # beta[n] [!] this line is specifically 2D\n",
    "    else:\n",
    "        return np.array([2*u - 3*u**3 / (2*math.pi*(v + u)**3), -u**2*(7*v + u) / (4*math.pi*(v + u)**3)]) # beta[n] [!] this line is specifically 2D"
   ]
  },
  {
   "cell_type": "markdown",
   "id": "9271db25-7407-450d-8c16-b8c3b7a5ff0a",
   "metadata": {
    "tags": []
   },
   "source": [
    "## NGFP\n",
    "$$ \\beta^n(g^n_*) = 0 \\implies \\begin{pmatrix} u_* \\\\ v_* \\end{pmatrix} = \\begin{pmatrix} \\frac{2197}{1728\\pi^2} \\\\ -\\frac{371293}{2985984\\pi^4} \\end{pmatrix} \\implies F_{\\mu}(g^n_*)=0 $$ "
   ]
  },
  {
   "cell_type": "code",
   "execution_count": 4,
   "id": "cd1f3be9-9a13-4ebb-a6ff-10429d3e3841",
   "metadata": {
    "tags": []
   },
   "outputs": [
    {
     "name": "stdout",
     "output_type": "stream",
     "text": [
      "[ 0.37909823 -0.05415689]\n"
     ]
    }
   ],
   "source": [
    "## NGFP (beta functions = 0)\n",
    "fp=0\n",
    "target=0\n",
    "if ver==1:\n",
    "    fp = np.array([2197/(1728*math.pi**2), -371293/(2985984*math.pi**4)]) # fp[n] [!] this line is specifically 2D\n",
    "    target = 4.8*10**-3\n",
    "else:\n",
    "    fp = np.array([343/(288*math.pi), -49/(288*math.pi)]) # fp[n] [!] this line is specifically 2D\n",
    "    target = 0.15\n",
    "N = fp.size\n",
    "M = 1 # [!] this line is specifically 2D\n",
    "print(fp)\n",
    "\n",
    "\n"
   ]
  },
  {
   "cell_type": "markdown",
   "id": "6562f3b2-3974-45e6-a709-fb165627bc2b",
   "metadata": {},
   "source": [
    "## Linear generating function and its derivatives\n",
    "$$ F^*_{\\mu}(g^n) = c_{n' \\mu}\\begin{pmatrix}g^n \\\\ 1\\end{pmatrix}^{n'} =\n",
    "\\begin{pmatrix}\n",
    "    c_{1,1} g^1 + c_{1,2} g^2 + \\cdots + c_{1,N} g^N + c_{1,N+1} \\\\\n",
    "    \\vdots \\\\\n",
    "    c_{N-M,1} g^1 + c_{N-M,2} g^2 + \\cdots + c_{N-M,N} g^N + c_{N-M,N+1}\n",
    "\\end{pmatrix}^T\n",
    "\\equiv F^*(u,v) = -u + \\frac{864(\\sqrt{82}-11)\\pi^2}{2197}v + \\frac{169(15+\\sqrt{82})}{3456\\pi^2} $$ \\\n",
    "$$ \\partial_n F^*_{\\mu}(g^n) = (\\partial F^*(g^n))_n = c_{n\\mu} =\n",
    "\\begin{pmatrix}\n",
    "    c_{1,1} & \\cdots & c_{1,N-M} \\\\\n",
    "    \\vdots & & \\vdots \\\\\n",
    "    c_{N,1} & \\cdots & c_{N,N-M}\n",
    "\\end{pmatrix}\n",
    "\\equiv (\\nabla F^*(u,v))_n = \\Bigg( -1 \\quad \\frac{864(\\sqrt{82}-11)\\pi^2}{2197} \\Bigg) $$"
   ]
  },
  {
   "cell_type": "code",
   "execution_count": 5,
   "id": "5438290e-a584-4c0d-a2f3-40e6c370dd6f",
   "metadata": {},
   "outputs": [
    {
     "name": "stdout",
     "output_type": "stream",
     "text": [
      "Linear v = -0.6010293960725723\n"
     ]
    }
   ],
   "source": [
    "## linear generating function and its derivative\n",
    "c_fp=0\n",
    "if ver==1:\n",
    "    c_fp = np.array([\n",
    "        [-1], \n",
    "        [864*(82**0.5-11)*math.pi**2/2197], \n",
    "        [169*(15+82**0.5)/(3456*math.pi**2)]\n",
    "    ]) # N+1 x N-M coefficients c_fp[n',mu] [!] this line is specifically 2D\n",
    "else:\n",
    "    c_fp = np.array([\n",
    "        [172 - 137*43**0.5], \n",
    "        [215 + 44*43**0.5], \n",
    "        [49*(1003*43**0.5 - 989)/(288*math.pi)]\n",
    "    ]) # N+1 x N-M coefficients c_fp[n',mu] [!] this line is specifically 2D\n",
    "\n",
    "def F_fp(g): # Calculate c_fp[n',mu]*g[n'] (n' means (gn, 1))\n",
    "    return np.matmul(np.append(g,[1]),c_fp) # F_fp [!] this line is specifically 2D\n",
    "\n",
    "def dF_fp(): # Return dF_fp\n",
    "    return np.array([c_fp[:-1,:]]) # dF_fp[nth derivative] [!] this line is specifically 2D\n",
    "\n",
    "linear_v = -c_fp[-1,0]/c_fp[-2,0] # [!] this line is specifically 2D\n",
    "print(f'Linear v = {linear_v}')\n"
   ]
  },
  {
   "cell_type": "markdown",
   "id": "007cedf1-7e30-4211-95aa-6902b2d56ca1",
   "metadata": {},
   "source": [
    "## Colocation points"
   ]
  },
  {
   "cell_type": "code",
   "execution_count": 6,
   "id": "9a047100-65ec-419d-bd73-b83cc0454aac",
   "metadata": {},
   "outputs": [
    {
     "name": "stdout",
     "output_type": "stream",
     "text": [
      "0.058823529411764705\n"
     ]
    }
   ],
   "source": [
    "## generate grid of colocation points\n",
    "\n",
    "N_cp_g = 17 # Number of colocation points in each direction g^n\n",
    "N_cp = N_cp_g**N # Number of colocation points\n",
    "\n",
    "# Search space above and below fp for each direction g^n; cp_bound[nth direction, 0=lower 1=upper]\n",
    "cp_bound = np.abs(np.array([[0.5,0.5], [0.5,0.5]]))\n",
    "\n",
    "sigma = np.mean(cp_bound)*2/N_cp_g # smoothness factor for basis functions\n",
    "\n",
    "print(sigma)\n",
    "\n",
    "cps = np.array([np.linspace(\n",
    "    fp[n]-cp_bound[n,0], \n",
    "    fp[n]+cp_bound[n,1], \n",
    "    N_cp_g) for n in range(0,fp.size)]) # linspaces that span space of colocation points\n",
    "gg = np.array(np.meshgrid(*cps,indexing='ij')) # gg[n,n_cp_g1,...,n_cp_gn]\n",
    "\n",
    "def idToCoord(cp):\n",
    "    # maps a 1D array of collocation point ids [0, ..., N_cp_g-1] to the coordinates on the grid\n",
    "    coords = np.zeros((cp.size, N))\n",
    "    for d in (range(1,N+1)):\n",
    "        D = N-d\n",
    "        coords[:,D] = cp - np.mod(cp, np.ones(cp.size)*N_cp_g**D)\n",
    "        if D != N-1:\n",
    "            for dd in range(D+1,N):\n",
    "                coords[:,D] -= coords[:,dd]*N_cp_g**dd\n",
    "        coords[:,D] = np.divide(coords[:,D], np.ones(cp.size)*N_cp_g**D)\n",
    "        coords = coords.astype(int)\n",
    "    return np.array([gg[:,coords[:,0],coords[:,1]][:,i] for i in range(0, cp.size)]) # idToCoord[ith cp, nth coord] [!] this line is specifically 2D\n",
    "\n",
    "CP = idToCoord(np.array(list(range(0,N_cp)))) # CP[ith cp, nth coord]\n"
   ]
  },
  {
   "cell_type": "markdown",
   "id": "cd276a66-1f0a-46fc-a389-a46a7b01cb85",
   "metadata": {
    "tags": []
   },
   "source": [
    "## Basis functions (Multivariate Cauchy Distributions)\n",
    "$$ g^{ni}_{col} = (g^{in}_{col})^T $$ \\\n",
    "$$ \\psi^i(g^n) = \\Bigg( 1 + \\sum^N_n\\frac{(g^n-g^{ni}_{col})^2}{\\sigma^2} \\Bigg)^{-1} $$ \\\n",
    "$$ \\partial_n\\psi^i(g^n) = (\\partial\\psi(g^n))_n^i = -\\frac{2}{\\sigma^2}(g^n-g^{ni}_{col})\\psi^i(g^n)^2 $$"
   ]
  },
  {
   "cell_type": "code",
   "execution_count": 7,
   "id": "5bec665a-b772-4ae2-a7b9-ded9a7e4025c",
   "metadata": {
    "tags": []
   },
   "outputs": [],
   "source": [
    "## Basis functions and their derivatives\n",
    "\n",
    "CP_transpose = CP.transpose() # CP_transpose[nth coord,ith cp]\n",
    "\n",
    "def psi(G): # G[j'th point, nth coord]\n",
    "    # divide(1, (1 + 1/sigma**2 * matmul(1, square([g,...,g]^T - CP^T)))) for all g in G\n",
    "    return np.array([np.divide(np.ones(N_cp),(np.ones(N_cp) + (1/sigma**2)*np.matmul(np.ones(N),np.square(np.tile(g,(N_cp,1)).transpose() - CP_transpose)))) for g in G]) # psi[jth point,ith function]\n",
    "\n",
    "def dpsi(G): # G[j'th point, nth coord]\n",
    "    # multiply(-2/sigma**2 * ([g,...,g]^T - CP^T) for all g in G, (tile(square(psi(CP)),(N,1,1)), axes=[1,0,2])^T)\n",
    "    return np.multiply(np.array([((-2/sigma**2) * (np.tile(g,(N_cp,1)).transpose() - CP_transpose)) for g in G]), np.transpose(np.tile(np.square(psi(CP)),(N,1,1)), axes=[1,0,2])) # dpsi[jth point, nth derivative,ith function]\n"
   ]
  },
  {
   "cell_type": "markdown",
   "id": "03c581a3-c91d-426a-a82e-ebfcda254da1",
   "metadata": {},
   "source": [
    "## Pre-calculate"
   ]
  },
  {
   "cell_type": "code",
   "execution_count": 8,
   "id": "b7690b76-054c-4485-96db-566f77c02c79",
   "metadata": {
    "tags": []
   },
   "outputs": [
    {
     "name": "stdout",
     "output_type": "stream",
     "text": [
      "F:(289, 1)\n",
      "dF:(1, 2, 1)\n",
      "psi:(289, 289)\n",
      "dpsi:(289, 2, 289)\n",
      "p:(289, 1)\n",
      "beta:(2, 289)\n"
     ]
    }
   ],
   "source": [
    "## Precaluculate up until now\n",
    "pc_F_fp = np.array([F_fp(cp) for cp in CP]) # [jth point, function mu]\n",
    "print(f'F:{pc_F_fp.shape}')\n",
    "pc_dF_fp = dF_fp() # [function mu, nth derivative]\n",
    "print(f'dF:{pc_dF_fp.shape}')\n",
    "pc_psi = psi(CP) # [jth point,ith function]\n",
    "print(f'psi:{pc_psi.shape}')\n",
    "pc_dpsi = dpsi(CP) # [jth point, nth derivative,ith function]\n",
    "print(f'dpsi:{pc_dpsi.shape}')\n",
    "p = np.ones((N_cp,M)) # p[ith basis function, function mu]\n",
    "print(f'p:{p.shape}')\n",
    "pc_beta = beta(CP) #\n",
    "print(f'beta:{pc_beta.shape}')"
   ]
  },
  {
   "cell_type": "markdown",
   "id": "7234889b-6484-40d0-89fb-8bf524aa9ec6",
   "metadata": {
    "tags": []
   },
   "source": [
    "## Fixed parameters\n",
    "$$ \\partial_n F_{\\mu} \\big|_{g^n_*} = \\partial_n F^*_{\\mu} \\implies F_{\\mu} \\big|_{g_{\\sim}^n} \\approx F^*_{\\mu} \\big|_{g_{\\sim}^n} $$ \\\n",
    "$$ \\text{For one these $g_{\\sim}^n$ : } p_{i \\mu}\\psi^i(g_{\\sim}^n) \\approx F^*_{\\mu}(g_{\\sim}^n) \\implies p_{1\\mu} \\approx \\frac{1}{\\psi^1(g_{\\sim}^n)}\\bigg[ F^*_{\\mu}(g_{\\sim}^n) - \\sum_{i=2}^{N_p} p_{i \\mu}\\psi^i(g_{\\sim}^n) \\bigg] $$ \\\n",
    "$$ \\text{For $K$ of these $g^{kn}_{\\sim}$ : } $$ \\\n",
    "$$ g^{1n}_{\\sim}: \\quad p_{1\\mu} \\approx \\frac{1}{\\psi^1(g^{1n}_{\\sim})}\\bigg[ F^*_{\\mu}(g^{1n}_{\\sim}) - \\sum_{i=2}^{N_p} p_{i \\mu}\\psi^i(g^{1n}_{\\sim}) \\bigg] $$ \\\n",
    "$$ g^{2n}_{\\sim}: \\quad p_{2\\mu} \\approx \\frac{1}{\\psi^2(g^{2n}_{\\sim})}\\bigg[ F^*_{\\mu}(g^{2n}_{\\sim}) - p_{1\\mu}\\psi^1(g^{2n}_{\\sim}) - \\sum_{i=3}^{N_p} p_{i \\mu}\\psi^i(g^{2n}_{\\sim}) \\bigg] $$ \\\n",
    "$$ \\vdots $$ \\\n",
    "$$ g^{Kn}_{\\sim}: \\quad p_{K\\mu} \\approx \\frac{1}{\\psi^K(g^{Kn}_{\\sim})}\\bigg[ F^*_{\\mu}(g^{Kn}_{\\sim}) - \\sum_{k=1}^{K-1}p_{k\\mu}\\psi^k(g^{Kn}_{\\sim}) - \\sum_{i=K+1}^{N_p} p_{i \\mu}\\psi^i(g^{Kn}_{\\sim}) \\bigg] $$ \\\n",
    "$$ \\text{This fixes $K \\times (N-M)$ parameters $p_{i\\mu}$} .$$"
   ]
  },
  {
   "cell_type": "code",
   "execution_count": 9,
   "id": "45ba3069-0dfd-4cce-aaac-60c61bf98aae",
   "metadata": {
    "tags": []
   },
   "outputs": [
    {
     "data": {
      "image/png": "[encoded data removed]",
      "text/plain": [
       "<Figure size 432x288 with 1 Axes>"
      ]
     },
     "metadata": {
      "needs_background": "light"
     },
     "output_type": "display_data"
    }
   ],
   "source": [
    "## Find the values for the fixed p's\n",
    "p = np.ones((N_cp,M)) # reset\n",
    "\n",
    "# Find the id's of the 8 points directly around the fp\n",
    "def findCoreIds(): # Find the id's of the 3^N-1 points directly around the fp\n",
    "    perms = np.array([i for i in product([-1,0,1], repeat=N)])\n",
    "    perms = np.delete(perms, int((perms.shape[0]-1)/2), 0)\n",
    "    ids = np.zeros(3**N-1)\n",
    "    for i in range(0,perms.shape[0]):\n",
    "        for j in range(0, perms.shape[1]):\n",
    "            ids[i] += N_cp_g**j*((N_cp_g-1)/2 + perms[i,j])\n",
    "    return ids.astype('int') # findCoreIds[k'th core point]\n",
    "\n",
    "def findFpId():\n",
    "    ids = 0\n",
    "    for j in range(0, N):\n",
    "        ids += N_cp_g**j*(N_cp_g-1)/2\n",
    "    return int(ids)\n",
    "\n",
    "fp_id = findFpId()\n",
    "\n",
    "core_ids = findCoreIds()\n",
    "core_coords = idToCoord(core_ids)\n",
    "\n",
    "# plot colocation points and core\n",
    "if N == 2:\n",
    "    fig_grid = plt.figure()\n",
    "    ax_grid = fig_grid.add_subplot()\n",
    "    plt.plot(gg[0], gg[1], marker='o', color='k', linestyle='none')\n",
    "    plt.plot(fp[0], fp[1], marker='*', color='y')\n",
    "    plt.plot(0, target, marker='*', color='r')\n",
    "    plt.plot(0, linear_v, marker='*', color='g')\n",
    "    plt.plot(core_coords[:,0], core_coords[:,1], marker='o', color='b', linestyle='none')\n",
    "    #ax_grid.set_aspect('equal', adjustable='box')\n",
    "    plt.xlabel(r'$g^1 (= u)$')\n",
    "    plt.ylabel(r'$g^2 (= v)$')\n",
    "    plt.title('Colocation points, fixed point, and core')\n",
    "    plt.show()\n",
    "    \n",
    "def findFixedParameters(p): # current parameters p\n",
    "    pc = np.copy(p)\n",
    "    a = core_ids[0]\n",
    "    for k in range(0,core_ids.size):\n",
    "        kd = core_ids[k]\n",
    "        pc[k,:] = 1/pc_psi[kd,k] * np.subtract(pc_F_fp[kd], np.add(np.matmul(pc_psi[kd,0:k], pc[0:k,:]), np.matmul(pc_psi[kd,k+1:], pc[k+1:,:])))\n",
    "    return pc # p[ith basis function, function mu]\n",
    "    \n",
    "p = findFixedParameters(p)\n",
    "# print(p[0:3**N-1])\n",
    "# plt.figure()\n",
    "# plt.plot(p[:,0]/max(p[:,0]))\n",
    "# plt.show"
   ]
  },
  {
   "cell_type": "markdown",
   "id": "b4a86232-9d5d-44f1-94c9-87ec8fde5ad1",
   "metadata": {},
   "source": [
    "## Generating function\n",
    "$$ F_{\\mu}(g^n) = p_{i \\mu} \\psi^i(g^n) $$"
   ]
  },
  {
   "cell_type": "code",
   "execution_count": 10,
   "id": "a7a48094-1ea7-400c-947f-c71a26b6c58b",
   "metadata": {
    "tags": []
   },
   "outputs": [
    {
     "name": "stdout",
     "output_type": "stream",
     "text": [
      "F at fp = [[0.]]\n",
      "-0.08988224761123137\n",
      "(289, 1)\n"
     ]
    }
   ],
   "source": [
    "## Generating function\n",
    "\n",
    "def F(p): # p[ith function, function mu]\n",
    "    val = np.matmul(pc_psi, p) # (j,i)x(i,mu)=(j,mu)\n",
    "    return np.subtract(val, np.matmul(psi(np.array([fp])), p)[0,0]) # F[j'th point, function mu] [!] this line is specifically 2D\n",
    "\n",
    "def F_general(G, p): # G[point, nth coord] p[ith function, function mu]\n",
    "    val = np.matmul(psi(G), p)\n",
    "    return np.subtract(val, np.matmul(psi(np.array([fp])), p)[0,0]) # F[j'th point, function mu] [!] this line is specifically 2D\n",
    "\n",
    "def findSolutionV2D(bound, number):\n",
    "    check_coords = np.zeros((number,2))\n",
    "    check_coords[:,1] = np.linspace(fp[1]-bound[1,0], fp[1]+bound[1,1], number)\n",
    "    check_F = np.square(F_general(check_coords,p))\n",
    "    return check_coords[np.argmin(check_F[:,0]),1]\n",
    "\n",
    "print(f'F at fp = {F_general(np.array([fp]),p)}')\n",
    "print(findSolutionV2D(cp_bound, 100000))\n",
    "\n",
    "print(F(p).shape)    \n",
    "# sns.heatmap(np.array([[F(p)[i+N_cp_g*j,0] for i in range(0,N_cp_g)] for j in range(0,N_cp_g)])) "
   ]
  },
  {
   "cell_type": "markdown",
   "id": "cf2fdf2d-be96-4e69-b074-710ecfdffb96",
   "metadata": {},
   "source": [
    "## Master equation\n",
    "$$ M_{\\mu}^j \\equiv M_{\\mu}(g_{col}^{jn}) = \\big(p_{i\\mu}\\partial_n\\psi^i(g_{col}^{jn})\\big)\\beta^n(g_{col}^{jn}) \\equiv (p\\partial\\psi)_{\\mu n}^j (\\beta)^{jn} \\equiv (p\\partial\\psi\\beta)^j_{\\mu} $$ "
   ]
  },
  {
   "cell_type": "code",
   "execution_count": 11,
   "id": "caec7ba7-fd33-456f-bf06-15a095a08d8f",
   "metadata": {
    "tags": []
   },
   "outputs": [
    {
     "name": "stdout",
     "output_type": "stream",
     "text": [
      "290548820674599.25\n"
     ]
    }
   ],
   "source": [
    "## Master equation\n",
    "def ME(p):\n",
    "    return np.sum(np.square(np.trace(np.matmul(pc_beta, np.transpose(np.matmul(pc_dpsi, p), axes=[2,0,1])), axis1=1, axis2=2)))\n",
    "\n",
    "print(ME(p))\n",
    "\n",
    "# Time recording of master function\n",
    "if(False):\n",
    "    N_test = 1000\n",
    "    cum_time = 0\n",
    "    for i in range(0,N_test):\n",
    "        start = time.time()\n",
    "        v = ME(p)\n",
    "        end = time.time()\n",
    "        cum_time += end-start\n",
    "    print(\"{:e}\".format(cum_time/N_test))\n",
    "\n"
   ]
  },
  {
   "cell_type": "markdown",
   "id": "20baca0f-3786-4cb6-849f-54107f5bff1c",
   "metadata": {},
   "source": [
    "## Genetic algorithm"
   ]
  },
  {
   "cell_type": "code",
   "execution_count": 12,
   "id": "98497093-c5d9-4f0c-aa8f-607708acc119",
   "metadata": {},
   "outputs": [
    {
     "name": "stdout",
     "output_type": "stream",
     "text": [
      "[[1 2]\n",
      " [3 4]\n",
      " [5 6]]\n",
      "[1 2 3 4 5 6]\n",
      "[[1 2]\n",
      " [3 4]\n",
      " [5 6]]\n"
     ]
    }
   ],
   "source": [
    "a = np.array(range(1,7))\n",
    "a.shape = (3,2)\n",
    "print(a)\n",
    "a.shape = (6)\n",
    "print(a)\n",
    "a.shape = (3,2)\n",
    "print(a)"
   ]
  },
  {
   "cell_type": "code",
   "execution_count": 14,
   "id": "7f2e5641-04c1-456c-884d-7f281cd37f8e",
   "metadata": {},
   "outputs": [
    {
     "name": "stdout",
     "output_type": "stream",
     "text": [
      "[2943784.58876392 1790690.32967868 3293636.81754725 ... 3588031.80592553 3789098.53425425 3291689.01450748]\n",
      "= Starting Genetic Algorithm =\n",
      "Keep 3468 out of 11560 individuals.\n",
      "Crossover 3.0% of pairs.\n"
     ]
    },
    {
     "name": "stderr",
     "output_type": "stream",
     "text": [
      "<ipython-input-11-c042287a351c>:3: RuntimeWarning: overflow encountered in square\n",
      "  return np.sum(np.square(np.trace(np.matmul(pc_beta, np.transpose(np.matmul(pc_dpsi, p), axes=[2,0,1])), axis1=1, axis2=2)))\n",
      "<ipython-input-14-72674193bd72>:78: RuntimeWarning: invalid value encountered in subtract\n",
      "  weights = np.max(scores) - scores\n",
      "<ipython-input-14-72674193bd72>:35: RuntimeWarning: invalid value encountered in multiply\n",
      "  return np.add(q,np.multiply(gauss, mask))\n",
      "C:\\ProgramData\\Anaconda3\\lib\\random.py:417: RuntimeWarning: invalid value encountered in double_scalars\n",
      "  return a + (b-a) * self.random()\n",
      "<ipython-input-14-72674193bd72>:15: RuntimeWarning: invalid value encountered in double_scalars\n",
      "  l = x1 - rand.random()*(x2-x1)\n",
      "<ipython-input-14-72674193bd72>:16: RuntimeWarning: invalid value encountered in double_scalars\n",
      "  r = x2 + rand.random()*(x2-x1)\n",
      "<ipython-input-11-c042287a351c>:3: RuntimeWarning: invalid value encountered in matmul\n",
      "  return np.sum(np.square(np.trace(np.matmul(pc_beta, np.transpose(np.matmul(pc_dpsi, p), axes=[2,0,1])), axis1=1, axis2=2)))\n"
     ]
    },
    {
     "name": "stdout",
     "output_type": "stream",
     "text": [
      "\n",
      "= End at generation 7 =\n",
      "False, True\n",
      "nan\n",
      "v=-3.04e-01\n"
     ]
    }
   ],
   "source": [
    "## tune p s.t. all master equations go to 0\n",
    "\n",
    "def fixParametersForPop(pop):\n",
    "    return np.array([findFixedParameters(p) for p in pop])\n",
    "\n",
    "def shuffleAlongAxis(a, axis):\n",
    "    idx = np.random.rand(*a.shape).argsort(axis=axis)\n",
    "    return np.take_along_axis(a,idx,axis=axis)\n",
    "\n",
    "def blendBiasedCrossover(q1, q2, P):\n",
    "    for i in range(0, q1.size):\n",
    "        if rand.random() < P:\n",
    "            x1 = min([q1[i],q2[i]])\n",
    "            x2 = max([q1[i],q2[i]])\n",
    "            l = x1 - rand.random()*(x2-x1)\n",
    "            r = x2 + rand.random()*(x2-x1)\n",
    "            q1[i] = rand.uniform(l,r)\n",
    "            q2[i] = rand.uniform(l,r)\n",
    "    return q1, q2\n",
    "            \n",
    "def shapeIndividuals(q1, q2):\n",
    "    o_shape = q1.shape\n",
    "    q1.shape = o_shape[0]*o_shape[1]\n",
    "    q2.shape = o_shape[0]*o_shape[1]\n",
    "    return q1, q2, o_shape\n",
    "\n",
    "def reshapeIndividuals(q1, q2, o_shape):\n",
    "    q1.shape = o_shape\n",
    "    q2.shape = o_shape\n",
    "    return q1, q2\n",
    "\n",
    "def gausssianMutation(q, P, score, gausssian_mutation_divider):\n",
    "    gauss = np.random.normal(0, score/10, q.shape)\n",
    "    mask = np.random.choice([0, 1], size=q.size, p=[1-P,P])\n",
    "    return np.add(q,np.multiply(gauss, mask))\n",
    "\n",
    "def message(interval, counter, check1, check2, scores, bound_ratio):\n",
    "    if counter % interval == 0:\n",
    "        print('')\n",
    "        print(f'= Generation {counter} =')\n",
    "        print(f'Failsaves: {check1}, {check2}.')\n",
    "        print(f'Current best and worst scores: [{np.format_float_scientific(min(scores),2)},...,{np.format_float_scientific(max(scores),2)}].')\n",
    "        print(f'v={np.format_float_scientific(findSolutionV2D(bound_ratio*cp_bound, 10000),2)}')\n",
    "    \n",
    "\n",
    "v_track = []\n",
    "\n",
    "# population size should always be even to have crossover work\n",
    "pop_size = 40*N_cp\n",
    "keep_percent = 0.3\n",
    "keep_number = int(pop_size*keep_percent/2)*2\n",
    "cross_chance = 0.03\n",
    "mut_chance = 1/N_cp\n",
    "gausssian_mutation_divider = 10\n",
    "\n",
    "# initilize population\n",
    "pop = np.random.rand(pop_size, N_cp, M)*2-1\n",
    "pop = fixParametersForPop(pop)\n",
    "pop = np.array([p/max(p) for p in pop])\n",
    "\n",
    "# fitness function\n",
    "def fitness(pop):\n",
    "    return np.array([ME(p) for p in pop])\n",
    "\n",
    "scores = fitness(pop)\n",
    "print(scores)\n",
    "\n",
    "counter = 1\n",
    "max_iter = 100000\n",
    "\n",
    "# starting message\n",
    "print('= Starting Genetic Algorithm =')\n",
    "print(f'Keep {keep_number} out of {pop_size} individuals.')\n",
    "print(f'Crossover {cross_chance*100}% of pairs.')\n",
    "\n",
    "while min(scores) > 10**-40 and counter < max_iter:\n",
    "    # precompute some values\n",
    "    weights = np.max(scores) - scores\n",
    "    m = np.min(scores)\n",
    "    \n",
    "    # selection\n",
    "    pop = pop[scores.argsort()[::-1]] # sorts in descending order of scores i.e. best is at bottom of pop\n",
    "    scores = scores[scores.argsort()[::-1]]\n",
    "    pop[:-keep_number] = np.array(rand.choices(pop[keep_number:], weights=weights[keep_number:], k=pop_size-keep_number))\n",
    "       \n",
    "    # mutation\n",
    "    for i in range(2,pop_size,2):\n",
    "        q1, q2, o_shape = shapeIndividuals(pop[i].copy(), pop[i+1].copy())\n",
    "        q1 = gausssianMutation(q1, mut_chance, scores[i], gausssian_mutation_divider)\n",
    "        q2 = gausssianMutation(q2, mut_chance, scores[i+1], gausssian_mutation_divider)\n",
    "        pop[i], pop[i+1] = reshapeIndividuals(q1, q2, o_shape)\n",
    "        \n",
    "    # shuffle\n",
    "    pop = shuffleAlongAxis(pop, 0)\n",
    "    \n",
    "    # crossover\n",
    "    for i in range(2,pop_size,2):\n",
    "        q1, q2, o_shape = shapeIndividuals(pop[i].copy(), pop[i+1].copy())\n",
    "        q1, q2 = blendBiasedCrossover(q1,q2,cross_chance)\n",
    "        pop[i], pop[i+1] = reshapeIndividuals(q1, q2, o_shape)\n",
    "        \n",
    "    \n",
    "    # score each individual in the generation\n",
    "    scores = fitness(pop)\n",
    "    message(10, counter, m > 10**-40, counter < max_iter, scores, 1/2)\n",
    "\n",
    "    if(True):\n",
    "        p = pop[np.argmin(scores)]\n",
    "        v_track.append(findSolutionV2D(cp_bound/2, 10000))\n",
    "        \n",
    "    counter += 1\n",
    "\n",
    "print('')\n",
    "print(f'= End at generation {counter} =')\n",
    "print(f'{min(scores) > 0.01}, {counter < max_iter}')\n",
    "scores = fitness(pop)\n",
    "print(min(scores))\n",
    "p = pop[np.argmin(scores)]\n",
    "print(f'v={np.format_float_scientific(findSolutionV2D(cp_bound/2, 10000),2)}')\n",
    "\n",
    "    "
   ]
  },
  {
   "cell_type": "code",
   "execution_count": null,
   "id": "7a5a1d8e-f116-4475-94f5-57e38acfb329",
   "metadata": {},
   "outputs": [],
   "source": [
    "from matplotlib.ticker import PercentFormatter\n",
    "\n",
    "v_track = np.array(v_track)\n",
    "plt.figure()\n",
    "plt.plot(v_track,'.',c='b',label='best v value of generation')\n",
    "plt.plot(v_track*0+target,c='r',label=(f'v={target}'))\n",
    "#plt.plot(v_track*0+target+cp_bound[0,1],c='y',label=('bound'))\n",
    "#plt.plot(v_track*0+target-cp_bound[0,0],c='y')\n",
    "plt.xlim(0,v_track.size)\n",
    "plt.xlabel('# generations')\n",
    "plt.ylabel('v')\n",
    "plt.legend()\n",
    "plt.show()\n",
    "print(f'v={np.mean(v_track[int(0.75*v_track.size):])}')\n",
    "\n",
    "\n",
    "\n",
    "plt.figure()\n",
    "plt.hist(v_track, weights=np.ones(len(v_track)) / len(v_track), bins=16, range=(-0.4,0.4), rwidth=0.8)\n",
    "plt.xlabel('v')\n",
    "plt.ylabel('%')\n",
    "plt.xticks(np.arange(-0.4, 0.45, 0.05), rotation=90)\n",
    "plt.gca().yaxis.set_major_formatter(PercentFormatter(1))\n",
    "plt.ylim(0,1)\n",
    "plt.title(f'Last {v_track.size} generations (100%)')\n",
    "plt.show()\n",
    "\n",
    "plt.figure()\n",
    "plt.hist(v_track[int(0.25*v_track.size):], weights=np.ones(len(v_track[int(0.25*v_track.size):])) / len(v_track[int(0.25*v_track.size):]), bins=16, range=(-0.4,0.4), rwidth=0.8)\n",
    "plt.xlabel('v')\n",
    "plt.ylabel('%')\n",
    "plt.xticks(np.arange(-0.4, 0.45, 0.05), rotation=90)\n",
    "plt.gca().yaxis.set_major_formatter(PercentFormatter(1))\n",
    "plt.ylim(0,1)\n",
    "plt.title(f'Last {int(0.75*v_track.size):} generations (75%)')\n",
    "plt.show()\n",
    "\n",
    "plt.figure()\n",
    "plt.hist(v_track[int(0.5*v_track.size):], weights=np.ones(len(v_track[int(0.5*v_track.size):])) / len(v_track[int(0.5*v_track.size):]), bins=16, range=(-0.4,0.4), rwidth=0.8)\n",
    "plt.xlabel('v')\n",
    "plt.ylabel('%')\n",
    "plt.xticks(np.arange(-0.4, 0.45, 0.05), rotation=90)\n",
    "plt.gca().yaxis.set_major_formatter(PercentFormatter(1))\n",
    "plt.ylim(0,1)\n",
    "plt.title(f'Last {int(0.5*v_track.size):} generations (50%)')\n",
    "plt.show()\n",
    "\n",
    "plt.figure()\n",
    "plt.hist(v_track[int(0.75*v_track.size):], weights=np.ones(len(v_track[int(0.75*v_track.size):])) / len(v_track[int(0.75*v_track.size):]), bins=16, range=(-0.4,0.4), rwidth=0.8)\n",
    "plt.xlabel('v')\n",
    "plt.ylabel('%')\n",
    "plt.xticks(np.arange(-0.4, 0.45, 0.05), rotation=90)\n",
    "plt.gca().yaxis.set_major_formatter(PercentFormatter(1))\n",
    "plt.ylim(0,1)\n",
    "plt.title(f'Last {int(0.25*v_track.size):} generations (25%)')\n",
    "plt.show()\n",
    "\n",
    "plt.figure()\n",
    "plt.hist(v_track[int(0.95*v_track.size):], weights=np.ones(len(v_track[int(0.95*v_track.size):])) / len(v_track[int(0.95*v_track.size):]), bins=16, range=(-0.4,0.4), rwidth=0.8)\n",
    "plt.xlabel('v')\n",
    "plt.ylabel('%')\n",
    "plt.xticks(np.arange(-0.4, 0.45, 0.05), rotation=90)\n",
    "plt.gca().yaxis.set_major_formatter(PercentFormatter(1))\n",
    "plt.ylim(0,1)\n",
    "plt.title(f'Last {int(0.05*v_track.size):} generations (5%)')\n",
    "plt.show()"
   ]
  },
  {
   "cell_type": "code",
   "execution_count": null,
   "id": "d0c6c26f-4201-47a6-8873-5df01d73bc73",
   "metadata": {},
   "outputs": [],
   "source": [
    "# 15x15 cp, offset 4 no lm_reduce, done in 948 gen., vals [0, 0.2]\n",
    "# 15x15 cp, offset 4 with lm_reduce, done in 306 gen., vals [-0.1, 0.2]\n",
    "# 15x15 cp, offset 3 no lm_reduce, done in 198 gen., vals [-0.1, 0.2]\n",
    "\n",
    "# bounds to 3/4bound --> homes in on -0.064"
   ]
  }
 ],
 "metadata": {
  "kernelspec": {
   "display_name": "Python 3",
   "language": "python",
   "name": "python3"
  },
  "language_info": {
   "codemirror_mode": {
    "name": "ipython",
    "version": 3
   },
   "file_extension": ".py",
   "mimetype": "text/x-python",
   "name": "python",
   "nbconvert_exporter": "python",
   "pygments_lexer": "ipython3",
   "version": "3.8.8"
  }
 },
 "nbformat": 4,
 "nbformat_minor": 5
}
