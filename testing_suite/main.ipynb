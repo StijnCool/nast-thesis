{
 "cells": [
  {
   "cell_type": "code",
   "execution_count": 1,
   "id": "ded7ade7-be2d-43cf-81ed-89355b09ba0b",
   "metadata": {},
   "outputs": [],
   "source": [
    "import sys\n",
    "sys.dont_write_bytecode = True\n",
    "import numpy as np\n",
    "from testing_suite import *\n",
    "from parameters import *\n",
    "import functions as fcn"
   ]
  },
  {
   "cell_type": "code",
   "execution_count": 2,
   "id": "3c3ec9b2-f974-4ae6-8772-8b602dd4a059",
   "metadata": {},
   "outputs": [],
   "source": [
    "theory_parameters = Parameters(code='T', beta_functions=None, fixed_point=None, true_result=0.15, linear_generating_function=None)\n",
    "meta_parameters = Parameters(code='M', collocation_point_numbers=None, collocation_point_bounds=None, basis_functions=None, basis_functions_derivatives=None, fix_parameters=None, population_size=None, algorithm=None)\n",
    "control_parameters = Parameters(code='C', fitness_function=None, selection=None, mutation=None, crossover=None, iteration_cap=5000)"
   ]
  },
  {
   "cell_type": "code",
   "execution_count": 3,
   "id": "42b5241c-b2b9-4a8b-b78e-497c711d3aa2",
   "metadata": {},
   "outputs": [
    {
     "name": "stdout",
     "output_type": "stream",
     "text": [
      "{'small': 10, 'functions': 2, 'medium': 6, 'result': 1, 'large': 5}\n",
      "600\n"
     ]
    }
   ],
   "source": [
    "def add(a,b):\n",
    "    return a+b\n",
    "\n",
    "def mul(a,b):\n",
    "    return a*b\n",
    "\n",
    "test_parameters = Parameters(code='Z', small=np.arange(1,11), medium=np.arange(0,120,20), large=np.arange(0,1250,250), result=0.15, functions=np.array([add, mul]))\n",
    "print(test_parameters.get_option_counts())\n",
    "print(test_parameters.get_combination_number())\n"
   ]
  },
  {
   "cell_type": "code",
   "execution_count": null,
   "id": "c3242682-4ce7-436d-baa9-c4328513e87e",
   "metadata": {},
   "outputs": [],
   "source": []
  }
 ],
 "metadata": {
  "kernelspec": {
   "display_name": "Python 3",
   "language": "python",
   "name": "python3"
  },
  "language_info": {
   "codemirror_mode": {
    "name": "ipython",
    "version": 3
   },
   "file_extension": ".py",
   "mimetype": "text/x-python",
   "name": "python",
   "nbconvert_exporter": "python",
   "pygments_lexer": "ipython3",
   "version": "3.8.8"
  }
 },
 "nbformat": 4,
 "nbformat_minor": 5
}
