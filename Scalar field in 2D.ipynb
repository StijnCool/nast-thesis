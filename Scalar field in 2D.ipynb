{
 "cells": [
  {
   "cell_type": "markdown",
   "id": "e87030aa-17cd-4627-aa64-3037cdae38d7",
   "metadata": {},
   "source": [
    "Conventions <br>\n",
    "$ \\alpha_1 \\rightarrow \\texttt{alpha1},\\quad \n",
    "\\alpha_u \\rightarrow \\texttt{alpha\\_u},\\quad \n",
    "\\alpha_* \\rightarrow \\texttt{alpha\\_fp} $ <br>\n",
    "$ \\tilde{\\alpha}_1 \\rightarrow \\texttt{Alpha1},\\quad \n",
    "\\tilde{\\alpha}_u \\rightarrow \\texttt{Alpha\\_u},\\quad \n",
    "\\tilde{\\alpha}_* \\rightarrow \\texttt{Alpha\\_fp} $ <br>"
   ]
  },
  {
   "cell_type": "code",
   "execution_count": 1,
   "id": "8c5adf14-6c97-4f30-9963-87e78d5420a4",
   "metadata": {
    "editable": true,
    "slideshow": {
     "slide_type": ""
    },
    "tags": [
     "raise-exceptions"
    ]
   },
   "outputs": [
    {
     "name": "stderr",
     "output_type": "stream",
     "text": [
      "C:\\Users\\Stijn Hennissen\\AppData\\Local\\Programs\\Python\\Python39\\lib\\site-packages\\scipy\\__init__.py:138: UserWarning: A NumPy version >=1.16.5 and <1.23.0 is required for this version of SciPy (detected version 1.26.4)\n",
      "  warnings.warn(f\"A NumPy version >={np_minversion} and <{np_maxversion} is required for this version of \"\n"
     ]
    }
   ],
   "source": [
    "## imports\n",
    "import math\n",
    "import numpy as np\n",
    "import matplotlib.pyplot as plt\n",
    "import seaborn as sns\n",
    "import pandas as pd"
   ]
  },
  {
   "cell_type": "markdown",
   "id": "a2598057-6254-4b67-a2dc-d90d8e8915e8",
   "metadata": {},
   "source": [
    "Beta functions\n",
    "$$ \\beta_u = 2u-\\frac{3u^3}{2\\pi (v+u)^3},\\quad \\beta_v = -\\frac{u^2(7v+u)}{r\\pi (v+u)^3} $$"
   ]
  },
  {
   "cell_type": "code",
   "execution_count": 2,
   "id": "32b4ee2d-20b7-497a-9225-560c748bae22",
   "metadata": {
    "editable": true,
    "slideshow": {
     "slide_type": ""
    },
    "tags": []
   },
   "outputs": [],
   "source": [
    "## beta functions\n",
    "def beta(u, v):\n",
    "    return np.array([2*u - 3*u**3 / (2*math.pi*(v + u)**3), -u**2*(7*v + u) / (4*math.pi*(v + u)**3)])"
   ]
  },
  {
   "cell_type": "markdown",
   "id": "a18096d4-55f9-4770-b003-5a38f8f11e70",
   "metadata": {},
   "source": [
    "NGFP\n",
    "$$ (u_*,v_*) = (\\frac{343}{288\\pi},-\\frac{49}{288\\pi}) $$"
   ]
  },
  {
   "cell_type": "code",
   "execution_count": 3,
   "id": "b0473b2a-63d3-4412-9ed2-e7bbd281b044",
   "metadata": {},
   "outputs": [],
   "source": [
    "## NGFP (beta functions = 0)\n",
    "fp = np.array([343/(288*math.pi), -49/(288*math.pi)])"
   ]
  },
  {
   "cell_type": "markdown",
   "id": "7c8c32e0-cc8d-46b7-a5f3-4f757f96e668",
   "metadata": {},
   "source": [
    "Stability coefficients\n",
    "$$ \\theta_1 = \\frac{1}{3}(1+\\sqrt{43}),\\quad \\tilde{\\theta}_1 = \\frac{1}{3}(1-\\sqrt{43}) $$"
   ]
  },
  {
   "cell_type": "code",
   "execution_count": 4,
   "id": "fb9eb7ba-20c8-4f70-8f8a-0b8c89ad60dd",
   "metadata": {},
   "outputs": [],
   "source": [
    "## stability coefficients (eigenvalues)\n",
    "theta1 = 1/3*(1 + 43**0.5)\n",
    "Theta1 = 1/3*(1 - 43**0.5)"
   ]
  },
  {
   "cell_type": "markdown",
   "id": "6c5b8584-b438-4c66-b5cd-4e19a9ec28fa",
   "metadata": {},
   "source": [
    "Eigenvectors\n",
    "$$ V_1 = \\Big( \\frac{1}{21}(8+\\sqrt{43}),1 \\Big)^T,\\quad \\tilde{V}_1 = \\Big( \\frac{1}{21}(8-\\sqrt{43}),1 \\Big)^T $$"
   ]
  },
  {
   "cell_type": "code",
   "execution_count": 5,
   "id": "994b40b2-e0e5-4c8c-ac45-ab8f5fcf8d45",
   "metadata": {},
   "outputs": [],
   "source": [
    "## eigenvectors\n",
    "ev1 = np.array([1/21*(8 + 43**0.5),1]).transpose()\n",
    "Ev1 = np.array([1/21*(8 - 43**0.5),1]).transpose()"
   ]
  },
  {
   "cell_type": "markdown",
   "id": "4809e80b-1b1d-4ff4-816e-06c5ac593ba2",
   "metadata": {},
   "source": [
    "Linear generating function\n",
    "$$ F^*(u,v) = (172-137\\sqrt{43})u + (215+44\\sqrt{43})v + \\frac{49(1003\\sqrt{43}-989)}{288\\pi} $$"
   ]
  },
  {
   "cell_type": "code",
   "execution_count": 6,
   "id": "077abde8-c629-4bb9-8e33-5b3c295ea127",
   "metadata": {},
   "outputs": [],
   "source": [
    "## linear generating function\n",
    "def F_fp(u,v):\n",
    "    return (172 - 137*43**0.5)*u + (215 + 137*43**0.5)*v + 49*(1003*43**0.5 - 989)/(288*math.pi)"
   ]
  },
  {
   "cell_type": "code",
   "execution_count": 45,
   "id": "46302d7a-b18a-4306-bcdc-9dbc999f2389",
   "metadata": {},
   "outputs": [
    {
     "data": {
      "image/png": "[encoded data removed]",
      "text/plain": [
       "<Figure size 640x480 with 1 Axes>"
      ]
     },
     "metadata": {},
     "output_type": "display_data"
    }
   ],
   "source": [
    "## generate grid of colocation points\n",
    "nu, nv = (5, 5)\n",
    "u = np.linspace(fp[0]-0.4, fp[0]+0.4, nu)\n",
    "v = np.linspace(fp[1]-0.4, fp[1]+0.4, nv)\n",
    "ug, vg = np.meshgrid(u, v)\n",
    "N_p = nu*nv\n",
    "\n",
    "# smoothness factor\n",
    "sigma = 0.8/nu\n",
    "\n",
    "# highlight test (v,u)\n",
    "hl = np.array([0,1])\n",
    "\n",
    "# plot colocation points\n",
    "fig_grid = plt.figure()\n",
    "ax_grid = fig_grid.add_subplot()\n",
    "plt.plot(ug, vg, marker='o', color='k', linestyle='none')\n",
    "plt.plot(fp[0], fp[1], marker='x', color='y')\n",
    "plt.plot(ug[hl[0],hl[1]], vg[hl[0],hl[1]], marker='o', color='b')\n",
    "ax_grid.set_aspect('equal', adjustable='box')\n",
    "plt.show()"
   ]
  },
  {
   "cell_type": "markdown",
   "id": "fb8a2afa-d760-4b9e-a1ec-982c267dd272",
   "metadata": {},
   "source": [
    "Basis functions (Multivariate Cauchy Distributions)\n",
    "$$ \\psi_i(u,v) = \\Bigg( 1 + \\sum_{\\alpha}\\frac{(u^{\\alpha}-u^{\\alpha}_{c,i})^2}{\\sigma^2} + \\sum_{\\mu}\\frac{(v^{\\mu}-v^{\\mu}_{c,i})^2}{\\sigma^2} \\Bigg)^{-1} $$"
   ]
  },
  {
   "cell_type": "code",
   "execution_count": 59,
   "id": "94797bf9-668b-4901-9cbf-86820eff63fa",
   "metadata": {},
   "outputs": [],
   "source": [
    "## generate less basis functions than colocation points\n",
    "\n",
    "def idToCoord(id):\n",
    "    # maps a 1D array of collocation point ids [0,...,N_p-1] to the coordinates on the grid\n",
    "    # 4 9 14 19 24    4,0 4,1 4,2 4,3 4,4\n",
    "    # 3 8 13 18 23    3,0 3,1 3,2 3,3 3,4\n",
    "    # 2 7 12 17 22 -> 2,0 2,1 2,2 2,3 2,4\n",
    "    # 1 6 11 16 21    1,0 1,1 1,2 1,3 1,4\n",
    "    # 0 5 10 15 20    0,0 0,1 0,2 0,3 0,4\n",
    "    return np.array([np.array([int(i%nu), int((i-(i%nu))/nu)]) for i in id])\n",
    "\n",
    "def psi(jd, u, v):\n",
    "    # returns basis functions for a 1D array of colocation point jds\n",
    "    U = u*np.ones(jd.size)\n",
    "    V = v*np.ones(jd.size)\n",
    "    J = idToCoord(jd)\n",
    "    return 1/(1 + np.square(U - ug[J[:,0],J[:,1]])/sigma**2 + np.square(V - vg[J[:,0],J[:,1]])/sigma**2)\n",
    "\n",
    "def psi_i(jd, i):\n",
    "    # returns basis functions for a 1D array of colocation point jds\n",
    "    I = idToCoord(np.array([i]))\n",
    "    return psi(jd, ug[I[0,0],I[0,1]], vg[I[0,0],I[0,1]])\n",
    "\n",
    "#plt.figure()\n",
    "#sns.heatmap(np.array([[psi(i+nu*j, fp[0], fp[1]) for i in range(0,nu)] for j in range(0,nv)]))"
   ]
  },
  {
   "cell_type": "markdown",
   "id": "dda2e746-0944-4011-a839-947842a339ca",
   "metadata": {},
   "source": [
    "$$ \\frac{\\partial \\psi_i}{\\partial u^{\\alpha}} = -2 \\psi_i(u,v)^2 \\sum_{\\alpha} (u^{\\alpha}-u^{\\alpha}_{c,i}),\\quad \\frac{\\partial \\psi_i}{\\partial v^{\\mu}} = -2 \\psi_i(u,v)^2 \\sum_{\\mu} (v^{\\mu}-v^{\\mu}_{c,i}) \\quad ????????$$"
   ]
  },
  {
   "cell_type": "code",
   "execution_count": 57,
   "id": "8b05be6b-36ce-402b-8be5-65660772c658",
   "metadata": {},
   "outputs": [],
   "source": [
    "## calculate derivatives of basis functions\n",
    "\n",
    "def dpsi(jd, u, v):\n",
    "    # returns derivatives of basis functions for a 1D array of colocation point jds\n",
    "    U = u*np.ones(jd.size)\n",
    "    V = v*np.ones(jd.size)\n",
    "    J = idToCoord(jd)\n",
    "    return np.array([ -2*(U - ug[J[:,0],J[:,1]])*np.square(psi(jd, u, v)), -2*(V - vg[J[:,0],J[:,1]])*np.square(psi(jd, u, v)) ])\n",
    "\n",
    "def dpsi_i(jd, i):\n",
    "    # returns derivatives of basis functions for a 1D array of colocation point jds\n",
    "    I = idToCoord(np.array([i]))\n",
    "    return dpsi(jd, ug[I[0,0],I[0,1]], vg[I[0,0],I[0,1]])\n",
    "\n",
    "#sns.heatmap(np.array([[dpsi(i+nu*j, fp[0], fp[1])[0] for i in range(0,nu)] for j in range(0,nv)]))\n",
    "#plt.figure()\n",
    "#sns.heatmap(np.array([[dpsi(i+nu*j, fp[0], fp[1])[1] for i in range(0,nu)] for j in range(0,nv)]))"
   ]
  },
  {
   "cell_type": "markdown",
   "id": "13f5b070-9cc9-4736-a486-4d0ff7fe0423",
   "metadata": {},
   "source": [
    "Generating function\n",
    "$$ F_{\\mu}(u,v) \\approx \\sum_{i=1}^{N} p_{\\mu,i} \\psi_i(u,v) $$"
   ]
  },
  {
   "cell_type": "markdown",
   "id": "f0c213d4-f548-4453-897a-4163b6f681a1",
   "metadata": {},
   "source": [
    "Master equation\n",
    "$$ \\sum_{\\alpha} \\frac{\\partial F_{\\mu}}{\\partial u^{\\alpha}} \\beta^{\\alpha} + \\sum_{\\nu} \\frac{\\partial F_{\\mu}}{\\partial v^{\\nu}} \\beta^{\\nu} \\Bigg\\rvert_{(u^{\\alpha}_{c,i},v^{\\nu}_{c,i})} = 0 $$"
   ]
  },
  {
   "cell_type": "code",
   "execution_count": 66,
   "id": "79ed2e7a-97ec-4c0b-ba28-ae70e71a9512",
   "metadata": {},
   "outputs": [],
   "source": [
    "## write master equation in terms of derivatives of basis functions\n",
    "jd = np.array(list(range(0,N_p,2)))\n",
    "N = jd.size\n",
    "p = np.random.rand(N)\n",
    "\n",
    "# precalculate psi; psi(i,j) for i'th colocation point evaluated in the j'th psi\n",
    "pc_psi = np.array([psi_i(jd,i) for i in range(0,N_p)])\n",
    "\n",
    "# precalculate dpsi; dpsi(i,2,j) for i'th colocation point evaluated in the j'th psi\n",
    "pc_dpsi = np.array([dpsi_i(jd,i) for i in range(0,N_p)])"
   ]
  },
  {
   "cell_type": "code",
   "execution_count": 70,
   "id": "2f86d8ba-d39a-4139-83a1-18ea3ff94963",
   "metadata": {},
   "outputs": [
    {
     "data": {
      "text/plain": [
       "<AxesSubplot:>"
      ]
     },
     "execution_count": 70,
     "metadata": {},
     "output_type": "execute_result"
    },
    {
     "data": {
      "image/png": "[encoded data removed]",
      "text/plain": [
       "<Figure size 640x480 with 2 Axes>"
      ]
     },
     "metadata": {},
     "output_type": "display_data"
    }
   ],
   "source": [
    "def F_i(i, p=p):\n",
    "    # generating function evaluated at i'th colocation point\n",
    "    return np.dot(p,pc_psi[i])\n",
    "\n",
    "def F(u, v, p=p):\n",
    "    # generating function evaluated at (u,v)\n",
    "    return np.dot(p,psi(jd,u,v))\n",
    "\n",
    "plt.figure()\n",
    "sns.heatmap(np.array([[F_i(i+nu*j) for i in range(0,nu)] for j in range(0,nv)]))"
   ]
  },
  {
   "cell_type": "code",
   "execution_count": 79,
   "id": "a4ffd63c-9681-460d-8cdf-99bc38c2e1c1",
   "metadata": {},
   "outputs": [
    {
     "data": {
      "text/plain": [
       "<AxesSubplot:>"
      ]
     },
     "execution_count": 79,
     "metadata": {},
     "output_type": "execute_result"
    },
    {
     "data": {
      "image/png": "[encoded data removed]",
      "text/plain": [
       "<Figure size 640x480 with 2 Axes>"
      ]
     },
     "metadata": {},
     "output_type": "display_data"
    },
    {
     "data": {
      "image/png": "[encoded data removed]",
      "text/plain": [
       "<Figure size 640x480 with 2 Axes>"
      ]
     },
     "metadata": {},
     "output_type": "display_data"
    }
   ],
   "source": [
    "def dF_i(i, p=p):\n",
    "    # derivative of generating function evaluated at i'th colocation point\n",
    "    return np.array([np.dot(p,pc_dpsi[i,0,:]), np.dot(p,pc_dpsi[i,1,:])])\n",
    "\n",
    "plt.figure()\n",
    "sns.heatmap(np.array([[dF_i(i+nu*j)[0] for i in range(0,nu)] for j in range(0,nv)]))\n",
    "plt.figure()\n",
    "sns.heatmap(np.array([[dF_i(i+nu*j)[1] for i in range(0,nu)] for j in range(0,nv)]))"
   ]
  },
  {
   "cell_type": "code",
   "execution_count": 82,
   "id": "4f1ee4e4-d32b-4162-92eb-7b1577e75453",
   "metadata": {},
   "outputs": [
    {
     "name": "stdout",
     "output_type": "stream",
     "text": [
      "2.8748754040605586\n"
     ]
    },
    {
     "data": {
      "image/png": "[encoded data removed]",
      "text/plain": [
       "<Figure size 640x480 with 2 Axes>"
      ]
     },
     "metadata": {},
     "output_type": "display_data"
    }
   ],
   "source": [
    "def master(i, p=p):\n",
    "    # master equation evaluated at i'th colocation point\n",
    "    I = I = idToCoord(np.array([i]))\n",
    "    pc_beta = beta(ug[I[0,0],I[0,1]],vg[I[0,0],I[0,1]])\n",
    "    pc_dF = dF_i(i)\n",
    "    return pc_beta[0]*pc_dF[0]+pc_beta[1]*pc_dF[1]\n",
    "\n",
    "plt.figure()\n",
    "sns.heatmap(np.array([[master(i+nu*j) for i in range(0,nu)] for j in range(0,nv)]))\n",
    "\n",
    "print(np.max(np.array([[master(i+nu*j) for i in range(0,nu)] for j in range(0,nv)])))\n",
    "\n",
    "for n in range(0,N_p):\n",
    "    m = master(n)\n",
    "    if m >= 100:\n",
    "        print(f'{idToCoord(n)} -> {m}')\n",
    "\n"
   ]
  },
  {
   "cell_type": "code",
   "execution_count": 25,
   "id": "3ccaafd4-94c1-430c-8c62-6c646315a577",
   "metadata": {},
   "outputs": [
    {
     "name": "stdout",
     "output_type": "stream",
     "text": [
      "[1. 1. 1. 1. 1. 1. 1. 1. 1. 1. 1. 1. 1. 1. 1. 1. 1. 1. 1. 1. 1. 1. 1. 1.\n",
      " 1. 1. 1. 1. 1. 1. 1. 1. 1. 1. 1. 1. 1. 1. 1. 1. 1. 1. 1. 1. 1. 1. 1. 1.\n",
      " 1. 1. 1. 1. 1. 1. 1. 1. 1. 1. 1. 1. 1. 1. 1. 1. 1. 1. 1. 1. 1. 1. 1. 1.\n",
      " 1. 1. 1. 1. 1. 1. 1. 1. 1. 1. 1. 1. 1. 1. 1. 1. 1. 1. 1. 1. 1. 1. 1. 1.\n",
      " 1. 1. 1. 1.]\n"
     ]
    }
   ],
   "source": [
    "## tune p s.t. all master equations go to 0\n",
    "pop_size = 100\n",
    "\n",
    "# initilize population\n",
    "pop = np.random.rand(pop_size, N_p)\n",
    "\n",
    "# fitness function\n",
    "def fitness(p):\n",
    "    val = 0.0\n",
    "    for i in range(0,N_p):\n",
    "        val += master(i,p)\n",
    "    return val\n",
    "\n",
    "# score each individual in the generation\n",
    "scores = [fitness(p) for p in pop]\n",
    "scores = scores/max(scores)\n",
    "print(scores)\n",
    "\n",
    "\n",
    "    "
   ]
  },
  {
   "cell_type": "code",
   "execution_count": null,
   "id": "25a587b2-df82-435d-ac5f-4c32ebbb0615",
   "metadata": {},
   "outputs": [],
   "source": [
    "# evaluate F(0,v) = 0 to find v\n",
    "\n",
    "# F_val = [print(f'v={V/100}, F={F2(0,V/100)}') for V in range(-50,50,1)]\n"
   ]
  },
  {
   "cell_type": "code",
   "execution_count": null,
   "id": "6f2890b6-dcce-4fbd-b9a1-88e0a771bab0",
   "metadata": {},
   "outputs": [],
   "source": []
  }
 ],
 "metadata": {
  "kernelspec": {
   "display_name": "Python 3 (ipykernel)",
   "language": "python",
   "name": "python3"
  },
  "language_info": {
   "codemirror_mode": {
    "name": "ipython",
    "version": 3
   },
   "file_extension": ".py",
   "mimetype": "text/x-python",
   "name": "python",
   "nbconvert_exporter": "python",
   "pygments_lexer": "ipython3",
   "version": "3.9.5"
  }
 },
 "nbformat": 4,
 "nbformat_minor": 5
}
