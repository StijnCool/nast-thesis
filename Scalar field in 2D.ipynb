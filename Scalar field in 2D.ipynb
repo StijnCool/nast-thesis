{
 "cells": [
  {
   "cell_type": "markdown",
   "id": "e87030aa-17cd-4627-aa64-3037cdae38d7",
   "metadata": {},
   "source": [
    "Conventions <br>\n",
    "$ \\alpha_1 \\rightarrow \\texttt{alpha1},\\quad \n",
    "\\alpha_u \\rightarrow \\texttt{alpha\\_u},\\quad \n",
    "\\alpha_* \\rightarrow \\texttt{alpha\\_fp} $ <br>\n",
    "$ \\tilde{\\alpha}_1 \\rightarrow \\texttt{Alpha1},\\quad \n",
    "\\tilde{\\alpha}_u \\rightarrow \\texttt{Alpha\\_u},\\quad \n",
    "\\tilde{\\alpha}_* \\rightarrow \\texttt{Alpha\\_fp} $ <br>"
   ]
  },
  {
   "cell_type": "code",
   "execution_count": 1,
   "id": "8c5adf14-6c97-4f30-9963-87e78d5420a4",
   "metadata": {},
   "outputs": [],
   "source": [
    "# imports\n",
    "import math\n",
    "import numpy as np\n",
    "import matplotlib.pyplot as plt"
   ]
  },
  {
   "cell_type": "markdown",
   "id": "a2598057-6254-4b67-a2dc-d90d8e8915e8",
   "metadata": {},
   "source": [
    "Beta functions\n",
    "$$ \\beta_u = 2u-\\frac{3u^3}{2\\pi (v+u)^3},\\quad \\beta_v = -\\frac{u^2(7v+u)}{r\\pi (v+u)^3} $$"
   ]
  },
  {
   "cell_type": "code",
   "execution_count": 2,
   "id": "32b4ee2d-20b7-497a-9225-560c748bae22",
   "metadata": {},
   "outputs": [],
   "source": [
    "# beta functions\n",
    "def beta_u(u, v):\n",
    "    return 2*u - 3*u**3 / (2*math.pi*(v + u)**3)\n",
    "\n",
    "def beta_v(u, v):\n",
    "    return -u**2*(7*v + u) / (4*math.pi*(v + u)**3)"
   ]
  },
  {
   "cell_type": "markdown",
   "id": "a18096d4-55f9-4770-b003-5a38f8f11e70",
   "metadata": {},
   "source": [
    "NGFP\n",
    "$$ (u_*,v_*) = (\\frac{343}{288\\pi},-\\frac{49}{288\\pi}) $$"
   ]
  },
  {
   "cell_type": "code",
   "execution_count": 10,
   "id": "b0473b2a-63d3-4412-9ed2-e7bbd281b044",
   "metadata": {},
   "outputs": [],
   "source": [
    "# NGFP\n",
    "fp = np.array([343/(288*math.pi), -49/(288*math.pi)])"
   ]
  },
  {
   "cell_type": "markdown",
   "id": "7c8c32e0-cc8d-46b7-a5f3-4f757f96e668",
   "metadata": {},
   "source": [
    "Stability coefficients\n",
    "$$ \\theta_1 = \\frac{1}{3}(1+\\sqrt{43}),\\quad \\tilde{\\theta}_1 = \\frac{1}{3}(1-\\sqrt{43}) $$"
   ]
  },
  {
   "cell_type": "code",
   "execution_count": 4,
   "id": "fb9eb7ba-20c8-4f70-8f8a-0b8c89ad60dd",
   "metadata": {},
   "outputs": [],
   "source": [
    "# stability coefficients\n",
    "theta1 = 1/3*(1 + 43**0.5)\n",
    "Theta1 = 1/3*(1 - 43**0.5)"
   ]
  },
  {
   "cell_type": "markdown",
   "id": "6c5b8584-b438-4c66-b5cd-4e19a9ec28fa",
   "metadata": {},
   "source": [
    "Eigenvectors\n",
    "$$ V_1 = \\Big( \\frac{1}{21}(8+\\sqrt{43}),1 \\Big)^T,\\quad \\tilde{V}_1 = \\Big( \\frac{1}{21}(8-\\sqrt{43}),1 \\Big)^T $$"
   ]
  },
  {
   "cell_type": "code",
   "execution_count": 5,
   "id": "994b40b2-e0e5-4c8c-ac45-ab8f5fcf8d45",
   "metadata": {},
   "outputs": [],
   "source": [
    "# eigenvectors\n",
    "ev1 = np.array([1/21*(8 + 43**0.5),1]).transpose()\n",
    "Ev1 = np.array([1/21*(8 - 43**0.5),1]).transpose()"
   ]
  },
  {
   "cell_type": "markdown",
   "id": "4809e80b-1b1d-4ff4-816e-06c5ac593ba2",
   "metadata": {},
   "source": [
    "Linear generating function\n",
    "$$ F^*(u,v) = (172-137\\sqrt{43})u + (215+44\\sqrt{43})v + \\frac{49(1003\\sqrt{43}-989)}{288\\pi} $$"
   ]
  },
  {
   "cell_type": "code",
   "execution_count": 6,
   "id": "077abde8-c629-4bb9-8e33-5b3c295ea127",
   "metadata": {},
   "outputs": [],
   "source": [
    "# linear generating function\n",
    "def F_fp(u,v):\n",
    "    return (172 - 137*43**0.5)*u + (215 + 137*43**0.5)*v + 49*(1003*43**0.5 - 989)/(288*math.pi)"
   ]
  },
  {
   "cell_type": "code",
   "execution_count": 18,
   "id": "46302d7a-b18a-4306-bcdc-9dbc999f2389",
   "metadata": {},
   "outputs": [
    {
     "data": {
      "image/png": "[encoded data removed]",
      "text/plain": [
       "<Figure size 640x480 with 1 Axes>"
      ]
     },
     "metadata": {},
     "output_type": "display_data"
    }
   ],
   "source": [
    "# generate grid of colocation points\n",
    "nu, nv = (5, 5)\n",
    "u = np.linspace(fp[0]-1, fp[0]+1, nu)\n",
    "v = np.linspace(fp[1]-1, fp[1]+1, nv)\n",
    "ug, vg = np.meshgrid(u, v)\n",
    "\n",
    "fig_grid = plt.figure()\n",
    "ax = fig_grid.add_subplot()\n",
    "plt.plot(ug, vg, marker='o', color='k', linestyle='none')\n",
    "plt.plot(fp[0], fp[1], marker='x', color='y')\n",
    "ax.set_aspect('equal', adjustable='box')\n",
    "plt.show()"
   ]
  },
  {
   "cell_type": "code",
   "execution_count": null,
   "id": "94797bf9-668b-4901-9cbf-86820eff63fa",
   "metadata": {},
   "outputs": [],
   "source": [
    "# generate one basis function per colocation point"
   ]
  },
  {
   "cell_type": "code",
   "execution_count": null,
   "id": "8b05be6b-36ce-402b-8be5-65660772c658",
   "metadata": {},
   "outputs": [],
   "source": [
    "# calculate derivatives of basis functions"
   ]
  },
  {
   "cell_type": "code",
   "execution_count": null,
   "id": "79ed2e7a-97ec-4c0b-ba28-ae70e71a9512",
   "metadata": {},
   "outputs": [],
   "source": [
    "# write master equation in terms of derivatives of basis functions"
   ]
  },
  {
   "cell_type": "code",
   "execution_count": null,
   "id": "3ccaafd4-94c1-430c-8c62-6c646315a577",
   "metadata": {},
   "outputs": [],
   "source": [
    "# plug each colocation point into the master equation, giving a system of N_p equations"
   ]
  }
 ],
 "metadata": {
  "kernelspec": {
   "display_name": "Python 3 (ipykernel)",
   "language": "python",
   "name": "python3"
  },
  "language_info": {
   "codemirror_mode": {
    "name": "ipython",
    "version": 3
   },
   "file_extension": ".py",
   "mimetype": "text/x-python",
   "name": "python",
   "nbconvert_exporter": "python",
   "pygments_lexer": "ipython3",
   "version": "3.9.5"
  }
 },
 "nbformat": 4,
 "nbformat_minor": 5
}
