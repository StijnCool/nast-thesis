{
 "cells": [
  {
   "cell_type": "code",
   "execution_count": 7,
   "id": "8c5adf14-6c97-4f30-9963-87e78d5420a4",
   "metadata": {},
   "outputs": [],
   "source": [
    "# imports\n",
    "import math\n",
    "import numpy as np"
   ]
  },
  {
   "cell_type": "code",
   "execution_count": 10,
   "id": "32b4ee2d-20b7-497a-9225-560c748bae22",
   "metadata": {},
   "outputs": [],
   "source": [
    "# beta functions\n",
    "def beta_u(u, v):\n",
    "    return 2*u - 3*u**3 / (2*math.pi*(v + u)**3)\n",
    "\n",
    "def beta_v(u, v):\n",
    "    return -u**2*(7*v + u) / (4*math.pi*(v + u)**3)"
   ]
  },
  {
   "cell_type": "code",
   "execution_count": 13,
   "id": "b0473b2a-63d3-4412-9ed2-e7bbd281b044",
   "metadata": {},
   "outputs": [],
   "source": [
    "# NGFP\n",
    "x_fp = np.array([343/(288*math.pi), -49/(288*math.pi)])"
   ]
  },
  {
   "cell_type": "code",
   "execution_count": null,
   "id": "fb9eb7ba-20c8-4f70-8f8a-0b8c89ad60dd",
   "metadata": {},
   "outputs": [],
   "source": []
  }
 ],
 "metadata": {
  "kernelspec": {
   "display_name": "Python 3 (ipykernel)",
   "language": "python",
   "name": "python3"
  },
  "language_info": {
   "codemirror_mode": {
    "name": "ipython",
    "version": 3
   },
   "file_extension": ".py",
   "mimetype": "text/x-python",
   "name": "python",
   "nbconvert_exporter": "python",
   "pygments_lexer": "ipython3",
   "version": "3.9.5"
  }
 },
 "nbformat": 4,
 "nbformat_minor": 5
}
